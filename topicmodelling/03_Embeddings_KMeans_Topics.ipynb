{
 "cells": [
  {
   "cell_type": "markdown",
   "id": "1288aec4",
   "metadata": {},
   "source": [
    "# Embeddings + KMeans Topic Mining\n"
   ]
  },
  {
   "cell_type": "markdown",
   "id": "07012031",
   "metadata": {},
   "source": [
    "## Step 0: Install & Imports"
   ]
  },
  {
   "cell_type": "code",
   "execution_count": null,
   "id": "7dfa41a9",
   "metadata": {},
   "outputs": [],
   "source": [
    "# !pip install sentence-transformers scikit-learn pandas\n",
    "import pandas as pd\n",
    "\n",
    "#Pretrained Transformer encoder to convert sentences/documents into embeddings (vectors that capture meaning).\n",
    "from sentence_transformers import SentenceTransformer\n",
    "\n",
    "#K-Means clustering algorithm.\n",
    "from sklearn.cluster import KMeans\n",
    "\n",
    "#Later used to pull top keywords per cluster.\n",
    "from sklearn.feature_extraction.text import CountVectorizer\n",
    "import numpy as np, os, random\n",
    "random.seed(42)"
   ]
  },
  {
   "cell_type": "markdown",
   "id": "a625cf6e",
   "metadata": {},
   "source": [
    "## Step 1: Load the CSV"
   ]
  },
  {
   "cell_type": "code",
   "execution_count": null,
   "id": "91292bd7",
   "metadata": {},
   "outputs": [],
   "source": [
    "csv_path = r\"/mnt/data/topics_100.csv\"\n",
    "df = pd.read_csv(csv_path)\n",
    "df.head()"
   ]
  },
  {
   "cell_type": "markdown",
   "id": "e1416bc8",
   "metadata": {},
   "source": [
    "## Step 2: Encode"
   ]
  },
  {
   "cell_type": "code",
   "execution_count": null,
   "id": "ac0ebc4b",
   "metadata": {},
   "outputs": [],
   "source": [
    "\n",
    "#Loads a light, fast sentence embedding model.\n",
    "#  It maps each text to a 384-dimensional vector (by default for this model).\n",
    "\n",
    "model = SentenceTransformer(\"sentence-transformers/all-MiniLM-L6-v2\")\n",
    "\n",
    "\n",
    "#batch_size=64: encodes in mini-batches (speed/memory tradeoff).\n",
    "#show_progress_bar=True: visual feedback while encoding.\n",
    "#normalize_embeddings=True: L2-normalizes vectors so cosine similarity ~ dot product; often stabilizes clustering.\n",
    "\n",
    "emb = model.encode(df[\"text\"].astype(str).tolist(),\n",
    "                   batch_size=64, show_progress_bar=True, normalize_embeddings=True)\n",
    "emb.shape"
   ]
  },
  {
   "cell_type": "markdown",
   "id": "bd236f3f",
   "metadata": {},
   "source": [
    "## Step 3: KMeans"
   ]
  },
  {
   "cell_type": "code",
   "execution_count": null,
   "id": "7ad9a53f",
   "metadata": {},
   "outputs": [],
   "source": [
    "k = 10\n",
    "kmeans = KMeans(n_clusters=k, n_init=\"auto\", random_state=42)\n",
    "labels = kmeans.fit_predict(emb)\n",
    "df[\"cluster\"] = labels\n",
    "df.head()"
   ]
  },
  {
   "cell_type": "markdown",
   "id": "fe22165a",
   "metadata": {},
   "source": [
    "## Step 4: Cluster Keywords"
   ]
  },
  {
   "cell_type": "code",
   "execution_count": null,
   "id": "d870ab71",
   "metadata": {},
   "outputs": [],
   "source": [
    "def keywords_for_cluster(texts, topn=12):\n",
    "    vec = CountVectorizer(stop_words=\"english\", max_features=5000, ngram_range=(1,2), min_df=2)\n",
    "    X = vec.fit_transform(texts)\n",
    "    freqs = np.asarray(X.sum(axis=0)).ravel()\n",
    "    terms = vec.get_feature_names_out()\n",
    "    idx = freqs.argsort()[-topn:][::-1]\n",
    "    return [terms[i] for i in idx]\n",
    "\n",
    "for c in range(k):\n",
    "    docs_c = df.loc[df[\"cluster\"] == c, \"text\"].tolist()\n",
    "    if len(docs_c) == 0:\n",
    "        print(f\"Cluster {c}: (no docs)\")\n",
    "    else:\n",
    "        print(f\"Cluster {c}: \" + \", \".join(keywords_for_cluster(docs_c, topn=12)))"
   ]
  },
  {
   "cell_type": "markdown",
   "id": "271f8aad",
   "metadata": {},
   "source": [
    "## Step 5: Save"
   ]
  },
  {
   "cell_type": "code",
   "execution_count": null,
   "id": "257b2dba",
   "metadata": {},
   "outputs": [],
   "source": [
    "df.to_csv(\"embeddings_kmeans_topics_assigned.csv\", index=False)\n",
    "df.head()"
   ]
  }
 ],
 "metadata": {
  "kernelspec": {
   "display_name": "Python 3",
   "language": "python",
   "name": "python3"
  },
  "language_info": {
   "codemirror_mode": {
    "name": "ipython",
    "version": 3
   },
   "file_extension": ".py",
   "mimetype": "text/x-python",
   "name": "python",
   "nbconvert_exporter": "python",
   "pygments_lexer": "ipython3",
   "version": "3.12.5"
  }
 },
 "nbformat": 4,
 "nbformat_minor": 5
}
