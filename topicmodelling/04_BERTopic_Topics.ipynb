{
 "cells": [
  {
   "cell_type": "markdown",
   "id": "64c249bb",
   "metadata": {},
   "source": [
    "# BERTopic Topic Modeling\n"
   ]
  },
  {
   "cell_type": "markdown",
   "id": "f2c6a89a",
   "metadata": {},
   "source": [
    "## Step 0: Install & Imports"
   ]
  },
  {
   "cell_type": "code",
   "execution_count": null,
   "id": "645b8fb8",
   "metadata": {},
   "outputs": [],
   "source": [
    "#!pip3 install bertopic sentence-transformers pandas\n",
    "import pandas as pd\n",
    "from bertopic import BERTopic"
   ]
  },
  {
   "cell_type": "markdown",
   "id": "ff771e6c",
   "metadata": {},
   "source": [
    "## Step 1: Load the CSV"
   ]
  },
  {
   "cell_type": "code",
   "execution_count": null,
   "id": "d2ebfb9d",
   "metadata": {},
   "outputs": [],
   "source": [
    "csv_path = r\"topics_100.csv\"\n",
    "df = pd.read_csv(csv_path)\n",
    "df.head()"
   ]
  },
  {
   "cell_type": "markdown",
   "id": "ff1473e1",
   "metadata": {},
   "source": [
    "## Step 2: Fit BERTopic"
   ]
  },
  {
   "cell_type": "code",
   "execution_count": null,
   "id": "4ce04ec4",
   "metadata": {},
   "outputs": [],
   "source": [
    "docs = df[\"text\"].astype(str).tolist()\n",
    "topic_model = BERTopic(verbose=True)\n",
    "topics, probs = topic_model.fit_transform(docs)\n",
    "len(set([t for t in topics if t != -1]))"
   ]
  },
  {
   "cell_type": "markdown",
   "id": "ce10dd5e",
   "metadata": {},
   "source": [
    "## Step 3: Inspect Topics"
   ]
  },
  {
   "cell_type": "code",
   "execution_count": null,
   "id": "513eb3d4",
   "metadata": {},
   "outputs": [],
   "source": [
    "info = topic_model.get_topic_info()\n",
    "info.head(15)"
   ]
  },
  {
   "cell_type": "markdown",
   "id": "6cba8153",
   "metadata": {},
   "source": [
    "## Step 4: Top Words of a Topic"
   ]
  },
  {
   "cell_type": "code",
   "execution_count": null,
   "id": "43f36813",
   "metadata": {},
   "outputs": [],
   "source": [
    "first_topic = info.iloc[1][\"Topic\"] if info.iloc[0][\"Topic\"] == -1 else info.iloc[0][\"Topic\"]\n",
    "topic_model.get_topic(first_topic)"
   ]
  },
  {
   "cell_type": "markdown",
   "id": "f7c07607",
   "metadata": {},
   "source": [
    "## Step 5: Save"
   ]
  },
  {
   "cell_type": "code",
   "execution_count": null,
   "id": "1082a283",
   "metadata": {},
   "outputs": [],
   "source": [
    "df[\"topic\"] = topics\n",
    "df.to_csv(\"bertopic_topics_assigned.csv\", index=False)\n",
    "df.head()"
   ]
  },
  {
   "cell_type": "markdown",
   "id": "945159f0",
   "metadata": {},
   "source": [
    "## Step 6: Optional Visualizations"
   ]
  },
  {
   "cell_type": "code",
   "execution_count": null,
   "id": "b0137365",
   "metadata": {},
   "outputs": [],
   "source": [
    "# topic_model.visualize_topics()\n",
    "# topic_model.visualize_hierarchy()\n",
    "# topic_model.visualize_barchart()\n",
    "# topic_model.visualize_documents(docs)"
   ]
  }
 ],
 "metadata": {
  "kernelspec": {
   "display_name": "Python 3",
   "language": "python",
   "name": "python3"
  },
  "language_info": {
   "codemirror_mode": {
    "name": "ipython",
    "version": 3
   },
   "file_extension": ".py",
   "mimetype": "text/x-python",
   "name": "python",
   "nbconvert_exporter": "python",
   "pygments_lexer": "ipython3",
   "version": "3.12.5"
  }
 },
 "nbformat": 4,
 "nbformat_minor": 5
}
