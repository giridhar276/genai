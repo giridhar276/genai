{
 "cells": [
  {
   "cell_type": "markdown",
   "id": "ced779ce",
   "metadata": {},
   "source": [
    "# NMF Topic Modeling (TF-IDF)\n"
   ]
  },
  {
   "cell_type": "markdown",
   "id": "8442584c",
   "metadata": {},
   "source": [
    "## Step 0: Install & Imports"
   ]
  },
  {
   "cell_type": "code",
   "execution_count": 1,
   "id": "2c56f6b5",
   "metadata": {},
   "outputs": [],
   "source": [
    "# !pip install scikit-learn pandas\n",
    "import pandas as pd\n",
    "from sklearn.feature_extraction.text import TfidfVectorizer\n",
    "from sklearn.decomposition import NMF\n",
    "import numpy as np, os, random\n",
    "random.seed(42)"
   ]
  },
  {
   "cell_type": "markdown",
   "id": "77a039f9",
   "metadata": {},
   "source": [
    "## Step 1: Load the CSV"
   ]
  },
  {
   "cell_type": "code",
   "execution_count": 2,
   "id": "c2736d96",
   "metadata": {},
   "outputs": [
    {
     "data": {
      "text/html": [
       "<div>\n",
       "<style scoped>\n",
       "    .dataframe tbody tr th:only-of-type {\n",
       "        vertical-align: middle;\n",
       "    }\n",
       "\n",
       "    .dataframe tbody tr th {\n",
       "        vertical-align: top;\n",
       "    }\n",
       "\n",
       "    .dataframe thead th {\n",
       "        text-align: right;\n",
       "    }\n",
       "</style>\n",
       "<table border=\"1\" class=\"dataframe\">\n",
       "  <thead>\n",
       "    <tr style=\"text-align: right;\">\n",
       "      <th></th>\n",
       "      <th>id</th>\n",
       "      <th>text</th>\n",
       "    </tr>\n",
       "  </thead>\n",
       "  <tbody>\n",
       "    <tr>\n",
       "      <th>0</th>\n",
       "      <td>79</td>\n",
       "      <td>IPv6 users cannot reach the upload endpoint</td>\n",
       "    </tr>\n",
       "    <tr>\n",
       "      <th>1</th>\n",
       "      <td>4</td>\n",
       "      <td>Login form shows captcha error even for first ...</td>\n",
       "    </tr>\n",
       "    <tr>\n",
       "      <th>2</th>\n",
       "      <td>55</td>\n",
       "      <td>Audit logs missing entries for sensitive actions</td>\n",
       "    </tr>\n",
       "    <tr>\n",
       "      <th>3</th>\n",
       "      <td>3</td>\n",
       "      <td>SSO login loops back to the sign-in page repea...</td>\n",
       "    </tr>\n",
       "    <tr>\n",
       "      <th>4</th>\n",
       "      <td>72</td>\n",
       "      <td>Corporate proxy strips authorization headers</td>\n",
       "    </tr>\n",
       "  </tbody>\n",
       "</table>\n",
       "</div>"
      ],
      "text/plain": [
       "   id                                               text\n",
       "0  79        IPv6 users cannot reach the upload endpoint\n",
       "1   4  Login form shows captcha error even for first ...\n",
       "2  55   Audit logs missing entries for sensitive actions\n",
       "3   3  SSO login loops back to the sign-in page repea...\n",
       "4  72       Corporate proxy strips authorization headers"
      ]
     },
     "execution_count": 2,
     "metadata": {},
     "output_type": "execute_result"
    }
   ],
   "source": [
    "csv_path = r\"topics_100.csv\"\n",
    "df = pd.read_csv(csv_path)\n",
    "df.head()"
   ]
  },
  {
   "cell_type": "markdown",
   "id": "ee7a9d85",
   "metadata": {},
   "source": [
    "## Step 2: TF-IDF"
   ]
  },
  {
   "cell_type": "code",
   "execution_count": 3,
   "id": "3ad9ff09",
   "metadata": {},
   "outputs": [
    {
     "data": {
      "text/plain": [
       "(100, 81)"
      ]
     },
     "execution_count": 3,
     "metadata": {},
     "output_type": "execute_result"
    }
   ],
   "source": [
    "vec = TfidfVectorizer(stop_words=\"english\", max_features=20000, min_df=2, ngram_range=(1,2))\n",
    "X = vec.fit_transform(df[\"text\"].astype(str).tolist())\n",
    "terms = vec.get_feature_names_out()\n",
    "X.shape"
   ]
  },
  {
   "cell_type": "markdown",
   "id": "f6740f64",
   "metadata": {},
   "source": [
    "## Step 3: Fit NMF"
   ]
  },
  {
   "cell_type": "code",
   "execution_count": 4,
   "id": "023d138e",
   "metadata": {},
   "outputs": [
    {
     "data": {
      "text/plain": [
       "((100, 10), (10, 81))"
      ]
     },
     "execution_count": 4,
     "metadata": {},
     "output_type": "execute_result"
    }
   ],
   "source": [
    "n_topics = 10\n",
    "nmf = NMF(n_components=n_topics, init=\"nndsvda\", random_state=42, max_iter=400)\n",
    "W = nmf.fit_transform(X)\n",
    "H = nmf.components_\n",
    "W.shape, H.shape"
   ]
  },
  {
   "cell_type": "markdown",
   "id": "f6eff97c",
   "metadata": {},
   "source": [
    "## Step 4: Top Words"
   ]
  },
  {
   "cell_type": "code",
   "execution_count": 5,
   "id": "d25208ad",
   "metadata": {},
   "outputs": [
    {
     "name": "stdout",
     "output_type": "stream",
     "text": [
      "Topic 0: login, logout, cause, mobile, error, page, sso, dashboard, token, alert, triggers, password\n",
      "Topic 1: fails, fields, missing, update, vpn, error, ip, devices, save, android, older, profile\n",
      "Topic 2: links, app, frequently, exported, mode, headers, csv, android, quickly, switching, mobile, large\n",
      "Topic 3: integration, does, sync, oauth, change, password, user, mode, save, link, reset, quickly\n",
      "Topic 4: report, pagination, charts, custom, emails, arrive, resets, save, fields, link, email, hours\n",
      "Topic 5: returns, api, file, requests, responses, match, webhooks, processed, events, card, payment, fails\n",
      "Topic 6: slowly, older, dashboard, hours, devices, android, email, arrive, events, switching, app, quickly\n",
      "Topic 7: shows, form, duplicate, error, email, invoice, sso, token, users, login, arrive, hours\n",
      "Topic 8: date, switching, resets, invoice, match, does, duplicate, android, quickly, responses, app, custom\n",
      "Topic 9: notifications, users, push, upload, events, mobile, mode, arrive, area, hours, token, email\n"
     ]
    }
   ],
   "source": [
    "def top_words_per_topic(H, terms, topn=12):\n",
    "    for k, row in enumerate(H):\n",
    "        top_idx = row.argsort()[-topn:][::-1]\n",
    "        print(f\"Topic {k}: \" + \", \".join(terms[i] for i in top_idx))\n",
    "top_words_per_topic(H, terms, topn=12)"
   ]
  },
  {
   "cell_type": "markdown",
   "id": "21519f84",
   "metadata": {},
   "source": [
    "## Step 5: Assign & Save"
   ]
  },
  {
   "cell_type": "code",
   "execution_count": null,
   "id": "ce9ef9c6",
   "metadata": {},
   "outputs": [],
   "source": [
    "df[\"dominant_topic\"] = W.argmax(axis=1)\n",
    "df.to_csv(\"nmf_topics_assigned.csv\", index=False)\n",
    "df.head()"
   ]
  }
 ],
 "metadata": {
  "kernelspec": {
   "display_name": "Python 3",
   "language": "python",
   "name": "python3"
  },
  "language_info": {
   "codemirror_mode": {
    "name": "ipython",
    "version": 3
   },
   "file_extension": ".py",
   "mimetype": "text/x-python",
   "name": "python",
   "nbconvert_exporter": "python",
   "pygments_lexer": "ipython3",
   "version": "3.12.5"
  }
 },
 "nbformat": 4,
 "nbformat_minor": 5
}
