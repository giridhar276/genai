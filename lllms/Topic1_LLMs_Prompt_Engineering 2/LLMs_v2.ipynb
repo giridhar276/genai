{
  "cells": [
    {
      "cell_type": "markdown",
      "metadata": {
        "id": "lDs9DRHeU0lA"
      },
      "source": [
        "#Packages"
      ]
    },
    {
      "cell_type": "code",
      "execution_count": null,
      "metadata": {
        "id": "fo9M10uMU5Ea"
      },
      "outputs": [],
      "source": [
        "import pandas as pd\n",
        "import numpy as np\n",
        "import matplotlib.pyplot as plt\n",
        "import seaborn as sns\n",
        "import plotly.express as px"
      ]
    },
    {
      "cell_type": "markdown",
      "metadata": {
        "id": "71ErFfpWi9nh"
      },
      "source": [
        "# LLMs Lab-1"
      ]
    },
    {
      "cell_type": "markdown",
      "metadata": {
        "id": "vGc-TSgxXaKJ"
      },
      "source": [
        "# Accessing OpenAI LLM through an API"
      ]
    },
    {
      "cell_type": "code",
      "execution_count": null,
      "metadata": {
        "colab": {
          "base_uri": "https://localhost:8080/"
        },
        "id": "PJMbqMOCYkTY",
        "outputId": "21dd9304-619e-4165-94c0-e5ca30c81c11"
      },
      "outputs": [],
      "source": [
        "!pip install OpenAI\n",
        "!pip install langchain\n",
        "!pip install langchain_community\n",
        "!pip install Cohere\n",
        "!pip install langchain-openai langchain-cohere python-dotenv"
      ]
    },
    {
      "cell_type": "code",
      "execution_count": null,
      "metadata": {
        "id": "k4c9gz6sXiKX"
      },
      "outputs": [],
      "source": [
        "import os\n",
        "import warnings\n",
        "warnings.filterwarnings('ignore')\n",
        "from google.colab import userdata\n"
      ]
    },
    {
      "cell_type": "code",
      "execution_count": null,
      "metadata": {
        "id": "vm_p7p2f0Tz1"
      },
      "outputs": [],
      "source": [
        "openai_key = userdata.get(\"OPENAI_API_KEY\")\n",
        "os.environ[\"OPENAI_API_KEY\"] = openai_key\n"
      ]
    },
    {
      "cell_type": "code",
      "execution_count": null,
      "metadata": {
        "id": "TNdgXtrZXu5_"
      },
      "outputs": [],
      "source": [
        "#from langchain.llms import OpenAI, Cohere\n",
        "from langchain_openai import OpenAI\n",
        "llm= OpenAI()\n"
      ]
    },
    {
      "cell_type": "code",
      "execution_count": null,
      "metadata": {
        "colab": {
          "base_uri": "https://localhost:8080/"
        },
        "id": "07Dqxcdr7u8X",
        "outputId": "540b4fcb-6c36-4fa2-81c2-252b24821486"
      },
      "outputs": [],
      "source": [
        "print(llm.invoke(\"How many minimum sleeping hours you should have?\"))"
      ]
    },
    {
      "cell_type": "code",
      "execution_count": null,
      "metadata": {
        "id": "Zb1Oq_DL7eaH"
      },
      "outputs": [],
      "source": []
    },
    {
      "cell_type": "code",
      "execution_count": null,
      "metadata": {
        "colab": {
          "base_uri": "https://localhost:8080/"
        },
        "id": "Umq0iTHh4zD5",
        "outputId": "47f92889-113e-47fb-e4b3-0c1808f81e1f"
      },
      "outputs": [],
      "source": [
        "print(llm.invoke(\"What is the sentiment of this review. Give one word answer Pos or Neg - The staff was friendly and helpful. I had a great experience with my loan officer.\"))"
      ]
    },
    {
      "cell_type": "markdown",
      "metadata": {
        "id": "g7XVPs1y7hBL"
      },
      "source": [
        "### creating list and converting to dataframe"
      ]
    },
    {
      "cell_type": "code",
      "execution_count": null,
      "metadata": {
        "id": "VYg-LmG7FDg7"
      },
      "outputs": [],
      "source": [
        "import pandas as pd\n",
        "\n",
        "# Create a list of log messages\n",
        "log_messages = [\n",
        "    \"Server started successfully\",\n",
        "    \"Low disk space\",\n",
        "    \"Database connection failed\",\n",
        "    \"Security breach detected\",\n",
        "    \"New feature released\",\n",
        "]\n",
        "\n",
        "# Create a DataFrame with 10 rows and 1 column\n",
        "df = pd.DataFrame(log_messages, columns=[\"Message\"])"
      ]
    },
    {
      "cell_type": "code",
      "execution_count": null,
      "metadata": {
        "id": "QmNRAj2IGDUe"
      },
      "outputs": [],
      "source": [
        "# Classify each log message using llm.invoke\n",
        "df[\"Sentiment\"] = df[\"Message\"].apply(lambda message: llm.invoke(f\"Classify the severity of this log message make give output as CRITICAL if the message is critical: {message}\"))"
      ]
    },
    {
      "cell_type": "code",
      "execution_count": null,
      "metadata": {
        "colab": {
          "base_uri": "https://localhost:8080/",
          "height": 206
        },
        "id": "ZSf-VSlNGUOg",
        "outputId": "0b4a690e-12fe-4739-868b-beded65227a1"
      },
      "outputs": [],
      "source": [
        "df"
      ]
    },
    {
      "cell_type": "markdown",
      "metadata": {
        "id": "Q66k6rTd5wCU"
      },
      "source": [
        "### reading from csv file and getting sentiments"
      ]
    },
    {
      "cell_type": "code",
      "execution_count": null,
      "metadata": {
        "id": "gptVi3Q25xk2"
      },
      "outputs": [],
      "source": [
        "import pandas as pd\n",
        "df = pd.read_csv(\"https://raw.githubusercontent.com/giridhar276/Datasets/refs/heads/main/moviesentiments/movie_reviews.csv\")"
      ]
    },
    {
      "cell_type": "code",
      "execution_count": null,
      "metadata": {
        "colab": {
          "base_uri": "https://localhost:8080/",
          "height": 426
        },
        "id": "rvbX_ghR5xqf",
        "outputId": "1b3b853b-b961-4c92-e923-ab6ac6f7059c"
      },
      "outputs": [],
      "source": [
        "df"
      ]
    },
    {
      "cell_type": "code",
      "execution_count": null,
      "metadata": {
        "id": "dcPv5-Un5xuU"
      },
      "outputs": [],
      "source": [
        "# Classify each log message using llm.invoke\n",
        "df[\"Sentiment\"] = df[\"review\"].apply(lambda message: llm.invoke(f\"Classify the sentiment of this  message make give output as positive or negative only: {message}\"))"
      ]
    },
    {
      "cell_type": "code",
      "execution_count": null,
      "metadata": {
        "colab": {
          "base_uri": "https://localhost:8080/",
          "height": 426
        },
        "id": "OnwWQNAs6Azq",
        "outputId": "06a36db0-9240-4942-f6aa-f2bb1f44275e"
      },
      "outputs": [],
      "source": [
        "df"
      ]
    },
    {
      "cell_type": "code",
      "execution_count": null,
      "metadata": {
        "id": "5E2gYxKB6qOo"
      },
      "outputs": [],
      "source": []
    },
    {
      "cell_type": "markdown",
      "metadata": {
        "id": "xDWQXXhf6sYZ"
      },
      "source": [
        "### specifying required model in openai"
      ]
    },
    {
      "cell_type": "code",
      "execution_count": null,
      "metadata": {
        "id": "RCM0xuG06qXM"
      },
      "outputs": [],
      "source": [
        "from langchain_openai import ChatOpenAI\n",
        "llm = ChatOpenAI(model=\"gpt-4o-mini\", temperature=0)\n"
      ]
    },
    {
      "cell_type": "code",
      "execution_count": null,
      "metadata": {
        "colab": {
          "base_uri": "https://localhost:8080/"
        },
        "id": "WjBRmtSw6qcd",
        "outputId": "166b3825-5fde-4986-c64e-bcd09305341a"
      },
      "outputs": [],
      "source": [
        "\n",
        "resp = llm.invoke(\"How many minimum sleeping hours should an adult have?\")\n",
        "print(resp.content)"
      ]
    },
    {
      "cell_type": "code",
      "execution_count": null,
      "metadata": {
        "id": "DkTAUcRm6qlx"
      },
      "outputs": [],
      "source": []
    },
    {
      "cell_type": "code",
      "execution_count": null,
      "metadata": {
        "id": "McH30y6z7nsG"
      },
      "outputs": [],
      "source": []
    },
    {
      "cell_type": "markdown",
      "metadata": {
        "id": "NN6zG3y12d5q"
      },
      "source": [
        "### using cohere"
      ]
    },
    {
      "cell_type": "code",
      "execution_count": null,
      "metadata": {
        "id": "Wahp6PKH2Qav"
      },
      "outputs": [],
      "source": [
        "\n",
        "cohere_key = userdata.get(\"COHERE_API_KEY\")\n",
        "os.environ[\"COHERE_API_KEY\"] = cohere_key"
      ]
    },
    {
      "cell_type": "code",
      "execution_count": null,
      "metadata": {
        "id": "gtIpTTKb2Qfv"
      },
      "outputs": [],
      "source": [
        "#from langchain.llms import OpenAI, Cohere\n",
        "from langchain_cohere import ChatCohere\n",
        "llm= ChatCohere()\n"
      ]
    },
    {
      "cell_type": "code",
      "execution_count": null,
      "metadata": {
        "colab": {
          "base_uri": "https://localhost:8080/"
        },
        "id": "dRO6vUd371nE",
        "outputId": "2e54cfbb-da7e-4f0f-ff19-045983e513ce"
      },
      "outputs": [],
      "source": [
        "print(llm.invoke(\"How many minimum sleeping hours you should have?\").content)"
      ]
    },
    {
      "cell_type": "code",
      "execution_count": null,
      "metadata": {
        "colab": {
          "base_uri": "https://localhost:8080/"
        },
        "id": "1UaeFW5M2Qjg",
        "outputId": "79d06647-fdd6-48de-a1e8-0fd5806869f4"
      },
      "outputs": [],
      "source": [
        "print(llm.invoke(\"What is the sentiment of this review. Give one word answer Pos or Neg - The staff was friendly and helpful. I had a great experience with my loan officer.\").content)"
      ]
    },
    {
      "cell_type": "markdown",
      "metadata": {
        "id": "CalATNfx73f-"
      },
      "source": [
        "### creating list and converting to dataframe reading from it"
      ]
    },
    {
      "cell_type": "code",
      "execution_count": null,
      "metadata": {
        "id": "ZDTHfrzz2Qm_"
      },
      "outputs": [],
      "source": [
        "import pandas as pd\n",
        "\n",
        "# Create a list of log messages\n",
        "log_messages = [\n",
        "    \"Server started successfully\",\n",
        "    \"Low disk space\",\n",
        "    \"Database connection failed\",\n",
        "    \"Security breach detected\",\n",
        "    \"New feature released\",\n",
        "]\n",
        "\n",
        "# Create a DataFrame with 10 rows and 1 column\n",
        "df = pd.DataFrame(log_messages, columns=[\"Message\"])"
      ]
    },
    {
      "cell_type": "code",
      "execution_count": null,
      "metadata": {
        "colab": {
          "base_uri": "https://localhost:8080/",
          "height": 206
        },
        "id": "QOmj8i_z3cP7",
        "outputId": "7f41ee32-aeb9-493f-d2fe-930e256be4c9"
      },
      "outputs": [],
      "source": [
        "df"
      ]
    },
    {
      "cell_type": "code",
      "execution_count": null,
      "metadata": {
        "id": "shbNEZzI55iZ"
      },
      "outputs": [],
      "source": []
    },
    {
      "cell_type": "markdown",
      "metadata": {
        "id": "OYIbV6nE3iTp"
      },
      "source": [
        "### reading from csv file and getting sentiments"
      ]
    },
    {
      "cell_type": "code",
      "execution_count": null,
      "metadata": {
        "id": "IUb3t06N3f1P"
      },
      "outputs": [],
      "source": [
        "import pandas as pd\n",
        "df = pd.read_csv(\"https://raw.githubusercontent.com/giridhar276/Datasets/refs/heads/main/moviesentiments/movie_reviews.csv\")"
      ]
    },
    {
      "cell_type": "code",
      "execution_count": null,
      "metadata": {
        "colab": {
          "base_uri": "https://localhost:8080/",
          "height": 426
        },
        "id": "_WvZ1-4n3_xk",
        "outputId": "45127eff-9f2f-4354-a7d3-35db692cdd10"
      },
      "outputs": [],
      "source": [
        "df"
      ]
    },
    {
      "cell_type": "code",
      "execution_count": null,
      "metadata": {
        "id": "7NAW_Uah39rq"
      },
      "outputs": [],
      "source": [
        "# Classify each log message using llm.invoke\n",
        "df[\"Sentiment\"] = df[\"review\"].apply(lambda message: llm.invoke(f\"Classify the sentiment of this  message make give output as positive or negative only: {message}\"))"
      ]
    },
    {
      "cell_type": "code",
      "execution_count": null,
      "metadata": {
        "colab": {
          "base_uri": "https://localhost:8080/",
          "height": 426
        },
        "id": "D4nR5VPO5Y61",
        "outputId": "1cfd4f39-c027-4563-9232-389a9f1a1c91"
      },
      "outputs": [],
      "source": [
        "df"
      ]
    },
    {
      "cell_type": "markdown",
      "metadata": {
        "id": "130Nprb18MSA"
      },
      "source": [
        "### specifying model in coher"
      ]
    },
    {
      "cell_type": "code",
      "execution_count": null,
      "metadata": {
        "colab": {
          "base_uri": "https://localhost:8080/"
        },
        "id": "fouuxoL08Pf_",
        "outputId": "ce2d095d-0fdd-4db4-afae-4e6004005242"
      },
      "outputs": [],
      "source": [
        "from langchain_cohere import ChatCohere\n",
        "cllm = ChatCohere(model=\"command-r-plus\", temperature=0.2)\n",
        "print(cllm.invoke(\"Answer in one line: minimum adult sleep hours?\").content)"
      ]
    },
    {
      "cell_type": "code",
      "execution_count": null,
      "metadata": {
        "id": "kHNFBxl56bhD"
      },
      "outputs": [],
      "source": []
    },
    {
      "cell_type": "code",
      "execution_count": null,
      "metadata": {
        "id": "QnhN_QbM9wvQ"
      },
      "outputs": [],
      "source": []
    },
    {
      "cell_type": "code",
      "execution_count": null,
      "metadata": {
        "id": "2ZLd6ypc9wzx"
      },
      "outputs": [],
      "source": []
    },
    {
      "cell_type": "code",
      "execution_count": null,
      "metadata": {
        "id": "zjwCmOWy9w5l"
      },
      "outputs": [],
      "source": []
    },
    {
      "cell_type": "code",
      "execution_count": null,
      "metadata": {
        "id": "7_sZkhET9w_Q"
      },
      "outputs": [],
      "source": []
    },
    {
      "cell_type": "markdown",
      "metadata": {
        "id": "r1TsTuJx93I5"
      },
      "source": [
        "### batch with concurrency (LangChain)"
      ]
    },
    {
      "cell_type": "code",
      "execution_count": null,
      "metadata": {
        "id": "rGltY5gg9xEP"
      },
      "outputs": [],
      "source": [
        "from langchain_core.prompts import ChatPromptTemplate\n",
        "import pandas as pd\n",
        "\n"
      ]
    },
    {
      "cell_type": "code",
      "execution_count": null,
      "metadata": {
        "id": "w6q8JYJQ96Nu"
      },
      "outputs": [],
      "source": [
        "df = pd.read_csv(\"https://raw.githubusercontent.com/giridhar276/Datasets/refs/heads/main/moviesentiments/movie_reviews.csv\")\n"
      ]
    },
    {
      "cell_type": "code",
      "execution_count": null,
      "metadata": {
        "id": "II63Zowc96SD"
      },
      "outputs": [],
      "source": [
        "# Keep the instruction out of the loop; send only the variable text per row\n",
        "prompt = ChatPromptTemplate.from_messages([\n",
        "    (\"system\", \"You are a strict sentiment classifier. \"\n",
        "               \"Return exactly 'positive' or 'negative' only.\"),\n",
        "    (\"human\", \"Text: {text}\\nLabel:\")\n",
        "])\n",
        "chain = prompt | llm\n"
      ]
    },
    {
      "cell_type": "code",
      "execution_count": null,
      "metadata": {
        "colab": {
          "base_uri": "https://localhost:8080/"
        },
        "id": "YOHEdnif96U7",
        "outputId": "5223a2e3-7dca-4cb9-e317-04adc402484c"
      },
      "outputs": [],
      "source": [
        "\n",
        "texts = df[\"review\"].astype(str).tolist()\n",
        "texts\n"
      ]
    },
    {
      "cell_type": "code",
      "execution_count": null,
      "metadata": {
        "id": "Ld_D8qfw-WS_"
      },
      "outputs": [],
      "source": [
        "\n",
        "# Batch requests; tune max_concurrency based on your rate limits (e.g., 5–10)\n",
        "outs = chain.batch([{\"text\": t} for t in texts], config={\"max_concurrency\": 8})\n"
      ]
    },
    {
      "cell_type": "code",
      "execution_count": null,
      "metadata": {
        "id": "qbDXGtLh-Wad"
      },
      "outputs": [],
      "source": [
        "\n",
        "labels = [o.content.strip().lower() for o in outs]\n",
        "df[\"Sentiment\"] = [\"positive\" if l.startswith(\"pos\") else \"negative\" for l in labels]\n"
      ]
    },
    {
      "cell_type": "code",
      "execution_count": null,
      "metadata": {
        "colab": {
          "base_uri": "https://localhost:8080/",
          "height": 426
        },
        "id": "Lbd3o7yr-WeN",
        "outputId": "c8ace85f-07d0-4d1a-e270-553a0a5c4645"
      },
      "outputs": [],
      "source": [
        "df"
      ]
    },
    {
      "cell_type": "code",
      "execution_count": null,
      "metadata": {
        "id": "kmDLNSMS-Wkn"
      },
      "outputs": [],
      "source": [
        "def classify(txt):\n",
        "    resp = llm.invoke(\n",
        "        \"You are a strict sentiment classifier. \"\n",
        "        \"Return exactly 'positive' or 'negative'.\\n\\n\"\n",
        "        f\"Text: {txt}\\nLabel:\"\n",
        "    )\n",
        "    label = resp.content.strip().lower()\n",
        "    return \"positive\" if label.startswith(\"pos\") else \"negative\"\n",
        "\n",
        "sentiments = []\n",
        "for review in df[\"review\"].astype(str).tolist():\n",
        "    sentiments.append(classify(review))\n",
        "\n",
        "df[\"Sentiment\"] = sentiments"
      ]
    },
    {
      "cell_type": "markdown",
      "metadata": {
        "id": "iICYnizB_fo1"
      },
      "source": []
    },
    {
      "cell_type": "markdown",
      "metadata": {
        "id": "KA8HiNN8_ft1"
      },
      "source": [
        "### same as above with progress bar"
      ]
    },
    {
      "cell_type": "code",
      "execution_count": null,
      "metadata": {
        "colab": {
          "base_uri": "https://localhost:8080/",
          "height": 49,
          "referenced_widgets": [
            "e18ec0223a934675b5baa569d11c09af",
            "d85208ca9fea47a58d894a0dc138a8cc",
            "80e687f867a84bfca893f8a970ae498f",
            "133d6f0cf3a34a11964739bdb79e0341",
            "e8a326a73b9942b7b93f203f2da995ff",
            "208a94226a724f60bba3321dcd82f84a",
            "d1b1e4c531ca4018b9a62d6337a03272",
            "18b41a10d1c34074be64612cf87294cd",
            "f3cc518db9794dd5a5b7656cc883b08e",
            "bc10b5e27f2c4221b9b62541bdacf8f1",
            "2bf13ca17118477f9cf0e2a0c6bdbe90"
          ]
        },
        "id": "7CK3RZFW-Wnl",
        "outputId": "f7155067-dd32-4457-88d3-d260581bbc2d"
      },
      "outputs": [],
      "source": [
        "from tqdm.auto import tqdm\n",
        "\n",
        "def classify(txt):\n",
        "    resp = llm.invoke(\n",
        "        \"You are a strict sentiment classifier. \"\n",
        "        \"Output exactly 'positive' or 'negative' only.\\n\\n\"\n",
        "        f\"Text: {txt}\\nLabel:\"\n",
        "    )\n",
        "    label = resp.content.strip().lower()\n",
        "    return \"positive\" if label.startswith(\"pos\") else \"negative\"\n",
        "\n",
        "sentiments = []\n",
        "df = df.iloc[0:3]\n",
        "for review in tqdm(df[\"review\"].astype(str).tolist()):\n",
        "    sentiments.append(classify(review))\n",
        "\n",
        "df[\"Sentiment\"] = sentiments"
      ]
    },
    {
      "cell_type": "code",
      "execution_count": null,
      "metadata": {
        "colab": {
          "base_uri": "https://localhost:8080/",
          "height": 143
        },
        "id": "0gFSS5ys-Wqt",
        "outputId": "c1d29d54-379b-4c34-d3f9-1c54ccd1d2ba"
      },
      "outputs": [],
      "source": [
        "df"
      ]
    },
    {
      "cell_type": "code",
      "execution_count": null,
      "metadata": {
        "id": "WnrSI49c-Wt0"
      },
      "outputs": [],
      "source": []
    },
    {
      "cell_type": "markdown",
      "metadata": {
        "id": "34tmhRkC3UwI"
      },
      "source": [
        "# Gen AI - Code Generation in Google Colab"
      ]
    },
    {
      "cell_type": "markdown",
      "metadata": {
        "id": "fFNYpN7T3dS-"
      },
      "source": [
        "Import dataset from https://raw.githubusercontent.com/giridhar276/Datasets/master/Automobile%20Data%20Set/AutoDataset.csv"
      ]
    },
    {
      "cell_type": "markdown",
      "metadata": {
        "id": "MuKH7m8mtU66"
      },
      "source": [
        "print number of rows and columns"
      ]
    },
    {
      "cell_type": "markdown",
      "metadata": {
        "id": "FetJeAZ7ta8F"
      },
      "source": [
        "Print the column names"
      ]
    },
    {
      "cell_type": "markdown",
      "metadata": {
        "id": "Kz3MastkteiW"
      },
      "source": [
        "Create a bar chart for the 'fuel-type' column"
      ]
    },
    {
      "cell_type": "code",
      "execution_count": null,
      "metadata": {
        "id": "rnOE_ce8tk4J"
      },
      "outputs": [],
      "source": []
    },
    {
      "cell_type": "markdown",
      "metadata": {
        "id": "W6KInBkHtlvF"
      },
      "source": [
        "Findout outliers in price column"
      ]
    },
    {
      "cell_type": "code",
      "execution_count": null,
      "metadata": {
        "id": "jg3j4192tro5"
      },
      "outputs": [],
      "source": []
    }
  ],
  "metadata": {
    "accelerator": "GPU",
    "colab": {
      "gpuType": "T4",
      "machine_shape": "hm",
      "provenance": []
    },
    "kernelspec": {
      "display_name": "Python 3",
      "name": "python3"
    },
    "language_info": {
      "codemirror_mode": {
        "name": "ipython",
        "version": 3
      },
      "file_extension": ".py",
      "mimetype": "text/x-python",
      "name": "python",
      "nbconvert_exporter": "python",
      "pygments_lexer": "ipython3",
      "version": "3.12.5"
    },
    "widgets": {
      "application/vnd.jupyter.widget-state+json": {
        "133d6f0cf3a34a11964739bdb79e0341": {
          "model_module": "@jupyter-widgets/controls",
          "model_module_version": "1.5.0",
          "model_name": "HTMLModel",
          "state": {
            "_dom_classes": [],
            "_model_module": "@jupyter-widgets/controls",
            "_model_module_version": "1.5.0",
            "_model_name": "HTMLModel",
            "_view_count": null,
            "_view_module": "@jupyter-widgets/controls",
            "_view_module_version": "1.5.0",
            "_view_name": "HTMLView",
            "description": "",
            "description_tooltip": null,
            "layout": "IPY_MODEL_bc10b5e27f2c4221b9b62541bdacf8f1",
            "placeholder": "​",
            "style": "IPY_MODEL_2bf13ca17118477f9cf0e2a0c6bdbe90",
            "value": " 3/3 [00:20&lt;00:00,  4.60s/it]"
          }
        },
        "18b41a10d1c34074be64612cf87294cd": {
          "model_module": "@jupyter-widgets/base",
          "model_module_version": "1.2.0",
          "model_name": "LayoutModel",
          "state": {
            "_model_module": "@jupyter-widgets/base",
            "_model_module_version": "1.2.0",
            "_model_name": "LayoutModel",
            "_view_count": null,
            "_view_module": "@jupyter-widgets/base",
            "_view_module_version": "1.2.0",
            "_view_name": "LayoutView",
            "align_content": null,
            "align_items": null,
            "align_self": null,
            "border": null,
            "bottom": null,
            "display": null,
            "flex": null,
            "flex_flow": null,
            "grid_area": null,
            "grid_auto_columns": null,
            "grid_auto_flow": null,
            "grid_auto_rows": null,
            "grid_column": null,
            "grid_gap": null,
            "grid_row": null,
            "grid_template_areas": null,
            "grid_template_columns": null,
            "grid_template_rows": null,
            "height": null,
            "justify_content": null,
            "justify_items": null,
            "left": null,
            "margin": null,
            "max_height": null,
            "max_width": null,
            "min_height": null,
            "min_width": null,
            "object_fit": null,
            "object_position": null,
            "order": null,
            "overflow": null,
            "overflow_x": null,
            "overflow_y": null,
            "padding": null,
            "right": null,
            "top": null,
            "visibility": null,
            "width": null
          }
        },
        "208a94226a724f60bba3321dcd82f84a": {
          "model_module": "@jupyter-widgets/base",
          "model_module_version": "1.2.0",
          "model_name": "LayoutModel",
          "state": {
            "_model_module": "@jupyter-widgets/base",
            "_model_module_version": "1.2.0",
            "_model_name": "LayoutModel",
            "_view_count": null,
            "_view_module": "@jupyter-widgets/base",
            "_view_module_version": "1.2.0",
            "_view_name": "LayoutView",
            "align_content": null,
            "align_items": null,
            "align_self": null,
            "border": null,
            "bottom": null,
            "display": null,
            "flex": null,
            "flex_flow": null,
            "grid_area": null,
            "grid_auto_columns": null,
            "grid_auto_flow": null,
            "grid_auto_rows": null,
            "grid_column": null,
            "grid_gap": null,
            "grid_row": null,
            "grid_template_areas": null,
            "grid_template_columns": null,
            "grid_template_rows": null,
            "height": null,
            "justify_content": null,
            "justify_items": null,
            "left": null,
            "margin": null,
            "max_height": null,
            "max_width": null,
            "min_height": null,
            "min_width": null,
            "object_fit": null,
            "object_position": null,
            "order": null,
            "overflow": null,
            "overflow_x": null,
            "overflow_y": null,
            "padding": null,
            "right": null,
            "top": null,
            "visibility": null,
            "width": null
          }
        },
        "2bf13ca17118477f9cf0e2a0c6bdbe90": {
          "model_module": "@jupyter-widgets/controls",
          "model_module_version": "1.5.0",
          "model_name": "DescriptionStyleModel",
          "state": {
            "_model_module": "@jupyter-widgets/controls",
            "_model_module_version": "1.5.0",
            "_model_name": "DescriptionStyleModel",
            "_view_count": null,
            "_view_module": "@jupyter-widgets/base",
            "_view_module_version": "1.2.0",
            "_view_name": "StyleView",
            "description_width": ""
          }
        },
        "80e687f867a84bfca893f8a970ae498f": {
          "model_module": "@jupyter-widgets/controls",
          "model_module_version": "1.5.0",
          "model_name": "FloatProgressModel",
          "state": {
            "_dom_classes": [],
            "_model_module": "@jupyter-widgets/controls",
            "_model_module_version": "1.5.0",
            "_model_name": "FloatProgressModel",
            "_view_count": null,
            "_view_module": "@jupyter-widgets/controls",
            "_view_module_version": "1.5.0",
            "_view_name": "ProgressView",
            "bar_style": "success",
            "description": "",
            "description_tooltip": null,
            "layout": "IPY_MODEL_18b41a10d1c34074be64612cf87294cd",
            "max": 3,
            "min": 0,
            "orientation": "horizontal",
            "style": "IPY_MODEL_f3cc518db9794dd5a5b7656cc883b08e",
            "value": 3
          }
        },
        "bc10b5e27f2c4221b9b62541bdacf8f1": {
          "model_module": "@jupyter-widgets/base",
          "model_module_version": "1.2.0",
          "model_name": "LayoutModel",
          "state": {
            "_model_module": "@jupyter-widgets/base",
            "_model_module_version": "1.2.0",
            "_model_name": "LayoutModel",
            "_view_count": null,
            "_view_module": "@jupyter-widgets/base",
            "_view_module_version": "1.2.0",
            "_view_name": "LayoutView",
            "align_content": null,
            "align_items": null,
            "align_self": null,
            "border": null,
            "bottom": null,
            "display": null,
            "flex": null,
            "flex_flow": null,
            "grid_area": null,
            "grid_auto_columns": null,
            "grid_auto_flow": null,
            "grid_auto_rows": null,
            "grid_column": null,
            "grid_gap": null,
            "grid_row": null,
            "grid_template_areas": null,
            "grid_template_columns": null,
            "grid_template_rows": null,
            "height": null,
            "justify_content": null,
            "justify_items": null,
            "left": null,
            "margin": null,
            "max_height": null,
            "max_width": null,
            "min_height": null,
            "min_width": null,
            "object_fit": null,
            "object_position": null,
            "order": null,
            "overflow": null,
            "overflow_x": null,
            "overflow_y": null,
            "padding": null,
            "right": null,
            "top": null,
            "visibility": null,
            "width": null
          }
        },
        "d1b1e4c531ca4018b9a62d6337a03272": {
          "model_module": "@jupyter-widgets/controls",
          "model_module_version": "1.5.0",
          "model_name": "DescriptionStyleModel",
          "state": {
            "_model_module": "@jupyter-widgets/controls",
            "_model_module_version": "1.5.0",
            "_model_name": "DescriptionStyleModel",
            "_view_count": null,
            "_view_module": "@jupyter-widgets/base",
            "_view_module_version": "1.2.0",
            "_view_name": "StyleView",
            "description_width": ""
          }
        },
        "d85208ca9fea47a58d894a0dc138a8cc": {
          "model_module": "@jupyter-widgets/controls",
          "model_module_version": "1.5.0",
          "model_name": "HTMLModel",
          "state": {
            "_dom_classes": [],
            "_model_module": "@jupyter-widgets/controls",
            "_model_module_version": "1.5.0",
            "_model_name": "HTMLModel",
            "_view_count": null,
            "_view_module": "@jupyter-widgets/controls",
            "_view_module_version": "1.5.0",
            "_view_name": "HTMLView",
            "description": "",
            "description_tooltip": null,
            "layout": "IPY_MODEL_208a94226a724f60bba3321dcd82f84a",
            "placeholder": "​",
            "style": "IPY_MODEL_d1b1e4c531ca4018b9a62d6337a03272",
            "value": "100%"
          }
        },
        "e18ec0223a934675b5baa569d11c09af": {
          "model_module": "@jupyter-widgets/controls",
          "model_module_version": "1.5.0",
          "model_name": "HBoxModel",
          "state": {
            "_dom_classes": [],
            "_model_module": "@jupyter-widgets/controls",
            "_model_module_version": "1.5.0",
            "_model_name": "HBoxModel",
            "_view_count": null,
            "_view_module": "@jupyter-widgets/controls",
            "_view_module_version": "1.5.0",
            "_view_name": "HBoxView",
            "box_style": "",
            "children": [
              "IPY_MODEL_d85208ca9fea47a58d894a0dc138a8cc",
              "IPY_MODEL_80e687f867a84bfca893f8a970ae498f",
              "IPY_MODEL_133d6f0cf3a34a11964739bdb79e0341"
            ],
            "layout": "IPY_MODEL_e8a326a73b9942b7b93f203f2da995ff"
          }
        },
        "e8a326a73b9942b7b93f203f2da995ff": {
          "model_module": "@jupyter-widgets/base",
          "model_module_version": "1.2.0",
          "model_name": "LayoutModel",
          "state": {
            "_model_module": "@jupyter-widgets/base",
            "_model_module_version": "1.2.0",
            "_model_name": "LayoutModel",
            "_view_count": null,
            "_view_module": "@jupyter-widgets/base",
            "_view_module_version": "1.2.0",
            "_view_name": "LayoutView",
            "align_content": null,
            "align_items": null,
            "align_self": null,
            "border": null,
            "bottom": null,
            "display": null,
            "flex": null,
            "flex_flow": null,
            "grid_area": null,
            "grid_auto_columns": null,
            "grid_auto_flow": null,
            "grid_auto_rows": null,
            "grid_column": null,
            "grid_gap": null,
            "grid_row": null,
            "grid_template_areas": null,
            "grid_template_columns": null,
            "grid_template_rows": null,
            "height": null,
            "justify_content": null,
            "justify_items": null,
            "left": null,
            "margin": null,
            "max_height": null,
            "max_width": null,
            "min_height": null,
            "min_width": null,
            "object_fit": null,
            "object_position": null,
            "order": null,
            "overflow": null,
            "overflow_x": null,
            "overflow_y": null,
            "padding": null,
            "right": null,
            "top": null,
            "visibility": null,
            "width": null
          }
        },
        "f3cc518db9794dd5a5b7656cc883b08e": {
          "model_module": "@jupyter-widgets/controls",
          "model_module_version": "1.5.0",
          "model_name": "ProgressStyleModel",
          "state": {
            "_model_module": "@jupyter-widgets/controls",
            "_model_module_version": "1.5.0",
            "_model_name": "ProgressStyleModel",
            "_view_count": null,
            "_view_module": "@jupyter-widgets/base",
            "_view_module_version": "1.2.0",
            "_view_name": "StyleView",
            "bar_color": null,
            "description_width": ""
          }
        }
      }
    }
  },
  "nbformat": 4,
  "nbformat_minor": 0
}
