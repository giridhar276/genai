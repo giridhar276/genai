{
 "cells": [
  {
   "cell_type": "code",
   "execution_count": null,
   "metadata": {
    "id": "txU60xf3CCTU"
   },
   "outputs": [],
   "source": [
    "!pip3 install openai --quiet\n",
    "!pip3 install langchain --quiet\n",
    "!pip3 install cohere --quiet\n",
    "!pip3 install tiktoken --quiet\n",
    "!pip3 install langchain_community"
   ]
  },
  {
   "cell_type": "code",
   "execution_count": null,
   "metadata": {
    "id": "RDGvmTNHCMrt"
   },
   "outputs": [],
   "source": [
    "import os\n",
    "\n",
    "#Better way\n",
    "from google.colab import userdata\n",
    "os.environ['OPENAI_API_KEY'] = userdata.get(\"OPENAI_API_KEY\")\n",
    "os.environ['COHERE_API_KEY'] = userdata.get(\"COHERE_API_KEY\")"
   ]
  },
  {
   "cell_type": "code",
   "execution_count": null,
   "metadata": {
    "id": "Fu1FvuxP6y4I"
   },
   "outputs": [],
   "source": [
    "# Helper function for printing docs\n",
    "\n",
    "\n",
    "def pretty_print_docs(docs):\n",
    "    print(\n",
    "        f\"\\n{'-' * 100}\\n\".join(\n",
    "            [f\"Document {i+1}:\\n\\n\" + d.page_content for i, d in enumerate(docs)]\n",
    "        )\n",
    "    )"
   ]
  },
  {
   "cell_type": "markdown",
   "metadata": {
    "id": "hQQXo3zcC-2A"
   },
   "source": [
    "# Step-1: Document Loading"
   ]
  },
  {
   "cell_type": "code",
   "execution_count": null,
   "metadata": {
    "id": "I_S7LES1DZFC"
   },
   "outputs": [],
   "source": [
    "!pip3 install pypdf --quiet"
   ]
  },
  {
   "cell_type": "code",
   "execution_count": null,
   "metadata": {
    "id": "AbYYIsHZDLF6"
   },
   "outputs": [],
   "source": [
    "from langchain.document_loaders import PyPDFLoader"
   ]
  },
  {
   "cell_type": "code",
   "execution_count": null,
   "metadata": {
    "id": "jqQBNPeACXGX"
   },
   "outputs": [],
   "source": [
    "#!wget https://raw.githubusercontent.com/giridhar276/Datasets/master/Agreements/EMPLOYEE_AGREEMENT.pdf\n",
    "#loader = PyPDFLoader(\"EMPLOYEE_AGREEMENT.pdf\")\n",
    "#pages = loader.load()\n",
    "#print(len(pages))"
   ]
  },
  {
   "cell_type": "code",
   "execution_count": null,
   "metadata": {},
   "outputs": [],
   "source": [
    "import requests\n",
    "from langchain_community.document_loaders import PyPDFLoader\n",
    "\n",
    "# Step 1: Download the PDF using requests\n",
    "url = \"https://raw.githubusercontent.com/giridhar276/Datasets/master/Agreements/EMPLOYEE_AGREEMENT.pdf\"\n",
    "response = requests.get(url)\n",
    "\n",
    "with open(\"EMPLOYEE_AGREEMENT.pdf\", \"wb\") as f:\n",
    "    f.write(response.content)\n",
    "\n",
    "print(\"File downloaded successfully!\")\n",
    "\n",
    "# Step 2: Load PDF with PyPDFLoader\n",
    "loader = PyPDFLoader(\"EMPLOYEE_AGREEMENT.pdf\")\n",
    "pages = loader.load()\n",
    "\n",
    "# Step 3: Check number of pages\n",
    "print(\"Total pages in PDF:\", len(pages))"
   ]
  },
  {
   "cell_type": "code",
   "execution_count": null,
   "metadata": {
    "id": "Axh9oZ3ftCYd"
   },
   "outputs": [],
   "source": [
    "full_text =\"\"\n",
    "for page in pages:\n",
    "  full_text += page.page_content\n",
    "\n",
    "print(\"Pages\", len(pages))\n",
    "print(\"Lines\" , len(full_text.split(\"\\n\")))\n",
    "print(\"Words\" , len(full_text.split(\" \")))\n",
    "print(\"Characters\", len(full_text))"
   ]
  },
  {
   "cell_type": "markdown",
   "metadata": {
    "id": "_wvDo2qqugTP"
   },
   "source": [
    "# Step-2:Split the data into Chunks"
   ]
  },
  {
   "cell_type": "code",
   "execution_count": null,
   "metadata": {
    "id": "IfZQdLxaCXJc"
   },
   "outputs": [],
   "source": [
    "from langchain.text_splitter import RecursiveCharacterTextSplitter"
   ]
  },
  {
   "cell_type": "code",
   "execution_count": null,
   "metadata": {
    "id": "6gSKHVYcCXMd"
   },
   "outputs": [],
   "source": [
    "text_splitter = RecursiveCharacterTextSplitter(chunk_size=300, chunk_overlap=30)\n",
    "chunks = text_splitter.split_documents(pages)\n",
    "print(len(chunks))"
   ]
  },
  {
   "cell_type": "code",
   "execution_count": null,
   "metadata": {
    "id": "yqZk6YpaCXPZ"
   },
   "outputs": [],
   "source": [
    "print(chunks[1])"
   ]
  },
  {
   "cell_type": "markdown",
   "metadata": {
    "id": "T4hsDiTavD9H"
   },
   "source": [
    "# Step-3: Creating embeddings"
   ]
  },
  {
   "cell_type": "code",
   "execution_count": null,
   "metadata": {
    "id": "6jdFyMIQCXSY"
   },
   "outputs": [],
   "source": [
    "from langchain.embeddings import OpenAIEmbeddings, CohereEmbeddings"
   ]
  },
  {
   "cell_type": "code",
   "execution_count": null,
   "metadata": {
    "id": "8sLum-72CXVN"
   },
   "outputs": [],
   "source": [
    "embeddings = OpenAIEmbeddings()\n",
    "#embeddings = CohereEmbeddings(user_agent=\"langchain\")\n",
    "#embeddings = OpenAIEmbeddings(model=\"text-embedding-3-small\")  # 1536-dim"
   ]
  },
  {
   "cell_type": "code",
   "execution_count": null,
   "metadata": {},
   "outputs": [],
   "source": [
    "embeddings"
   ]
  },
  {
   "cell_type": "code",
   "execution_count": null,
   "metadata": {
    "id": "hwPd84MkCXX-"
   },
   "outputs": [],
   "source": [
    "# A sample embedding\n",
    "\n",
    "sample_embedding = embeddings.embed_query(\"You must follow the rules\")\n",
    "print(sample_embedding)"
   ]
  },
  {
   "cell_type": "code",
   "execution_count": null,
   "metadata": {},
   "outputs": [],
   "source": [
    "# A sample embedding\n",
    "\n",
    "sample_embedding = embeddings.embed_query(chunks[1].page_content)\n",
    "print(len(sample_embedding))"
   ]
  },
  {
   "cell_type": "code",
   "execution_count": null,
   "metadata": {
    "id": "jPvfBYTVCXbI"
   },
   "outputs": [],
   "source": [
    "len(sample_embedding)"
   ]
  },
  {
   "cell_type": "code",
   "execution_count": null,
   "metadata": {
    "id": "HlLkp25kCXeQ"
   },
   "outputs": [],
   "source": [
    "sample_docs=[\"You must follow the rules\",\n",
    "            \"You must not disclose the rules\"]\n",
    "\n",
    "embeded_vectors1= embeddings.embed_documents(sample_docs)\n",
    "print(embeded_vectors1)"
   ]
  },
  {
   "cell_type": "code",
   "execution_count": null,
   "metadata": {
    "id": "ltUI8k1UCXhZ"
   },
   "outputs": [],
   "source": [
    "print(len(embeded_vectors1))\n",
    "print(len(embeded_vectors1[0]))"
   ]
  },
  {
   "cell_type": "code",
   "execution_count": null,
   "metadata": {
    "id": "7W2nLWnACXkk"
   },
   "outputs": [],
   "source": [
    "print(sample_embedding)\n",
    "print(embeded_vectors1[0])"
   ]
  },
  {
   "cell_type": "markdown",
   "metadata": {
    "id": "Hb2MsiNpwlt_"
   },
   "source": [
    "# Step-4: Storing in Vector Stores"
   ]
  },
  {
   "cell_type": "code",
   "execution_count": null,
   "metadata": {
    "id": "HUX7-MoGw95q"
   },
   "outputs": [],
   "source": [
    "!pip3 install chromadb -q"
   ]
  },
  {
   "cell_type": "code",
   "execution_count": null,
   "metadata": {
    "id": "g7tflQxzwMwg"
   },
   "outputs": [],
   "source": [
    "from langchain.vectorstores import Chroma"
   ]
  },
  {
   "cell_type": "code",
   "execution_count": null,
   "metadata": {
    "id": "QesfKqIvxu3O"
   },
   "outputs": [],
   "source": [
    "emp_rules_db= Chroma.from_documents(chunks,\n",
    "                                    embeddings,\n",
    "                                    persist_directory=\"emp_rules_db1\"\n",
    "                          )\n",
    "emp_rules_db.persist()"
   ]
  },
  {
   "cell_type": "markdown",
   "metadata": {
    "id": "EroySm1-0oFZ"
   },
   "source": [
    "# Step-5: Retrieval"
   ]
  },
  {
   "cell_type": "code",
   "execution_count": null,
   "metadata": {
    "id": "-rJC4zGSxR-h"
   },
   "outputs": [],
   "source": [
    "retriever = emp_rules_db.as_retriever()\n",
    "result=retriever.get_relevant_documents(\"What is the policy for sick leaves\")\n",
    "result"
   ]
  },
  {
   "cell_type": "code",
   "execution_count": null,
   "metadata": {
    "id": "PLQYRSPW5Gdl"
   },
   "outputs": [],
   "source": [
    "for i in range(len(result)):\n",
    "  print(result[i].metadata)"
   ]
  },
  {
   "cell_type": "code",
   "execution_count": null,
   "metadata": {},
   "outputs": [],
   "source": [
    "retriever = emp_rules_db.as_retriever()\n",
    "result=retriever.get_relevant_documents(\"What is base compensation\")\n",
    "result"
   ]
  },
  {
   "cell_type": "markdown",
   "metadata": {
    "id": "CnpmKbSW2byl"
   },
   "source": [
    "You can also set a retrieval method that sets a similarity score threshold and only returns documents with a score above that threshold.\n"
   ]
  },
  {
   "cell_type": "markdown",
   "metadata": {
    "id": "SCDTPqmLsAl3"
   },
   "source": [
    "### pretty_print_docs"
   ]
  },
  {
   "cell_type": "code",
   "execution_count": null,
   "metadata": {
    "id": "QY91ISmV1Cdg"
   },
   "outputs": [],
   "source": [
    "retriever = emp_rules_db.as_retriever()\n",
    "result=retriever.get_relevant_documents(\"What is the policy for insurance?\")\n",
    "pretty_print_docs(result)"
   ]
  },
  {
   "cell_type": "code",
   "execution_count": null,
   "metadata": {
    "id": "_YBmryBW2lkN"
   },
   "outputs": [],
   "source": [
    "for i in range(len(result)):\n",
    "  print(result[i].metadata)"
   ]
  },
  {
   "cell_type": "code",
   "execution_count": null,
   "metadata": {
    "id": "EVsinZ2Y5fnd"
   },
   "outputs": [],
   "source": [
    "retriever = emp_rules_db.as_retriever()\n",
    "result=retriever.get_relevant_documents(\"Employee Monthly Salary \")\n",
    "result"
   ]
  },
  {
   "cell_type": "code",
   "execution_count": null,
   "metadata": {
    "id": "KXbezLIw515u"
   },
   "outputs": [],
   "source": [
    "for i in range(len(result)):\n",
    "  print(result[i].metadata)"
   ]
  },
  {
   "cell_type": "markdown",
   "metadata": {
    "id": "E8pjgwdbhipf"
   },
   "source": [
    "# RAG Example-2"
   ]
  },
  {
   "cell_type": "code",
   "execution_count": null,
   "metadata": {
    "id": "8w8-prpfhk3I"
   },
   "outputs": [],
   "source": [
    "import requests\n",
    "from langchain.document_loaders import PyPDFLoader\n",
    "\n",
    "# Step 1: Download PDF using requests\n",
    "url = \"https://raw.githubusercontent.com/giridhar276/Datasets/master/Banking_System_Doc/BASEL.pdf\"\n",
    "pdf_path = \"BASEL.pdf\"\n",
    "\n",
    "response = requests.get(url)\n",
    "with open(pdf_path, \"wb\") as f:\n",
    "    f.write(response.content)\n",
    "\n",
    "# Step 2: Load PDF with PyPDFLoader\n",
    "loader = PyPDFLoader(pdf_path)\n",
    "pages = loader.load()\n",
    "\n",
    "print(f\"Total pages loaded: {len(pages)}\")"
   ]
  },
  {
   "cell_type": "code",
   "execution_count": null,
   "metadata": {
    "id": "C2gpxpM9hxGq"
   },
   "outputs": [],
   "source": [
    "#Step-2:Split the data into Chunks\n",
    "\n",
    "from langchain.text_splitter import RecursiveCharacterTextSplitter\n",
    "text_splitter = RecursiveCharacterTextSplitter(chunk_size=500, chunk_overlap=50)\n",
    "chunks = text_splitter.split_documents(pages)\n",
    "print(len(chunks))"
   ]
  },
  {
   "cell_type": "code",
   "execution_count": null,
   "metadata": {
    "id": "hwRiEgrBiUCU"
   },
   "outputs": [],
   "source": [
    "#Step-3: Creating Embeddings\n",
    "from langchain.embeddings import OpenAIEmbeddings, CohereEmbeddings\n",
    "embeddings = OpenAIEmbeddings()\n",
    "#embeddings = CohereEmbeddings(user_agent=\"langchain\")\n",
    "\n",
    "\n",
    "#Step-4: Storing in a Vector DB\n",
    "#!rm -rf basel_norms_db\n",
    "basel_norms_db= Chroma.from_documents(chunks,\n",
    "                                    embeddings,\n",
    "                                    persist_directory=\"basel_norms_db1\"\n",
    "                          )\n",
    "basel_norms_db.persist()"
   ]
  },
  {
   "cell_type": "code",
   "execution_count": null,
   "metadata": {
    "id": "t9ad7p-hinR0"
   },
   "outputs": [],
   "source": [
    "#Step-5 Retrieval\n",
    "\n",
    "retriever = basel_norms_db.as_retriever()\n",
    "result=retriever.get_relevant_documents(\"What percentage is the minimum Capital Requirements\")\n",
    "print(result)\n",
    "print(len(result))\n",
    "print([i.metadata for i in result])"
   ]
  },
  {
   "cell_type": "code",
   "execution_count": null,
   "metadata": {
    "id": "ys0JU_ipi-NJ"
   },
   "outputs": [],
   "source": [
    "retriever = basel_norms_db.as_retriever()\n",
    "result=retriever.get_relevant_documents(\"What are PD and LGD\")\n",
    "print(result)\n",
    "print(len(result))\n",
    "print([i.metadata for i in result])"
   ]
  },
  {
   "cell_type": "markdown",
   "metadata": {
    "id": "-WmVNRqDyEJN"
   },
   "source": [
    "# MultiQueryRetriever"
   ]
  },
  {
   "cell_type": "code",
   "execution_count": null,
   "metadata": {
    "id": "ZM-FaJKtyk3p"
   },
   "outputs": [],
   "source": [
    "!pip3 install wikipedia -q"
   ]
  },
  {
   "cell_type": "code",
   "execution_count": null,
   "metadata": {
    "id": "q-PnZi4hkHli"
   },
   "outputs": [],
   "source": [
    "from langchain.document_loaders import wikipedia\n",
    "\n",
    "#Document Loading\n",
    "loader=wikipedia.WikipediaLoader(query=\"MS Dhoni\")\n",
    "documents=loader.load()\n",
    "\n",
    "#Splitting\n",
    "from langchain.text_splitter import RecursiveCharacterTextSplitter\n",
    "text_splitter=RecursiveCharacterTextSplitter(chunk_size=500,chunk_overlap=50)\n",
    "docs=text_splitter.split_documents(documents)\n",
    "print(len(docs))\n",
    "\n",
    "#Embeddings and VectorDB\n",
    "from langchain.embeddings import OpenAIEmbeddings\n",
    "embeddings=OpenAIEmbeddings()\n",
    "#embeddings=CohereEmbeddings(user_agent=\"langchain\")\n",
    "\n",
    "embeddings_db=Chroma.from_documents(docs,embeddings,\n",
    "                                    persist_directory=\"wiki_db1\")\n",
    "embeddings_db.persist()\n",
    "\n"
   ]
  },
  {
   "cell_type": "code",
   "execution_count": null,
   "metadata": {
    "id": "UArCn7GQy3pq"
   },
   "outputs": [],
   "source": [
    "from langchain.retrievers import MultiQueryRetriever\n",
    "from langchain.chains import RetrievalQA\n",
    "from langchain.llms import OpenAI , Cohere\n",
    "\n",
    "\n",
    "llm=OpenAI(temperature=0)\n",
    "#llm=Cohere(temperature=0)"
   ]
  },
  {
   "cell_type": "code",
   "execution_count": null,
   "metadata": {
    "id": "oOzfgJxiy3sZ"
   },
   "outputs": [],
   "source": [
    "llm_based_retriver=MultiQueryRetriever.from_llm(\n",
    "    retriever=embeddings_db.as_retriever(),\n",
    "    llm=llm\n",
    ")"
   ]
  },
  {
   "cell_type": "code",
   "execution_count": null,
   "metadata": {
    "id": "IDUbs3AQy3vK"
   },
   "outputs": [],
   "source": [
    "llm_based_retriver"
   ]
  },
  {
   "cell_type": "code",
   "execution_count": null,
   "metadata": {
    "id": "NFc64ZqSz49h"
   },
   "outputs": [],
   "source": [
    "import logging\n",
    "logging.basicConfig(level=logging.INFO)\n",
    "logging.getLogger(\"langchain.retrievers.multi_query\").setLevel(logging.INFO)"
   ]
  },
  {
   "cell_type": "code",
   "execution_count": null,
   "metadata": {
    "id": "U1Ud_b1vy3yC"
   },
   "outputs": [],
   "source": [
    "question1=\"What is the DOB of Dhoni?\"\n",
    "rel_docs1=llm_based_retriver.get_relevant_documents(question1)\n"
   ]
  },
  {
   "cell_type": "code",
   "execution_count": null,
   "metadata": {},
   "outputs": [],
   "source": [
    "\n",
    "question2= \"What Sport does Dhoni Play?\"\n",
    "\n",
    "rel_docs2=llm_based_retriver.get_relevant_documents(question2)"
   ]
  },
  {
   "cell_type": "code",
   "execution_count": null,
   "metadata": {
    "id": "XrVRWbTiy30v"
   },
   "outputs": [],
   "source": [
    "rel_docs1"
   ]
  },
  {
   "cell_type": "code",
   "execution_count": null,
   "metadata": {
    "id": "W2ZqEWiHy33a"
   },
   "outputs": [],
   "source": [
    "rel_docs2"
   ]
  },
  {
   "cell_type": "markdown",
   "metadata": {
    "id": "3nv4V7G_25oc"
   },
   "source": [
    "# Contextual compression"
   ]
  },
  {
   "cell_type": "code",
   "execution_count": null,
   "metadata": {
    "id": "7W63ID1p24B6"
   },
   "outputs": [],
   "source": [
    "from langchain.retrievers import ContextualCompressionRetriever\n",
    "from langchain.retrievers.document_compressors import LLMChainExtractor"
   ]
  },
  {
   "cell_type": "code",
   "execution_count": null,
   "metadata": {
    "id": "dBpOm6ri24Fa"
   },
   "outputs": [],
   "source": [
    "llm=OpenAI(temperature=0)\n",
    "#llm=Cohere(temperature=0)\n",
    "\n",
    "compressor=LLMChainExtractor.from_llm(llm)\n",
    "\n",
    "compression_retriever=ContextualCompressionRetriever(\n",
    "    base_compressor=compressor,\n",
    "    base_retriever=embeddings_db.as_retriever()\n",
    ")"
   ]
  },
  {
   "cell_type": "code",
   "execution_count": null,
   "metadata": {
    "id": "s8FSDGrV24Is"
   },
   "outputs": [],
   "source": [
    "compressed_docs=compression_retriever.get_relevant_documents(question1)"
   ]
  },
  {
   "cell_type": "code",
   "execution_count": null,
   "metadata": {
    "id": "Is8wORED24L3"
   },
   "outputs": [],
   "source": [
    "compressed_docs[0].metadata"
   ]
  },
  {
   "cell_type": "code",
   "execution_count": null,
   "metadata": {
    "id": "tSDJuWtf24O8"
   },
   "outputs": [],
   "source": [
    "compressed_docs[0].metadata[\"summary\"]"
   ]
  },
  {
   "cell_type": "code",
   "execution_count": null,
   "metadata": {},
   "outputs": [],
   "source": [
    "'''\n",
    "question -----> question1,  ----> summary1\n",
    "                 question2, ----> summary2\n",
    "                 question3 ----- > summary3\n",
    "\n",
    "               summary1 + summary2 + summary3 = final summary\n",
    "'''"
   ]
  },
  {
   "cell_type": "markdown",
   "metadata": {
    "id": "NJnBWeQZKYtT"
   },
   "source": [
    "# RetrievalQA Chain"
   ]
  },
  {
   "cell_type": "code",
   "execution_count": null,
   "metadata": {
    "id": "VGVodWxCKnqx"
   },
   "outputs": [],
   "source": [
    "question1=\"What is the DOB of Dhoni?\"\n",
    "question2= \"What Sport does Dhoni Play?\"\n",
    "rel_docs1=llm_based_retriver.get_relevant_documents(question1)\n",
    "rel_docs2=llm_based_retriver.get_relevant_documents(question2)"
   ]
  },
  {
   "cell_type": "code",
   "execution_count": null,
   "metadata": {
    "id": "FMUpP30YKd3_"
   },
   "outputs": [],
   "source": [
    "from langchain.chains import RetrievalQA\n",
    "llm=OpenAI(temperature=0)\n",
    "#llm=Cohere(temperature=0)\n",
    "\n",
    "Q_AChain=RetrievalQA.from_chain_type(\n",
    "    llm=llm,\n",
    "    chain_type=\"stuff\",# It takes a list of documents, inserts them all into a prompt\n",
    "    retriever=llm_based_retriver\n",
    ")"
   ]
  },
  {
   "cell_type": "code",
   "execution_count": null,
   "metadata": {
    "id": "nd5LTgR9LTBK"
   },
   "outputs": [],
   "source": [
    "query=\"What is the DOB of Dhoni?\"\n",
    "docs=Q_AChain({\"query\":query})\n",
    "docs[\"result\"]"
   ]
  },
  {
   "cell_type": "code",
   "execution_count": null,
   "metadata": {
    "id": "pwfN8Bp7Lfng"
   },
   "outputs": [],
   "source": [
    "docs"
   ]
  },
  {
   "cell_type": "code",
   "execution_count": null,
   "metadata": {},
   "outputs": [],
   "source": [
    "#question = what is the DOB of Dhoni ---> 3 queries ---> each query will be having some response ------>. searching on top of it ----> final answer"
   ]
  },
  {
   "cell_type": "code",
   "execution_count": null,
   "metadata": {
    "id": "7kw6x4GWQd5p"
   },
   "outputs": [],
   "source": [
    "print(Q_AChain.combine_documents_chain.llm_chain.prompt.template)"
   ]
  },
  {
   "cell_type": "code",
   "execution_count": null,
   "metadata": {},
   "outputs": [],
   "source": [
    "query=\"what is the capital of Libya\"\n",
    "docs=Q_AChain({\"query\":query})\n",
    "docs[\"result\"]"
   ]
  },
  {
   "cell_type": "markdown",
   "metadata": {
    "id": "GT-38Jo2BkCw"
   },
   "source": [
    "Validation of the Results"
   ]
  },
  {
   "cell_type": "code",
   "execution_count": null,
   "metadata": {},
   "outputs": [],
   "source": [
    "import requests\n",
    "\n",
    "url = \"https://raw.githubusercontent.com/giridhar276/Datasets/master/COI/COI.pdf\"\n",
    "pdf_path = \"COI.pdf\"\n",
    "\n",
    "response = requests.get(url)\n",
    "with open(pdf_path, \"wb\") as f:\n",
    "    f.write(response.content)\n",
    "\n",
    "print(\"Download complete:\", pdf_path)"
   ]
  },
  {
   "cell_type": "code",
   "execution_count": null,
   "metadata": {
    "id": "60TQbvwuLg_O"
   },
   "outputs": [],
   "source": [
    "#COI Data\n",
    "#!wget https://raw.githubusercontent.com/giridhar276/Datasets/master/COI/COI.pdf\n",
    "from langchain.document_loaders import PyPDFLoader\n",
    "\n",
    "#Document Loading\n",
    "loader = PyPDFLoader(\"COI.pdf\")\n",
    "pages = loader.load()\n",
    "\n",
    "full_text =\"\"\n",
    "for page in pages:\n",
    "  full_text += page.page_content\n",
    "\n",
    "print(\"Pages\", len(pages))\n",
    "print(\"Lines\" , len(full_text.split(\"\\n\")))\n",
    "print(\"Words\" , len(full_text.split(\" \")))\n",
    "print(\"Charecters\", len(full_text))\n",
    "\n",
    "#Split the data into Chunks\n",
    "from langchain.text_splitter import RecursiveCharacterTextSplitter\n",
    "text_splitter = RecursiveCharacterTextSplitter(chunk_size=2000, chunk_overlap=400)\n",
    "chunks = text_splitter.split_documents(pages)\n",
    "print(len(chunks))\n",
    "\n",
    "#Embeddings and Vector DB\n",
    "from langchain.embeddings import OpenAIEmbeddings,CohereEmbeddings\n",
    "from langchain.vectorstores import Chroma\n",
    "embeddings = OpenAIEmbeddings()\n",
    "#embeddings = CohereEmbeddings(user_agent=\"langchain\")\n",
    "coi_db= Chroma.from_documents(chunks,\n",
    "                             embeddings,\n",
    "                             persist_directory=\"coi_db2\"\n",
    "                             )\n",
    "coi_db.persist()\n",
    "\n",
    "#Retrieval Q_A Chain\n",
    "\n",
    "from langchain.chains import RetrievalQA\n",
    "from langchain.llms import OpenAI , Cohere\n",
    "\n",
    "llm=OpenAI(temperature=0)\n",
    "#llm = Cohere(temperature = 0)\n",
    "Q_AChain=RetrievalQA.from_chain_type(\n",
    "    llm=llm,\n",
    "    chain_type=\"stuff\",# It takes a list of documents, inserts them all into a prompt\n",
    "    retriever=coi_db.as_retriever()\n",
    ")"
   ]
  },
  {
   "cell_type": "code",
   "execution_count": null,
   "metadata": {
    "id": "9IZSpjftBxQH"
   },
   "outputs": [],
   "source": [
    "query=\"\"\"\n",
    "According to constitution of India what are the fundamental rights of citizens of India ?\n",
    "\"\"\"\n",
    "docs=Q_AChain({\"query\":query})\n",
    "print(docs[\"result\"])"
   ]
  },
  {
   "cell_type": "markdown",
   "metadata": {
    "id": "x0NR_7nGBzR4"
   },
   "source": [
    "## RAG Validation Process"
   ]
  },
  {
   "cell_type": "code",
   "execution_count": null,
   "metadata": {
    "id": "R-73Vdw5B0nB"
   },
   "outputs": [],
   "source": [
    "llm=OpenAI(temperature=0)\n",
    "\n",
    "Q_AChain=RetrievalQA.from_chain_type(\n",
    "    llm=llm,\n",
    "    chain_type=\"stuff\",# It takes a list of documents, inserts them all into a prompt\n",
    "    retriever=coi_db.as_retriever(),\n",
    "    input_key=\"question\" # Add this extra parameter to access the user questions using input_key\n",
    ")"
   ]
  },
  {
   "cell_type": "markdown",
   "metadata": {
    "id": "YsCo_Rw2CIa_"
   },
   "source": [
    "##Get Validation data"
   ]
  },
  {
   "cell_type": "code",
   "execution_count": null,
   "metadata": {
    "id": "3KAGquzTB71h"
   },
   "outputs": [],
   "source": [
    "#!wget https://raw.githubusercontent.com/giridhar276/Datasets/master/COI/COI_Q_A.csv"
   ]
  },
  {
   "cell_type": "code",
   "execution_count": null,
   "metadata": {},
   "outputs": [],
   "source": [
    "import requests\n",
    "\n",
    "url = \"https://raw.githubusercontent.com/giridhar276/Datasets/master/COI/COI_Q_A.csv\"\n",
    "pdf_path = \"COI_Q_A.csv\"\n",
    "\n",
    "response = requests.get(url)\n",
    "with open(pdf_path, \"wb\") as f:\n",
    "    f.write(response.content)\n",
    "\n",
    "print(\"Download complete:\", pdf_path)"
   ]
  },
  {
   "cell_type": "code",
   "execution_count": null,
   "metadata": {
    "id": "3XVD1r-XB_73"
   },
   "outputs": [],
   "source": [
    "import pandas as pd\n",
    "test_data=pd.read_csv(\"COI_Q_A.csv\")\n",
    "test_data.head()\n",
    "\n",
    "#Creating a iterative \"Question\", \"Answer\" pairs\n",
    "test_qa_pairs = []\n",
    "for index, row in test_data.iterrows():\n",
    "  question = row['Question']\n",
    "  answer = row['Answer']\n",
    "  test_qa_pairs.append({'question': question, 'answer': answer})\n",
    "print(test_qa_pairs)"
   ]
  },
  {
   "cell_type": "code",
   "execution_count": null,
   "metadata": {
    "id": "vt7ZKB50CBo3"
   },
   "outputs": [],
   "source": [
    "#Add one more Question and Answer\n",
    "question_new=\"Who is Narendra Modi?\"\n",
    "answer_new=\"\"\"\n",
    "Narendra Modi is the current Prime Minister of India, serving since 2014.\n",
    "He is a member of the Bharatiya Jana    ta Party (BJP) and\n",
    "previously served as the Chief Minister of Gujarat from 2001 to 2014.\n",
    "\"\"\"\n",
    "test_qa_pairs.append({'question': question_new, 'answer': answer_new})"
   ]
  },
  {
   "cell_type": "markdown",
   "metadata": {
    "id": "NjhIv5ViCFlA"
   },
   "source": [
    "## Get the Predictions"
   ]
  },
  {
   "cell_type": "code",
   "execution_count": null,
   "metadata": {
    "id": "Xw-knQFwCCqG"
   },
   "outputs": [],
   "source": [
    "predictions = Q_AChain.apply(test_qa_pairs)\n",
    "predictions"
   ]
  },
  {
   "cell_type": "markdown",
   "metadata": {
    "id": "dYLu8uQ4CN1q"
   },
   "source": [
    "## Compare Actual Answers with predicted Answers"
   ]
  },
  {
   "cell_type": "code",
   "execution_count": null,
   "metadata": {
    "id": "WqidrrpACCaX"
   },
   "outputs": [],
   "source": [
    "#The comparison is done using an LLM\n",
    "from langchain.evaluation.qa import QAEvalChain\n",
    "\n",
    "llm=OpenAI(temperature=0)\n",
    "\n",
    "qa_eval_chain = QAEvalChain.from_llm(llm)"
   ]
  },
  {
   "cell_type": "code",
   "execution_count": null,
   "metadata": {
    "id": "1AigJ9pWCQqf"
   },
   "outputs": [],
   "source": [
    "eval_result = qa_eval_chain.evaluate(test_qa_pairs,\n",
    "                                     predictions,\n",
    "                                      question_key=\"question\",\n",
    "                                      answer_key=\"answer\"\n",
    "                                     )\n",
    "print(eval_result)"
   ]
  },
  {
   "cell_type": "markdown",
   "metadata": {
    "id": "OZDjZHo2CSUQ"
   },
   "source": [
    "## Calculate The Accuracy"
   ]
  },
  {
   "cell_type": "code",
   "execution_count": null,
   "metadata": {
    "id": "awC7Lo0RCUY5"
   },
   "outputs": [],
   "source": []
  }
 ],
 "metadata": {
  "colab": {
   "authorship_tag": "ABX9TyP/tRE3fFBvc2/lqspLkXCZ",
   "provenance": []
  },
  "kernelspec": {
   "display_name": "Python 3",
   "name": "python3"
  },
  "language_info": {
   "codemirror_mode": {
    "name": "ipython",
    "version": 3
   },
   "file_extension": ".py",
   "mimetype": "text/x-python",
   "name": "python",
   "nbconvert_exporter": "python",
   "pygments_lexer": "ipython3",
   "version": "3.12.5"
  }
 },
 "nbformat": 4,
 "nbformat_minor": 0
}
