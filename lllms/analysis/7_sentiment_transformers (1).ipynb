{
  "cells": [
    {
      "cell_type": "markdown",
      "id": "77cd3c9d",
      "metadata": {
        "id": "77cd3c9d"
      },
      "source": [
        "# Sentiment Analysis — Transformers Pipeline (DistilBERT SST-2)\n"
      ]
    },
    {
      "cell_type": "code",
      "source": [
        "!pip install OpenAI\n",
        "!pip install langchain\n",
        "!pip install langchain_community\n",
        "!pip install Cohere\n",
        "!pip install langchain-openai langchain-cohere python-dotenv"
      ],
      "metadata": {
        "id": "rDOJ-5H5E9gN"
      },
      "id": "rDOJ-5H5E9gN",
      "execution_count": null,
      "outputs": []
    },
    {
      "cell_type": "code",
      "source": [
        "#!pip install transformers"
      ],
      "metadata": {
        "id": "YutuxYndFIhy"
      },
      "id": "YutuxYndFIhy",
      "execution_count": null,
      "outputs": []
    },
    {
      "cell_type": "code",
      "source": [
        "import os\n",
        "import warnings\n",
        "warnings.filterwarnings('ignore')\n",
        "from google.colab import userdata"
      ],
      "metadata": {
        "id": "GT4iMc5AFGLG"
      },
      "id": "GT4iMc5AFGLG",
      "execution_count": null,
      "outputs": []
    },
    {
      "cell_type": "code",
      "execution_count": null,
      "id": "9f17bad4",
      "metadata": {
        "id": "9f17bad4"
      },
      "outputs": [],
      "source": [
        "# If needed, install:\n",
        "# %pip install -q pandas transformers"
      ]
    },
    {
      "cell_type": "code",
      "execution_count": null,
      "id": "42a4408a",
      "metadata": {
        "id": "42a4408a"
      },
      "outputs": [],
      "source": [
        "import os\n",
        "import pandas as pd\n",
        "from transformers import pipeline\n",
        "\n"
      ]
    },
    {
      "cell_type": "code",
      "source": [
        "CSV_PATH = \"https://raw.githubusercontent.com/giridhar276/genai/refs/heads/main/datasets/Bank_Customer_conversations.csv\""
      ],
      "metadata": {
        "id": "tpip5ICEGUzk"
      },
      "id": "tpip5ICEGUzk",
      "execution_count": null,
      "outputs": []
    },
    {
      "cell_type": "code",
      "source": [
        "# Create the pipeline (optionally: device=0 if you have a GPU)\n",
        "sentiment_model = pipeline(\n",
        "    task=\"sentiment-analysis\",\n",
        "    model=\"distilbert-base-uncased-finetuned-sst-2-english\"\n",
        "    # , device=0  # uncomment if you want to force GPU (CUDA)\n",
        ")"
      ],
      "metadata": {
        "id": "gX24OjEhG8VE"
      },
      "id": "gX24OjEhG8VE",
      "execution_count": null,
      "outputs": []
    },
    {
      "cell_type": "code",
      "execution_count": null,
      "id": "5533424e",
      "metadata": {
        "id": "5533424e"
      },
      "outputs": [],
      "source": [
        "# Helper: normalize labels to lowercase 'positive'/'negative' for consistency\n",
        "def normalize_label(label):\n",
        "    label = (label or '').strip().lower()\n",
        "    if label.startswith('pos'):\n",
        "        return 'positive'\n",
        "    return 'negative'\n"
      ]
    },
    {
      "cell_type": "code",
      "source": [
        "TEXT_COL = \"customer_text\""
      ],
      "metadata": {
        "id": "p4RUP_bvGKNy"
      },
      "id": "p4RUP_bvGKNy",
      "execution_count": null,
      "outputs": []
    },
    {
      "cell_type": "code",
      "execution_count": null,
      "id": "8b99c129",
      "metadata": {
        "id": "8b99c129"
      },
      "outputs": [],
      "source": [
        "df = pd.read_csv(CSV_PATH)\n",
        "df = df[[TEXT_COL]].copy()\n",
        "df[TEXT_COL] = df[TEXT_COL].astype(str).str.strip()\n",
        "print('Rows:', len(df))\n",
        "df.head(3)"
      ]
    },
    {
      "cell_type": "code",
      "execution_count": null,
      "id": "1285db62",
      "metadata": {
        "id": "1285db62"
      },
      "outputs": [],
      "source": [
        "def classify_one(text: str):\n",
        "    res = sentiment_model(text)[0]\n",
        "    return normalize_label(res['label']), float(res['score'])\n"
      ]
    },
    {
      "cell_type": "code",
      "execution_count": null,
      "id": "9544cf50",
      "metadata": {
        "id": "9544cf50"
      },
      "outputs": [],
      "source": [
        "labels, scores = [], []\n",
        "for txt in df[TEXT_COL].tolist():\n",
        "    lab, sc = classify_one(txt)\n",
        "    labels.append(lab)\n",
        "    scores.append(sc)\n",
        "df['sentiment'] = labels\n",
        "df['score'] = scores\n"
      ]
    },
    {
      "cell_type": "code",
      "execution_count": null,
      "id": "8680a6e3",
      "metadata": {
        "id": "8680a6e3"
      },
      "outputs": [],
      "source": [
        "df.to_csv(\"using_transformers.csv\", index=False)\n",
        "print(f'Saved:')\n",
        "df[[TEXT_COL, 'sentiment', 'score']].head(10)"
      ]
    }
  ],
  "metadata": {
    "kernelspec": {
      "display_name": "Python 3",
      "name": "python3"
    },
    "colab": {
      "provenance": []
    }
  },
  "nbformat": 4,
  "nbformat_minor": 5
}