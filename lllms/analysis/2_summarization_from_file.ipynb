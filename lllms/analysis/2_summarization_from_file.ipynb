{
  "cells": [
    {
      "cell_type": "code",
      "execution_count": null,
      "id": "8df8fa37",
      "metadata": {
        "id": "8df8fa37"
      },
      "outputs": [],
      "source": [
        "!pip install OpenAI\n",
        "!pip install langchain\n",
        "!pip install langchain_community\n",
        "!pip install Cohere\n",
        "!pip install langchain-openai langchain-cohere python-dotenv\n"
      ]
    },
    {
      "cell_type": "code",
      "source": [],
      "metadata": {
        "id": "uorWxbBoAa_F"
      },
      "id": "uorWxbBoAa_F",
      "execution_count": null,
      "outputs": []
    },
    {
      "cell_type": "code",
      "source": [
        "import os\n",
        "import warnings\n",
        "warnings.filterwarnings('ignore')\n",
        "from google.colab import userdata"
      ],
      "metadata": {
        "id": "0Ze62Qo3AbLM"
      },
      "id": "0Ze62Qo3AbLM",
      "execution_count": null,
      "outputs": []
    },
    {
      "cell_type": "code",
      "source": [
        "openai_key = userdata.get(\"OPENAI_API_KEY\")\n",
        "os.environ[\"OPENAI_API_KEY\"] = openai_key"
      ],
      "metadata": {
        "id": "Fvv6zsJOAfTE"
      },
      "id": "Fvv6zsJOAfTE",
      "execution_count": null,
      "outputs": []
    },
    {
      "cell_type": "code",
      "source": [
        "import os\n",
        "import pandas as pd\n",
        "from langchain_openai import ChatOpenAI\n"
      ],
      "metadata": {
        "id": "ko_eticdAqWR"
      },
      "id": "ko_eticdAqWR",
      "execution_count": null,
      "outputs": []
    },
    {
      "cell_type": "code",
      "execution_count": null,
      "id": "f6591994",
      "metadata": {
        "id": "f6591994"
      },
      "outputs": [],
      "source": [
        "\n",
        "\n",
        "\n",
        "CSV_PATH = \"https://raw.githubusercontent.com/giridhar276/genai/refs/heads/main/datasets/Bank_Customer_conversations.csv\"\n",
        "TEXT_COL = \"customer_text\"\n",
        "MODEL = \"gpt-4o-mini\"\n",
        "TEMPERATURE = 0\n",
        "TIMEOUT = 60\n",
        "\n",
        "OUTPUT_PATH = CSV_PATH.replace(\".csv\", \"_with_summary.csv\")\n",
        "\n",
        "assert os.getenv(\"OPENAI_API_KEY\"), \"Please set OPENAI_API_KEY in your environment.\"\n"
      ]
    },
    {
      "cell_type": "code",
      "execution_count": null,
      "id": "54241f63",
      "metadata": {
        "id": "54241f63"
      },
      "outputs": [],
      "source": [
        "\n",
        "PROMPT = (\n",
        "    \"Summarize the customer's message in ONE clear sentence focusing on intent/issue and requested action. \"\n",
        "    \"Do not add details that are not present. \"\n",
        "    \"Return only the summary text on a single line.\\n\\n\"\n",
        "    \"CUSTOMER TEXT:\\n\"\n",
        "    '\\\"\\\"\\\"{text}\\\"\\\"\\\"\\n'\n",
        "    \"Summary:\"\n",
        ")\n"
      ]
    },
    {
      "cell_type": "code",
      "execution_count": null,
      "id": "39838df4",
      "metadata": {
        "id": "39838df4"
      },
      "outputs": [],
      "source": [
        "\n",
        "df = pd.read_csv(CSV_PATH)\n",
        "df = df[[TEXT_COL]].copy()\n",
        "df[TEXT_COL] = df[TEXT_COL].astype(str).str.strip()\n",
        "\n",
        "print(\"Rows:\", len(df))\n",
        "df.head(3)\n"
      ]
    },
    {
      "cell_type": "code",
      "execution_count": null,
      "id": "7c7941cb",
      "metadata": {
        "id": "7c7941cb"
      },
      "outputs": [],
      "source": [
        "\n",
        "llm = ChatOpenAI(model=MODEL, temperature=TEMPERATURE, timeout=TIMEOUT)\n",
        "\n",
        "def summarize_one(text) :\n",
        "    return llm.invoke(PROMPT.format(text=text)).content.strip()\n"
      ]
    },
    {
      "cell_type": "code",
      "execution_count": null,
      "id": "67ed0d88",
      "metadata": {
        "id": "67ed0d88"
      },
      "outputs": [],
      "source": [
        "\n",
        "summaries = []\n",
        "for txt in df[TEXT_COL].tolist():\n",
        "    summaries.append(summarize_one(txt))\n",
        "\n",
        "df[\"summary\"] = summaries\n"
      ]
    },
    {
      "cell_type": "code",
      "execution_count": null,
      "id": "e14de098",
      "metadata": {
        "id": "e14de098"
      },
      "outputs": [],
      "source": [
        "\n",
        "df.to_csv(\"summary.csv\", index=False)\n",
        "print(f\"Saved: {OUTPUT_PATH}\")\n",
        "df[[TEXT_COL, \"summary\"]].head(10)\n"
      ]
    }
  ],
  "metadata": {
    "colab": {
      "provenance": []
    },
    "language_info": {
      "name": "python"
    },
    "kernelspec": {
      "name": "python3",
      "display_name": "Python 3"
    }
  },
  "nbformat": 4,
  "nbformat_minor": 5
}