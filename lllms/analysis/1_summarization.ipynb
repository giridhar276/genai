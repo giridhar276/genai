{
  "nbformat": 4,
  "nbformat_minor": 0,
  "metadata": {
    "colab": {
      "provenance": []
    },
    "kernelspec": {
      "name": "python3",
      "display_name": "Python 3"
    },
    "language_info": {
      "name": "python"
    }
  },
  "cells": [
    {
      "cell_type": "code",
      "execution_count": null,
      "metadata": {
        "id": "d74n7hytufPN"
      },
      "outputs": [],
      "source": [
        "import pandas as pd\n",
        "import numpy as np\n",
        "import matplotlib.pyplot as plt\n",
        "import seaborn as sns\n",
        "import plotly.express as px"
      ]
    },
    {
      "cell_type": "code",
      "source": [],
      "metadata": {
        "id": "qBKJPUCPugRS"
      },
      "execution_count": null,
      "outputs": []
    },
    {
      "cell_type": "markdown",
      "source": [
        "# Accessing OpenAI LLM through an API"
      ],
      "metadata": {
        "id": "3cd0SKzMui3S"
      }
    },
    {
      "cell_type": "code",
      "source": [
        "!pip install OpenAI\n",
        "!pip install langchain\n",
        "!pip install langchain_community\n",
        "!pip install Cohere\n",
        "!pip install langchain-openai langchain-cohere python-dotenv"
      ],
      "metadata": {
        "id": "1bkttRrxuja1"
      },
      "execution_count": null,
      "outputs": []
    },
    {
      "cell_type": "code",
      "source": [
        "import os\n",
        "import warnings\n",
        "warnings.filterwarnings('ignore')\n",
        "from google.colab import userdata\n"
      ],
      "metadata": {
        "id": "qEP64LiUunE4"
      },
      "execution_count": null,
      "outputs": []
    },
    {
      "cell_type": "code",
      "source": [
        "openai_key = userdata.get(\"OPENAI_API_KEY\")\n",
        "os.environ[\"OPENAI_API_KEY\"] = openai_key\n"
      ],
      "metadata": {
        "id": "VsXbm2C9upI6"
      },
      "execution_count": null,
      "outputs": []
    },
    {
      "cell_type": "code",
      "source": [
        "#from langchain.llms import OpenAI, Cohere\n",
        "from langchain_openai import OpenAI\n",
        "llm= OpenAI()\n"
      ],
      "metadata": {
        "id": "fscjgxTDurBO"
      },
      "execution_count": null,
      "outputs": []
    },
    {
      "cell_type": "markdown",
      "source": [
        "### reading from csv file and getting sentiments"
      ],
      "metadata": {
        "id": "3uStyK-Duvtv"
      }
    },
    {
      "cell_type": "code",
      "source": [
        "import pandas as pd\n",
        "df = pd.read_csv(\"https://github.com/giridhar276/genai/raw/refs/heads/main/datasets/Bank_Customer_conversations.csv\")"
      ],
      "metadata": {
        "id": "4NqentFuuvCq"
      },
      "execution_count": null,
      "outputs": []
    },
    {
      "cell_type": "code",
      "source": [
        "# Classify each log message using llm.invoke\n",
        "df[\"summary\"] = df[\"customer_text\"].apply(lambda message: llm.invoke(f\"understand customer_text and get the simple short summary in a single sentence only: {message}\"))"
      ],
      "metadata": {
        "id": "1lkX8LfgvkHK"
      },
      "execution_count": null,
      "outputs": []
    },
    {
      "cell_type": "code",
      "source": [
        "df.head()"
      ],
      "metadata": {
        "id": "QemnAmHDy2Fb"
      },
      "execution_count": null,
      "outputs": []
    },
    {
      "cell_type": "code",
      "source": [
        "df.to_csv(\"summarydetails.csv\")"
      ],
      "metadata": {
        "id": "Uu2-oWddvoQY"
      },
      "execution_count": null,
      "outputs": []
    }
  ]
}