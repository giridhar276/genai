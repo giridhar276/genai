{
  "cells": [
    {
      "cell_type": "code",
      "execution_count": null,
      "metadata": {
        "id": "d74n7hytufPN"
      },
      "outputs": [],
      "source": [
        "import pandas as pd\n",
        "import numpy as np\n",
        "import matplotlib.pyplot as plt\n",
        "import seaborn as sns\n",
        "import plotly.express as px"
      ]
    },
    {
      "cell_type": "code",
      "execution_count": null,
      "metadata": {
        "id": "qBKJPUCPugRS"
      },
      "outputs": [],
      "source": []
    },
    {
      "cell_type": "markdown",
      "metadata": {
        "id": "3cd0SKzMui3S"
      },
      "source": [
        "# Accessing OpenAI LLM through an API"
      ]
    },
    {
      "cell_type": "code",
      "execution_count": null,
      "metadata": {
        "colab": {
          "base_uri": "https://localhost:8080/"
        },
        "id": "1bkttRrxuja1",
        "outputId": "1b7559e3-b071-460a-fc95-0276be4714e8"
      },
      "outputs": [],
      "source": [
        "!pip install OpenAI\n",
        "!pip install langchain\n",
        "!pip install langchain_community\n",
        "!pip install Cohere\n",
        "!pip install langchain-openai langchain-cohere python-dotenv"
      ]
    },
    {
      "cell_type": "code",
      "execution_count": null,
      "metadata": {
        "id": "qEP64LiUunE4"
      },
      "outputs": [],
      "source": [
        "import os\n",
        "import warnings\n",
        "warnings.filterwarnings('ignore')\n",
        "from google.colab import userdata\n"
      ]
    },
    {
      "cell_type": "code",
      "execution_count": null,
      "metadata": {
        "id": "VsXbm2C9upI6"
      },
      "outputs": [],
      "source": [
        "openai_key = userdata.get(\"OPENAI_API_KEY\")\n",
        "os.environ[\"OPENAI_API_KEY\"] = openai_key\n"
      ]
    },
    {
      "cell_type": "code",
      "execution_count": null,
      "metadata": {
        "id": "fscjgxTDurBO"
      },
      "outputs": [],
      "source": [
        "#from langchain.llms import OpenAI, Cohere\n",
        "from langchain_openai import OpenAI\n",
        "llm= OpenAI()\n"
      ]
    },
    {
      "cell_type": "markdown",
      "metadata": {
        "id": "3uStyK-Duvtv"
      },
      "source": [
        "### reading from csv file and getting sentiments"
      ]
    },
    {
      "cell_type": "code",
      "execution_count": null,
      "metadata": {
        "id": "4NqentFuuvCq"
      },
      "outputs": [],
      "source": [
        "import pandas as pd\n",
        "df = pd.read_csv(\"https://github.com/giridhar276/genai/raw/refs/heads/main/datasets/Bank_Customer_conversations.csv\")"
      ]
    },
    {
      "cell_type": "code",
      "execution_count": null,
      "metadata": {
        "id": "1lkX8LfgvkHK"
      },
      "outputs": [],
      "source": [
        "# Classify each log message using llm.invoke\n",
        "df[\"Sentiment\"] = df[\"customer_text\"].apply(lambda message: llm.invoke(f\"Classify the sentiment of this  message make give output as positive or negative only: {message}\"))"
      ]
    },
    {
      "cell_type": "code",
      "execution_count": null,
      "metadata": {
        "colab": {
          "base_uri": "https://localhost:8080/",
          "height": 990
        },
        "id": "Uu2-oWddvoQY",
        "outputId": "5bab034c-3c16-4efd-8291-92928fae3281"
      },
      "outputs": [],
      "source": [
        "df"
      ]
    }
  ],
  "metadata": {
    "colab": {
      "provenance": []
    },
    "kernelspec": {
      "display_name": "Python 3",
      "name": "python3"
    },
    "language_info": {
      "name": "python"
    }
  },
  "nbformat": 4,
  "nbformat_minor": 0
}
