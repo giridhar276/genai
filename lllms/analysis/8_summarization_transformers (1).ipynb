{
  "cells": [
    {
      "cell_type": "markdown",
      "id": "579289d9",
      "metadata": {
        "id": "579289d9"
      },
      "source": [
        "# Customer Text Summarization — Transformers Pipeline (Pegasus-XSum)\n"
      ]
    },
    {
      "cell_type": "code",
      "execution_count": null,
      "id": "da9a0af7",
      "metadata": {
        "id": "da9a0af7"
      },
      "outputs": [],
      "source": [
        "!pip install transfomers"
      ]
    },
    {
      "cell_type": "code",
      "source": [
        "import os\n",
        "import warnings\n",
        "warnings.filterwarnings('ignore')\n",
        "from google.colab import userdata"
      ],
      "metadata": {
        "id": "G1eOXUpgJq18"
      },
      "id": "G1eOXUpgJq18",
      "execution_count": null,
      "outputs": []
    },
    {
      "cell_type": "code",
      "execution_count": null,
      "id": "0e2b6a5b",
      "metadata": {
        "id": "0e2b6a5b"
      },
      "outputs": [],
      "source": [
        "import os\n",
        "import pandas as pd\n",
        "from transformers import pipeline\n",
        "\n",
        "\n"
      ]
    },
    {
      "cell_type": "code",
      "source": [
        "CSV_PATH = \"https://raw.githubusercontent.com/giridhar276/genai/refs/heads/main/datasets/Bank_Customer_conversations.csv\""
      ],
      "metadata": {
        "id": "KYJ7w7jFJvs6"
      },
      "id": "KYJ7w7jFJvs6",
      "execution_count": null,
      "outputs": []
    },
    {
      "cell_type": "code",
      "source": [
        "\n",
        "# Initialize transformers pipeline (Pegasus-XSum)\n",
        "summarizer_model = pipeline(task='summarization', model='google/pegasus-xsum')"
      ],
      "metadata": {
        "id": "WMFjvhLfJ3NY"
      },
      "id": "WMFjvhLfJ3NY",
      "execution_count": null,
      "outputs": []
    },
    {
      "cell_type": "code",
      "execution_count": null,
      "id": "4f322cf3",
      "metadata": {
        "id": "4f322cf3"
      },
      "outputs": [],
      "source": [
        "# In place of a prompt, we expose a couple of helpful parameters for the pipeline\n",
        "MIN_LEN = 10\n",
        "MAX_LEN = 100\n",
        "#O_SAMPLE = (os.getenv('DO_SAMPLE', 'false').lower() == 'true')\n"
      ]
    },
    {
      "cell_type": "code",
      "source": [
        "TEXT_COL = \"customer_text\""
      ],
      "metadata": {
        "id": "TwP-dAOgK76R"
      },
      "id": "TwP-dAOgK76R",
      "execution_count": null,
      "outputs": []
    },
    {
      "cell_type": "code",
      "execution_count": null,
      "id": "0b6fdd4a",
      "metadata": {
        "id": "0b6fdd4a"
      },
      "outputs": [],
      "source": [
        "df = pd.read_csv(CSV_PATH)\n",
        "df = df[[TEXT_COL]].copy()\n",
        "df[TEXT_COL] = df[TEXT_COL].astype(str).str.strip()\n",
        "print('Rows:', len(df))\n",
        "df.head(3)"
      ]
    },
    {
      "cell_type": "code",
      "execution_count": null,
      "id": "4d6e0dfd",
      "metadata": {
        "id": "4d6e0dfd"
      },
      "outputs": [],
      "source": [
        "def summarize_one(text: str) -> str:\n",
        "    out = summarizer_model(\n",
        "        text,\n",
        "        #min_length=MIN_LEN,\n",
        "        #max_length=MAX_LEN\n",
        "    )\n",
        "    return out[0]['summary_text'].strip()\n"
      ]
    },
    {
      "cell_type": "code",
      "execution_count": null,
      "id": "90b321e8",
      "metadata": {
        "id": "90b321e8"
      },
      "outputs": [],
      "source": [
        "summaries = []\n",
        "df = df.iloc[0:5]\n",
        "for txt in df[TEXT_COL].tolist():\n",
        "    summaries.append(summarize_one(txt))\n",
        "df['summary'] = summaries\n"
      ]
    },
    {
      "cell_type": "code",
      "execution_count": null,
      "id": "76b14467",
      "metadata": {
        "id": "76b14467"
      },
      "outputs": [],
      "source": [
        "df.to_csv(\"summary_transformers.csv\", index=False)\n",
        "print(f'Saved:')\n",
        "df[[TEXT_COL, 'summary']].head(10)"
      ]
    },
    {
      "cell_type": "code",
      "source": [
        "df"
      ],
      "metadata": {
        "id": "ZFhJor8QLq4z"
      },
      "id": "ZFhJor8QLq4z",
      "execution_count": null,
      "outputs": []
    },
    {
      "cell_type": "code",
      "source": [],
      "metadata": {
        "id": "OiqARoH6LrNu"
      },
      "id": "OiqARoH6LrNu",
      "execution_count": null,
      "outputs": []
    }
  ],
  "metadata": {
    "kernelspec": {
      "display_name": "Python 3",
      "name": "python3"
    },
    "colab": {
      "provenance": []
    }
  },
  "nbformat": 4,
  "nbformat_minor": 5
}