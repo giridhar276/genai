{
  "cells": [
    {
      "cell_type": "code",
      "source": [
        "#!pip install OpenAI\n",
        "#!pip install langchain\n",
        "#!pip install langchain_community\n",
        "#!pip install Cohere\n",
        "#!pip install langchain-openai langchain-cohere python-dotenv"
      ],
      "metadata": {
        "id": "K5NljbVM-PvO"
      },
      "id": "K5NljbVM-PvO",
      "execution_count": null,
      "outputs": []
    },
    {
      "cell_type": "code",
      "source": [
        "import os\n",
        "import warnings\n",
        "warnings.filterwarnings('ignore')\n",
        "from google.colab import userdata"
      ],
      "metadata": {
        "id": "Sbfdzg66-mtR"
      },
      "id": "Sbfdzg66-mtR",
      "execution_count": null,
      "outputs": []
    },
    {
      "cell_type": "code",
      "source": [
        "openai_key = userdata.get(\"OPENAI_API_KEY\")\n",
        "os.environ[\"OPENAI_API_KEY\"] = openai_key\n"
      ],
      "metadata": {
        "id": "u9Y4hYAN-ka-"
      },
      "id": "u9Y4hYAN-ka-",
      "execution_count": null,
      "outputs": []
    },
    {
      "cell_type": "code",
      "source": [
        "\n",
        "import os, json, re\n",
        "import pandas as pd\n",
        "import matplotlib.pyplot as plt\n"
      ],
      "metadata": {
        "id": "d5G7ofEw-Wb8"
      },
      "id": "d5G7ofEw-Wb8",
      "execution_count": null,
      "outputs": []
    },
    {
      "cell_type": "code",
      "execution_count": null,
      "id": "c77d83d9",
      "metadata": {
        "id": "c77d83d9"
      },
      "outputs": [],
      "source": [
        "\n",
        "from langchain_openai import ChatOpenAI\n",
        "from langchain.schema import SystemMessage, HumanMessage\n",
        "\n"
      ]
    },
    {
      "cell_type": "code",
      "source": [
        "\n",
        "CSV_PATH = \"https://github.com/giridhar276/genai/raw/refs/heads/main/datasets/Bank_Customer_conversations.csv\"\n",
        "TEXT_COL = \"customer_text\"\n",
        "MODEL = \"gpt-4o-mini\"\n",
        "TEMPERATURE = 0\n",
        "TIMEOUT = 60\n",
        "\n",
        "OUTPUT_PATH = CSV_PATH.replace(\".csv\", \"_with_sentiment_simple.csv\")\n",
        "\n",
        "\n",
        "assert os.getenv(\"OPENAI_API_KEY\"), \"Please set OPENAI_API_KEY in your environment.\""
      ],
      "metadata": {
        "id": "riDKG9sL-wh2"
      },
      "id": "riDKG9sL-wh2",
      "execution_count": null,
      "outputs": []
    },
    {
      "cell_type": "code",
      "source": [],
      "metadata": {
        "id": "lE5CSEt_-Ow6"
      },
      "id": "lE5CSEt_-Ow6",
      "execution_count": null,
      "outputs": []
    },
    {
      "cell_type": "code",
      "execution_count": null,
      "id": "90f32a3e",
      "metadata": {
        "id": "90f32a3e"
      },
      "outputs": [],
      "source": [
        "\n",
        "SYSTEM = \"\"\"You are a strict sentiment classifier for short customer utterances from bank call transcripts.\n",
        "Return ONLY a compact JSON object on a SINGLE LINE with keys:\n",
        "- \"label\": one of \"positive\", \"neutral\", \"negative\"\n",
        "- \"confidence\": a number in [0,1]\n",
        "- \"reason\": a brief rationale (<= 15 words)\n",
        "Judge tone + wording; ignore bank-specific facts. Prefer \"neutral\" if mixed.\n",
        "No extra text before/after JSON.\n",
        "\"\"\"\n",
        "\n",
        "USER_TMPL = (\n",
        "    \"Classify the sentiment of the CUSTOMER text below.\\n\\n\"\n",
        "    \"Rules:\\n\"\n",
        "    \"- Output strictly ONE LINE of JSON only.\\n\"\n",
        "    \"- Labels: \\\"positive\\\" | \\\"neutral\\\" | \\\"negative\\\".\\n\"\n",
        "    \"- Keep \\\"reason\\\" short (<= 15 words).\\n\"\n",
        "    \"- Consider tone: polite, frustrated, aggressive, harsh.\\n\\n\"\n",
        "    \"CUSTOMER:\\n\"\n",
        "    '\"\"\"{text}\"\"\"'\n",
        ")\n"
      ]
    },
    {
      "cell_type": "code",
      "execution_count": null,
      "id": "51e16f82",
      "metadata": {
        "id": "51e16f82"
      },
      "outputs": [],
      "source": [
        "\n",
        "def strict_json_parse(s):\n",
        "    # Simple: assume perfect JSON\n",
        "    return json.loads(s)\n",
        "\n",
        "\n"
      ]
    },
    {
      "cell_type": "code",
      "source": [
        "def clean_text(x):\n",
        "    # Simple: normalize whitespace only\n",
        "    return re.sub(r\"\\s+\", \" \", str(x).replace(\"\\r\", \" \").replace(\"\\n\", \" \").strip())"
      ],
      "metadata": {
        "id": "ezy3xC5W-7Ba"
      },
      "id": "ezy3xC5W-7Ba",
      "execution_count": null,
      "outputs": []
    },
    {
      "cell_type": "code",
      "execution_count": null,
      "id": "859ecf01",
      "metadata": {
        "id": "859ecf01"
      },
      "outputs": [],
      "source": [
        "\n",
        "df = pd.read_csv(CSV_PATH)\n",
        "df[TEXT_COL] = df[TEXT_COL].astype(str).map(clean_text)\n",
        "df = df[df[TEXT_COL].str.len() > 0].copy()\n",
        "df.reset_index(drop=True, inplace=True)\n",
        "\n",
        "print(\"Rows:\", len(df))\n",
        "df.head(3)\n"
      ]
    },
    {
      "cell_type": "code",
      "execution_count": null,
      "id": "bccf2d33",
      "metadata": {
        "id": "bccf2d33"
      },
      "outputs": [],
      "source": [
        "\n",
        "llm = ChatOpenAI(model=MODEL, temperature=TEMPERATURE, timeout=TIMEOUT)\n",
        "\n",
        "def classify_one(text: str) -> dict:\n",
        "    messages = [\n",
        "        SystemMessage(content=SYSTEM),\n",
        "        HumanMessage(content=USER_TMPL.format(text=text))\n",
        "    ]\n",
        "    resp = llm.invoke(messages)\n",
        "    return strict_json_parse(resp.content)\n"
      ]
    },
    {
      "cell_type": "code",
      "execution_count": null,
      "id": "e844e50f",
      "metadata": {
        "id": "e844e50f"
      },
      "outputs": [],
      "source": [
        "\n",
        "labels, confs, reasons = [], [], []\n",
        "\n",
        "for txt in df[TEXT_COL].tolist():\n",
        "    obj = classify_one(txt)\n",
        "    labels.append(obj[\"label\"])\n",
        "    confs.append(obj[\"confidence\"])\n",
        "    reasons.append(obj[\"reason\"])\n"
      ]
    },
    {
      "cell_type": "code",
      "execution_count": null,
      "id": "67fcfbcd",
      "metadata": {
        "id": "67fcfbcd"
      },
      "outputs": [],
      "source": [
        "\n",
        "df[\"sentiment_label\"] = labels\n",
        "df[\"sentiment_confidence\"] = confs\n",
        "df[\"sentiment_reason\"] = reasons\n",
        "\n",
        "\n"
      ]
    },
    {
      "cell_type": "code",
      "source": [
        "df.to_csv(\"sentimentnew.csv\" ,index=False)\n",
        "print(f\"Saved: {OUTPUT_PATH}\")\n"
      ],
      "metadata": {
        "id": "veVyUx3M_FHG"
      },
      "id": "veVyUx3M_FHG",
      "execution_count": null,
      "outputs": []
    },
    {
      "cell_type": "code",
      "source": [
        "\n",
        "counts = df[\"sentiment_label\"].value_counts().sort_index()\n",
        "print(\"\\nLabel counts:\\n\", counts)\n"
      ],
      "metadata": {
        "id": "A0ov4TKe_G_W"
      },
      "id": "A0ov4TKe_G_W",
      "execution_count": null,
      "outputs": []
    },
    {
      "cell_type": "code",
      "source": [
        "\n",
        "plt.figure()\n",
        "counts.plot(kind=\"bar\")\n",
        "plt.title(\"Sentiment label distribution\")\n",
        "plt.xlabel(\"label\")\n",
        "plt.ylabel(\"count\")\n",
        "plt.show()\n",
        "\n",
        "df[[\"sentiment_label\", \"sentiment_confidence\", \"sentiment_reason\", TEXT_COL]].head(10)"
      ],
      "metadata": {
        "id": "PNkZKDB9_IfG"
      },
      "id": "PNkZKDB9_IfG",
      "execution_count": null,
      "outputs": []
    }
  ],
  "metadata": {
    "colab": {
      "provenance": []
    },
    "language_info": {
      "name": "python"
    },
    "kernelspec": {
      "name": "python3",
      "display_name": "Python 3"
    }
  },
  "nbformat": 4,
  "nbformat_minor": 5
}