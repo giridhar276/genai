{
  "cells": [
    {
      "cell_type": "markdown",
      "id": "f37f9805",
      "metadata": {
        "id": "f37f9805"
      },
      "source": [
        "\n",
        "# Customer Sentiment"
      ]
    },
    {
      "cell_type": "code",
      "source": [
        "#!pip install OpenAI\n",
        "#!pip install langchain\n",
        "#!pip install langchain_community\n",
        "#!pip install Cohere\n",
        "#!pip install langchain-openai langchain-cohere python-dotenv"
      ],
      "metadata": {
        "id": "EBDkggYM6j9L"
      },
      "id": "EBDkggYM6j9L",
      "execution_count": null,
      "outputs": []
    },
    {
      "cell_type": "code",
      "source": [
        "import os\n",
        "import warnings\n",
        "warnings.filterwarnings('ignore')\n",
        "from google.colab import userdata"
      ],
      "metadata": {
        "id": "q3Y_SMAW8Zq2"
      },
      "id": "q3Y_SMAW8Zq2",
      "execution_count": null,
      "outputs": []
    },
    {
      "cell_type": "code",
      "source": [
        "openai_key = userdata.get(\"OPENAI_API_KEY\")\n",
        "os.environ[\"OPENAI_API_KEY\"] = openai_key\n"
      ],
      "metadata": {
        "id": "GdSn-7458XVE"
      },
      "id": "GdSn-7458XVE",
      "execution_count": null,
      "outputs": []
    },
    {
      "cell_type": "code",
      "execution_count": null,
      "id": "4b5b55fe",
      "metadata": {
        "id": "4b5b55fe"
      },
      "outputs": [],
      "source": [
        "\n",
        "import os, json\n",
        "import pandas as pd\n",
        "\n"
      ]
    },
    {
      "cell_type": "code",
      "source": [
        "\n",
        "from langchain_openai import ChatOpenAI\n"
      ],
      "metadata": {
        "id": "OFrRv9D78khI"
      },
      "id": "OFrRv9D78khI",
      "execution_count": null,
      "outputs": []
    },
    {
      "cell_type": "code",
      "source": [
        "\n",
        "CSV_PATH = \"https://github.com/giridhar276/genai/raw/refs/heads/main/datasets/Bank_Customer_conversations.csv\"\n",
        "MODEL = \"gpt-4o-mini\"\n",
        "TEMPERATURE = 0\n",
        "TIMEOUT = 60\n",
        "\n",
        "OUTPUT_PATH = CSV_PATH.replace(\".csv\", \"_with_sentiment_oneprompt.csv\")\n",
        "\n"
      ],
      "metadata": {
        "id": "FK1dJ_0C8njW"
      },
      "id": "FK1dJ_0C8njW",
      "execution_count": null,
      "outputs": []
    },
    {
      "cell_type": "code",
      "execution_count": null,
      "id": "f53ac871",
      "metadata": {
        "id": "f53ac871"
      },
      "outputs": [],
      "source": [
        "\n",
        "PROMPT = (\n",
        "    \"You are a sentiment classifier. Return ONE LINE of JSON with keys \"\n",
        "    '\\\"label\\\", \\\"confidence\\\", \\\"reason\\\". '\n",
        "    'Label must be one of \"positive\", \"neutral\", \"negative\". '\n",
        "    \"Confidence is a number in [0,1]. Reason is <= 15 words. \"\n",
        "    \"No extra text before/after JSON.\\n\\n\"\n",
        "    \"Classify the customer text:\\n\"\n",
        "    '\\\"\\\"\\\"{text}\\\"\\\"\\\"'\n",
        ")\n"
      ]
    },
    {
      "cell_type": "code",
      "execution_count": null,
      "id": "c3888585",
      "metadata": {
        "id": "c3888585"
      },
      "outputs": [],
      "source": [
        "\n",
        "df = pd.read_csv(CSV_PATH)\n",
        "df = df[[\"customer_text\"]].copy()\n",
        "df[\"customer_text\"] = df[\"customer_text\"].astype(str).str.strip()\n",
        "\n",
        "print(\"Rows:\", len(df))\n",
        "df.head(3)\n"
      ]
    },
    {
      "cell_type": "code",
      "execution_count": null,
      "id": "699d96d0",
      "metadata": {
        "id": "699d96d0"
      },
      "outputs": [],
      "source": [
        "\n",
        "llm = ChatOpenAI(model=MODEL, temperature=TEMPERATURE, timeout=TIMEOUT)\n",
        "\n",
        "def classify_one(text: str):\n",
        "    resp = llm.invoke(PROMPT.format(text=text))\n",
        "    return json.loads(resp.content)  # assumes valid one-line JSON\n"
      ]
    },
    {
      "cell_type": "code",
      "execution_count": null,
      "id": "d4bd2e0f",
      "metadata": {
        "id": "d4bd2e0f"
      },
      "outputs": [],
      "source": [
        "\n",
        "labels, confs, reasons = [], [], []\n",
        "\n",
        "for txt in df[\"customer_text\"].tolist():\n",
        "    obj = classify_one(txt)\n",
        "    labels.append(obj[\"label\"])\n",
        "    confs.append(obj[\"confidence\"])\n",
        "    reasons.append(obj[\"reason\"])\n"
      ]
    },
    {
      "cell_type": "code",
      "execution_count": null,
      "id": "b1bf84af",
      "metadata": {
        "id": "b1bf84af"
      },
      "outputs": [],
      "source": [
        "\n",
        "df[\"sentiment_label\"] = labels\n",
        "df[\"sentiment_confidence\"] = confs\n",
        "df[\"sentiment_reason\"] = reasons\n",
        "\n"
      ]
    },
    {
      "cell_type": "code",
      "source": [
        "\n",
        "df.to_csv(\"finalsentiment.csv\", index=False)\n",
        "print(f\"Saved: {OUTPUT_PATH}\")\n",
        "\n"
      ],
      "metadata": {
        "id": "lWU-Rb3_9IHL"
      },
      "id": "lWU-Rb3_9IHL",
      "execution_count": null,
      "outputs": []
    },
    {
      "cell_type": "code",
      "source": [
        "df.head()"
      ],
      "metadata": {
        "id": "58MijXqa9RHq"
      },
      "id": "58MijXqa9RHq",
      "execution_count": null,
      "outputs": []
    },
    {
      "cell_type": "code",
      "source": [
        "print(df[\"sentiment_label\"].value_counts())\n"
      ],
      "metadata": {
        "id": "6dihFFSX9PaW"
      },
      "id": "6dihFFSX9PaW",
      "execution_count": null,
      "outputs": []
    },
    {
      "cell_type": "code",
      "source": [
        "df.shape"
      ],
      "metadata": {
        "id": "rHFoMQ_c9Xwu"
      },
      "id": "rHFoMQ_c9Xwu",
      "execution_count": null,
      "outputs": []
    },
    {
      "cell_type": "code",
      "source": [],
      "metadata": {
        "id": "yT6V0g-L9YcM"
      },
      "id": "yT6V0g-L9YcM",
      "execution_count": null,
      "outputs": []
    }
  ],
  "metadata": {
    "colab": {
      "provenance": []
    },
    "language_info": {
      "name": "python"
    },
    "kernelspec": {
      "name": "python3",
      "display_name": "Python 3"
    }
  },
  "nbformat": 4,
  "nbformat_minor": 5
}