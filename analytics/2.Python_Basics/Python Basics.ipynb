{
 "cells": [
  {
   "cell_type": "code",
   "execution_count": null,
   "metadata": {
    "id": "znAfnUiubYU-"
   },
   "outputs": [],
   "source": [
    "from platform import python_version\n",
    "print(python_version())"
   ]
  },
  {
   "cell_type": "code",
   "execution_count": null,
   "metadata": {
    "id": "yjSG_cawdDru"
   },
   "outputs": [],
   "source": [
    "from platform import python_version\n",
    "print(python_version())"
   ]
  },
  {
   "cell_type": "code",
   "execution_count": null,
   "metadata": {
    "id": "otLEgPdXdDrv"
   },
   "outputs": [],
   "source": [
    "519+98"
   ]
  },
  {
   "cell_type": "code",
   "execution_count": null,
   "metadata": {
    "id": "_zJuYFmedDrv"
   },
   "outputs": [],
   "source": [
    "78*91"
   ]
  },
  {
   "cell_type": "code",
   "execution_count": null,
   "metadata": {
    "id": "FicsLNGJdDrv"
   },
   "outputs": [],
   "source": [
    "459-67"
   ]
  },
  {
   "cell_type": "markdown",
   "metadata": {
    "id": "eL_v-QLvdDrv"
   },
   "source": [
    "# Basic Commands"
   ]
  },
  {
   "cell_type": "code",
   "execution_count": null,
   "metadata": {
    "id": "UatexgM6dDrw"
   },
   "outputs": [],
   "source": [
    "571+95\n",
    "print(456*28)"
   ]
  },
  {
   "cell_type": "code",
   "execution_count": null,
   "metadata": {
    "id": "P2PFAE4wdDrw"
   },
   "outputs": [],
   "source": [
    "#With print \n",
    "print(571+95)\n",
    "print(456*28)"
   ]
  },
  {
   "cell_type": "markdown",
   "metadata": {
    "id": "jtjeBqJQdDrw"
   },
   "source": [
    "## Errors"
   ]
  },
  {
   "cell_type": "code",
   "execution_count": null,
   "metadata": {
    "id": "m_dm2kS7dDrw"
   },
   "outputs": [],
   "source": [
    "574*p"
   ]
  },
  {
   "cell_type": "code",
   "execution_count": null,
   "metadata": {
    "id": "sh3rDSCDdDrw"
   },
   "outputs": [],
   "source": [
    "576+'p'"
   ]
  },
  {
   "cell_type": "code",
   "execution_count": null,
   "metadata": {
    "id": "0efxoWJHdDrw"
   },
   "outputs": [],
   "source": [
    "Print(567+78)"
   ]
  },
  {
   "cell_type": "markdown",
   "metadata": {
    "id": "goD-3USjdDrx"
   },
   "source": [
    "## Comments"
   ]
  },
  {
   "cell_type": "code",
   "execution_count": null,
   "metadata": {
    "id": "Q4OCzSv8dDrx"
   },
   "outputs": [],
   "source": [
    "# Printing example\n",
    "print(568+23)"
   ]
  },
  {
   "cell_type": "markdown",
   "metadata": {
    "id": "AhuJdlQ_dDrx"
   },
   "source": [
    "## Assignment "
   ]
  },
  {
   "cell_type": "code",
   "execution_count": null,
   "metadata": {
    "id": "3nDxMcpFdDrx"
   },
   "outputs": [],
   "source": [
    "income = 12000\n",
    "print(income)"
   ]
  },
  {
   "cell_type": "code",
   "execution_count": null,
   "metadata": {
    "id": "sh__fsxkdDrx"
   },
   "outputs": [],
   "source": [
    "x=20\n",
    "print(x)"
   ]
  },
  {
   "cell_type": "code",
   "execution_count": null,
   "metadata": {
    "id": "x2eT1Cu5dDrx"
   },
   "outputs": [],
   "source": [
    "x=\"march\"\n",
    "print(x)"
   ]
  },
  {
   "cell_type": "code",
   "execution_count": null,
   "metadata": {
    "id": "1MDIR9s1dDrx"
   },
   "outputs": [],
   "source": [
    "del(x)"
   ]
  },
  {
   "cell_type": "code",
   "execution_count": null,
   "metadata": {
    "id": "JIL_TWOJdDry"
   },
   "outputs": [],
   "source": [
    "print(x)"
   ]
  },
  {
   "cell_type": "code",
   "execution_count": null,
   "metadata": {
    "id": "GR2k97nQdDry"
   },
   "outputs": [],
   "source": [
    "x=20"
   ]
  },
  {
   "cell_type": "code",
   "execution_count": null,
   "metadata": {
    "id": "JmpclnkHdDry"
   },
   "outputs": [],
   "source": [
    "y=30"
   ]
  },
  {
   "cell_type": "code",
   "execution_count": null,
   "metadata": {
    "id": "IRmevTzzdDry"
   },
   "outputs": [],
   "source": [
    "z=x*y"
   ]
  },
  {
   "cell_type": "code",
   "execution_count": null,
   "metadata": {
    "id": "ip3O1Xe2dDry"
   },
   "outputs": [],
   "source": [
    "print(z)"
   ]
  },
  {
   "cell_type": "code",
   "execution_count": null,
   "metadata": {
    "id": "R_FTwvjmdDrz"
   },
   "outputs": [],
   "source": [
    "k=50"
   ]
  },
  {
   "cell_type": "code",
   "execution_count": null,
   "metadata": {
    "id": "dnrWod8NdDrz"
   },
   "outputs": [],
   "source": [
    "z=x*k"
   ]
  },
  {
   "cell_type": "markdown",
   "metadata": {
    "id": "QKol9Cw8dDrz"
   },
   "source": [
    "## Naming Convention"
   ]
  },
  {
   "cell_type": "code",
   "execution_count": null,
   "metadata": {
    "id": "PSkYvPyWdDrz"
   },
   "outputs": [],
   "source": [
    "1x =20"
   ]
  },
  {
   "cell_type": "code",
   "execution_count": null,
   "metadata": {
    "id": "dtIJnGzFdDrz"
   },
   "outputs": [],
   "source": [
    "x1=20"
   ]
  },
  {
   "cell_type": "code",
   "execution_count": null,
   "metadata": {
    "id": "ZnckFNIAdDrz"
   },
   "outputs": [],
   "source": [
    "x.1=30"
   ]
  },
  {
   "cell_type": "code",
   "execution_count": null,
   "metadata": {
    "id": "dUKqEm6RdDrz"
   },
   "outputs": [],
   "source": [
    "x_1=20"
   ]
  },
  {
   "cell_type": "code",
   "execution_count": null,
   "metadata": {
    "id": "A1xmlJoWdDr0"
   },
   "outputs": [],
   "source": [
    "x 1=20"
   ]
  },
  {
   "cell_type": "code",
   "execution_count": null,
   "metadata": {
    "id": "XGWxlASvdDr0"
   },
   "outputs": [],
   "source": [
    "x$20"
   ]
  },
  {
   "cell_type": "markdown",
   "metadata": {
    "id": "MAWTHa5NdDr0"
   },
   "source": [
    "# Numbers"
   ]
  },
  {
   "cell_type": "code",
   "execution_count": null,
   "metadata": {
    "id": "_iOyW0aOdDr0"
   },
   "outputs": [],
   "source": [
    "age=30\n",
    "income=1250.567"
   ]
  },
  {
   "cell_type": "code",
   "execution_count": null,
   "metadata": {
    "id": "jYASOx5odDr0"
   },
   "outputs": [],
   "source": [
    "print(type(age))\n",
    "print(type(income))"
   ]
  },
  {
   "cell_type": "code",
   "execution_count": null,
   "metadata": {
    "id": "y4m_47uhdDr1"
   },
   "outputs": [],
   "source": [
    "print(\"Age - datatype\", type(age))\n",
    "print(\"Income - datatype\", type(income))"
   ]
  },
  {
   "cell_type": "markdown",
   "metadata": {
    "id": "m8AfitV8dDr2"
   },
   "source": [
    "# Strings"
   ]
  },
  {
   "cell_type": "code",
   "execution_count": null,
   "metadata": {
    "id": "TsT--RB7dDr2"
   },
   "outputs": [],
   "source": [
    "name=\"Sheldon\"\n",
    "print(name)"
   ]
  },
  {
   "cell_type": "code",
   "execution_count": null,
   "metadata": {
    "id": "Ol-oTo28dDr3"
   },
   "outputs": [],
   "source": [
    "print(name[0])"
   ]
  },
  {
   "cell_type": "code",
   "execution_count": null,
   "metadata": {
    "id": "cQMsPP4ZdDr3"
   },
   "outputs": [],
   "source": [
    "print(name[1])"
   ]
  },
  {
   "cell_type": "code",
   "execution_count": null,
   "metadata": {
    "id": "WZqVn6E9dDr3"
   },
   "outputs": [],
   "source": [
    "print(name[0:3])"
   ]
  },
  {
   "cell_type": "code",
   "execution_count": null,
   "metadata": {
    "id": "vQlddc4rdDr3"
   },
   "outputs": [],
   "source": [
    "print(name[3:6])"
   ]
  },
  {
   "cell_type": "code",
   "execution_count": null,
   "metadata": {
    "id": "8tye4rRJdDr4"
   },
   "outputs": [],
   "source": [
    "print(name[3:4])"
   ]
  },
  {
   "cell_type": "code",
   "execution_count": null,
   "metadata": {
    "id": "ODGxA83sdDr4"
   },
   "outputs": [],
   "source": [
    "message=\"Python 5 day course - Statinfer\"\n",
    "print(message)"
   ]
  },
  {
   "cell_type": "code",
   "execution_count": null,
   "metadata": {
    "id": "zPr0RxIJdDr4"
   },
   "outputs": [],
   "source": [
    "print(message[0:4])"
   ]
  },
  {
   "cell_type": "code",
   "execution_count": null,
   "metadata": {
    "id": "YYnSgYqGdDr4"
   },
   "outputs": [],
   "source": [
    "print(len(message))"
   ]
  },
  {
   "cell_type": "code",
   "execution_count": null,
   "metadata": {
    "id": "4Ni6xDhEdDr4"
   },
   "outputs": [],
   "source": [
    "print(message[24:31])"
   ]
  },
  {
   "cell_type": "code",
   "execution_count": null,
   "metadata": {
    "id": "vMr5gB5HdDr5"
   },
   "outputs": [],
   "source": [
    "print(message[20:31])"
   ]
  },
  {
   "cell_type": "code",
   "execution_count": null,
   "metadata": {
    "id": "f_qNvouSdDr5"
   },
   "outputs": [],
   "source": [
    "First_name=\"Sheldon\"\n",
    "Last_name=\"Cooper\"\n",
    "Name= First_name + Last_name"
   ]
  },
  {
   "cell_type": "code",
   "execution_count": null,
   "metadata": {
    "id": "HN5P1TwmdDr5"
   },
   "outputs": [],
   "source": [
    "print(Name)"
   ]
  },
  {
   "cell_type": "code",
   "execution_count": null,
   "metadata": {
    "id": "ug3_PjFqdDr5"
   },
   "outputs": [],
   "source": [
    "Name1= First_name +\" \"+ Last_name \n",
    "print(Name1)"
   ]
  },
  {
   "cell_type": "code",
   "execution_count": null,
   "metadata": {
    "id": "RJDLUJpcdDr5"
   },
   "outputs": [],
   "source": [
    "print(Name*10)"
   ]
  },
  {
   "cell_type": "markdown",
   "metadata": {
    "id": "CggTeA2ZdDr5"
   },
   "source": [
    "## LAB : Strings"
   ]
  },
  {
   "cell_type": "code",
   "execution_count": null,
   "metadata": {
    "id": "DJUdYBOqdDr5"
   },
   "outputs": [],
   "source": [
    "text = \" Hello World \""
   ]
  },
  {
   "cell_type": "code",
   "execution_count": null,
   "metadata": {
    "id": "mGofq-u5dDr5",
    "outputId": "46e31329-36f6-452f-850c-1377fdac7ed5"
   },
   "outputs": [],
   "source": [
    "# index location of 'r'\n",
    "text.find('r')"
   ]
  },
  {
   "cell_type": "code",
   "execution_count": null,
   "metadata": {
    "id": "-j9-fDPcdDr6",
    "outputId": "71e13f55-702b-44c6-e787-3709b09a9b3c"
   },
   "outputs": [],
   "source": [
    "text[9]"
   ]
  },
  {
   "cell_type": "code",
   "execution_count": null,
   "metadata": {
    "id": "dfrAfaMbdDr6"
   },
   "outputs": [],
   "source": [
    "# remove spaces before and after\n",
    "text1 = text[1:len(text)-1]\n",
    "text1\n",
    "# alternative method\n",
    "# text = text.strip()"
   ]
  },
  {
   "cell_type": "code",
   "execution_count": null,
   "metadata": {
    "id": "PzkTkAD4dDr6"
   },
   "outputs": [],
   "source": [
    "# Extract 'ello'\n",
    "text[1:5]"
   ]
  },
  {
   "cell_type": "code",
   "execution_count": null,
   "metadata": {
    "id": "1ONJvxFMdDr6"
   },
   "outputs": [],
   "source": [
    "# access 'w' using it's index position\n",
    "text[6]"
   ]
  },
  {
   "cell_type": "code",
   "execution_count": null,
   "metadata": {
    "id": "OSTgYD9WdDr6"
   },
   "outputs": [],
   "source": [
    "# add '!' at the end\n",
    "text + '!'"
   ]
  },
  {
   "cell_type": "markdown",
   "metadata": {
    "id": "fTXAWyMYdDr6"
   },
   "source": [
    "# Boolean"
   ]
  },
  {
   "cell_type": "code",
   "execution_count": null,
   "metadata": {
    "id": "-YTnmqFRdDr6"
   },
   "outputs": [],
   "source": [
    "a=5>6"
   ]
  },
  {
   "cell_type": "code",
   "execution_count": null,
   "metadata": {
    "id": "vw6pEuTndDr6"
   },
   "outputs": [],
   "source": [
    "print(a)"
   ]
  },
  {
   "cell_type": "code",
   "execution_count": null,
   "metadata": {
    "id": "Ve7owFu6dDr7"
   },
   "outputs": [],
   "source": [
    "print(type(a))"
   ]
  },
  {
   "cell_type": "code",
   "execution_count": null,
   "metadata": {
    "id": "RYOPhVnVdDr7"
   },
   "outputs": [],
   "source": [
    "if a :\n",
    "  print(10)\n",
    "else:\n",
    "  print(15)"
   ]
  },
  {
   "cell_type": "markdown",
   "metadata": {
    "id": "kOv4T1bQdDr7"
   },
   "source": [
    "# List"
   ]
  },
  {
   "cell_type": "code",
   "execution_count": null,
   "metadata": {
    "id": "Rmj68l6NdDr7"
   },
   "outputs": [],
   "source": [
    "cust=[\"Sheldon\",\"leonard\", \"penny\"]\n",
    "Age=[30, 31, 27]"
   ]
  },
  {
   "cell_type": "code",
   "execution_count": null,
   "metadata": {
    "id": "lTTJvXpUdDr7"
   },
   "outputs": [],
   "source": [
    "print(cust)"
   ]
  },
  {
   "cell_type": "code",
   "execution_count": null,
   "metadata": {
    "id": "6ruUcHDCdDr7"
   },
   "outputs": [],
   "source": [
    "print(Age)"
   ]
  },
  {
   "cell_type": "code",
   "execution_count": null,
   "metadata": {
    "id": "8vHFjA49dDr7"
   },
   "outputs": [],
   "source": [
    "print(cust[0])"
   ]
  },
  {
   "cell_type": "code",
   "execution_count": null,
   "metadata": {
    "id": "MifrWSjZdDr7"
   },
   "outputs": [],
   "source": [
    "print(Age[1])"
   ]
  },
  {
   "cell_type": "markdown",
   "metadata": {
    "id": "Aqim7dE3dDr7"
   },
   "source": [
    "## Appending"
   ]
  },
  {
   "cell_type": "code",
   "execution_count": null,
   "metadata": {
    "id": "wAmhmSx4dDr8"
   },
   "outputs": [],
   "source": [
    "cust_1=[\"Amy\", \"Raj\"]"
   ]
  },
  {
   "cell_type": "code",
   "execution_count": null,
   "metadata": {
    "id": "vTzExh3EdDr8"
   },
   "outputs": [],
   "source": [
    "cust_1.sort()\n"
   ]
  },
  {
   "cell_type": "code",
   "execution_count": null,
   "metadata": {
    "id": "dAFT2MeIdDsC"
   },
   "outputs": [],
   "source": [
    "Final_cust=cust + cust_1"
   ]
  },
  {
   "cell_type": "code",
   "execution_count": null,
   "metadata": {
    "id": "cVrnnS4ndDsC"
   },
   "outputs": [],
   "source": [
    "print(Final_cust)"
   ]
  },
  {
   "cell_type": "code",
   "execution_count": null,
   "metadata": {
    "id": "cboAvooYdDsC"
   },
   "outputs": [],
   "source": [
    "print(len(Final_cust))"
   ]
  },
  {
   "cell_type": "code",
   "execution_count": null,
   "metadata": {
    "id": "yV67U3JkdDsC"
   },
   "outputs": [],
   "source": [
    "Final_cust.append(\"Howard\")"
   ]
  },
  {
   "cell_type": "code",
   "execution_count": null,
   "metadata": {
    "id": "OOlIefiYdDsC"
   },
   "outputs": [],
   "source": [
    "print(Final_cust)"
   ]
  },
  {
   "cell_type": "markdown",
   "metadata": {
    "id": "8nXXL10GdDsC"
   },
   "source": [
    "## remove"
   ]
  },
  {
   "cell_type": "code",
   "execution_count": null,
   "metadata": {
    "id": "KKjsKD2pdDsD"
   },
   "outputs": [],
   "source": [
    "Final_cust.remove(\"penny\")"
   ]
  },
  {
   "cell_type": "code",
   "execution_count": null,
   "metadata": {
    "id": "WFwyOVa8dDsD"
   },
   "outputs": [],
   "source": [
    "print(Final_cust)"
   ]
  },
  {
   "cell_type": "code",
   "execution_count": null,
   "metadata": {
    "id": "3CHTxPdpdDsD"
   },
   "outputs": [],
   "source": [
    "Age=[30, 31, 27, 30, 48]\n",
    "Age.remove(30)\n",
    "print(\"After removing 30 ==>\", Age)"
   ]
  },
  {
   "cell_type": "markdown",
   "metadata": {
    "id": "rck5wNbmdDsD"
   },
   "source": [
    "## pop"
   ]
  },
  {
   "cell_type": "code",
   "execution_count": null,
   "metadata": {
    "id": "d9ZhUXu4dDsD"
   },
   "outputs": [],
   "source": [
    "sales=[300, 350, 200, 250, 300]\n",
    "sales.pop(0)"
   ]
  },
  {
   "cell_type": "code",
   "execution_count": null,
   "metadata": {
    "id": "N9_BneGYdDsD"
   },
   "outputs": [],
   "source": [
    "print(\"sales after pop ==>\", sales)"
   ]
  },
  {
   "cell_type": "code",
   "execution_count": null,
   "metadata": {
    "id": "nEUyTMV3dDsD"
   },
   "outputs": [],
   "source": [
    "sales.pop(0)\n",
    "print(\"sales after second pop ==>\", sales)"
   ]
  },
  {
   "cell_type": "markdown",
   "metadata": {
    "id": "5za1XRnwdDsD"
   },
   "source": [
    "## Sorting"
   ]
  },
  {
   "cell_type": "code",
   "execution_count": null,
   "metadata": {
    "id": "KCEKtWdodDsD"
   },
   "outputs": [],
   "source": [
    "Loans=[3, 0, 2, 6, 20]\n",
    "Loans.sort()"
   ]
  },
  {
   "cell_type": "code",
   "execution_count": null,
   "metadata": {
    "id": "4VWr_KYedDsE"
   },
   "outputs": [],
   "source": [
    "print(Loans)"
   ]
  },
  {
   "cell_type": "code",
   "execution_count": null,
   "metadata": {
    "id": "cLXIpVFadDsE"
   },
   "outputs": [],
   "source": [
    "Loans.sort(reverse=True)"
   ]
  },
  {
   "cell_type": "code",
   "execution_count": null,
   "metadata": {
    "id": "qMHGxT4ddDsE"
   },
   "outputs": [],
   "source": [
    "print(Loans)"
   ]
  },
  {
   "cell_type": "markdown",
   "metadata": {
    "id": "zVNq7SLldDsE"
   },
   "source": [
    "## Negative Index"
   ]
  },
  {
   "cell_type": "code",
   "execution_count": null,
   "metadata": {
    "id": "SkhWFK6ydDsE"
   },
   "outputs": [],
   "source": [
    "sales=[300, 350, 200, 250, 400]\n",
    "print(sales[-1])"
   ]
  },
  {
   "cell_type": "code",
   "execution_count": null,
   "metadata": {
    "id": "nhkvSN7-dDsE"
   },
   "outputs": [],
   "source": [
    "print(sales[-1],sales[-2], sales[-3], sales[-4], sales[-5])"
   ]
  },
  {
   "cell_type": "markdown",
   "metadata": {
    "id": "SVbaMro8dDsE"
   },
   "source": [
    "## Slicing"
   ]
  },
  {
   "cell_type": "code",
   "execution_count": null,
   "metadata": {
    "id": "lIcGQrTfdDsE",
    "outputId": "b887c3b6-0893-4e4f-ae32-cd3875aff216"
   },
   "outputs": [],
   "source": [
    "Age=[15, 44, 38, 19, 36, 25]  \n",
    "print(Age[2:5])"
   ]
  },
  {
   "cell_type": "code",
   "execution_count": null,
   "metadata": {
    "id": "35NNmsA1dDsF",
    "outputId": "4387bd11-1c47-4227-ab52-8fc306f782bd"
   },
   "outputs": [],
   "source": [
    "print(Age[2:10])"
   ]
  },
  {
   "cell_type": "code",
   "execution_count": null,
   "metadata": {
    "id": "ujXAWY7PdDsF"
   },
   "outputs": [],
   "source": [
    "print(Age[2:])"
   ]
  },
  {
   "cell_type": "code",
   "execution_count": null,
   "metadata": {
    "id": "CflYSmktdDsF"
   },
   "outputs": [],
   "source": [
    "print(Age[:4])"
   ]
  },
  {
   "cell_type": "code",
   "execution_count": null,
   "metadata": {
    "id": "d2QEXVwedDsF"
   },
   "outputs": [],
   "source": [
    "print(Age[-4:-2])"
   ]
  },
  {
   "cell_type": "code",
   "execution_count": null,
   "metadata": {
    "id": "Yz6QNj0ddDsG",
    "outputId": "743f0f5e-ffe2-4787-d914-5da36e5dc83f"
   },
   "outputs": [],
   "source": [
    "print(Age[:-4])"
   ]
  },
  {
   "cell_type": "code",
   "execution_count": null,
   "metadata": {
    "id": "pi9PeshddDsG"
   },
   "outputs": [],
   "source": [
    "print(Age[-4:])"
   ]
  },
  {
   "cell_type": "markdown",
   "metadata": {
    "id": "SilW98phdDsH"
   },
   "source": [
    "## Lab - List Operations"
   ]
  },
  {
   "cell_type": "code",
   "execution_count": null,
   "metadata": {
    "id": "5-c3jfW2dDsI"
   },
   "outputs": [],
   "source": [
    "#Create names list\n",
    "names = ['Stan', 'Kyle', 'Cartman', 'Kenny']"
   ]
  },
  {
   "cell_type": "code",
   "execution_count": null,
   "metadata": {
    "id": "h9gZsdMxdDsI",
    "outputId": "45f83adb-8dd1-427e-9150-c1f6e04ff70e"
   },
   "outputs": [],
   "source": [
    "# Change kenny to butters\n",
    "names[-1] = 'Butters'\n",
    "names"
   ]
  },
  {
   "cell_type": "code",
   "execution_count": null,
   "metadata": {
    "id": "Srp6wPpXdDsI",
    "outputId": "53bbd227-c5c6-4b8b-93c8-beaf389c5eb8"
   },
   "outputs": [],
   "source": [
    "# Insert clyde after Stan\n",
    "names.insert(2,'Clyde')\n",
    "names"
   ]
  },
  {
   "cell_type": "code",
   "execution_count": null,
   "metadata": {
    "id": "fVw7KcXedDsI",
    "outputId": "d86301b9-7005-4536-dbd1-322dbc394bf3"
   },
   "outputs": [],
   "source": [
    "b = names.pop(-1)\n",
    "print('the popped item is: ', b)\n",
    "print('list after popping: ',names)"
   ]
  },
  {
   "cell_type": "code",
   "execution_count": null,
   "metadata": {
    "id": "GEUUCNPydDsJ"
   },
   "outputs": [],
   "source": [
    "names[-3:]"
   ]
  },
  {
   "cell_type": "code",
   "execution_count": null,
   "metadata": {
    "id": "3ndIdDd9dDsJ"
   },
   "outputs": [],
   "source": [
    "#Reversing a list\n",
    "Age=[15, 44, 38, 19, 36, 25]  \n",
    "Age.reverse()\n",
    "print(Age)"
   ]
  },
  {
   "cell_type": "code",
   "execution_count": null,
   "metadata": {
    "id": "p4MTWeIrdDsJ"
   },
   "outputs": [],
   "source": [
    "# Get min and max of list\n",
    "print(\"max value in the list is : \", max(Age))\n",
    "print(\"Min value in the list is : \", min(Age))"
   ]
  },
  {
   "cell_type": "code",
   "execution_count": null,
   "metadata": {
    "id": "ddT7JXd9dDsJ"
   },
   "outputs": [],
   "source": [
    "# count of elements inside a list\n",
    "len(Age)"
   ]
  },
  {
   "cell_type": "code",
   "execution_count": null,
   "metadata": {
    "id": "0AYDe-otdDsJ",
    "outputId": "8206f80a-3c54-4235-89d9-e8c8ff0e9927"
   },
   "outputs": [],
   "source": [
    "# Access value of particular value inside a list\n",
    "cust=[\"Sheldon\",\"leonard\", \"penny\"]\n",
    "cust.index(\"leonard\")"
   ]
  },
  {
   "cell_type": "code",
   "execution_count": null,
   "metadata": {
    "id": "PdK_AKkRdDsK",
    "outputId": "e3f8f90d-e21f-4b8f-a8d6-ce15b62b8466"
   },
   "outputs": [],
   "source": [
    "# Access value of particular value inside a list\n",
    "cust=[\"Sheldon\",\"leonard\", \"penny\",\"leonard\"]\n",
    "cust.index(\"leonard\")"
   ]
  },
  {
   "cell_type": "markdown",
   "metadata": {
    "id": "RCsuXT3KdDsK"
   },
   "source": [
    "# Tuples"
   ]
  },
  {
   "cell_type": "markdown",
   "metadata": {
    "id": "WhHk7OOrdDsK"
   },
   "source": [
    "## Create and Access"
   ]
  },
  {
   "cell_type": "code",
   "execution_count": null,
   "metadata": {
    "id": "OKUIjBtZdDsK"
   },
   "outputs": [],
   "source": [
    "custd_id=(\"c00194\", \"c00195\", \"c00198\")"
   ]
  },
  {
   "cell_type": "code",
   "execution_count": null,
   "metadata": {
    "id": "xeBhh3R0dDsK"
   },
   "outputs": [],
   "source": [
    "type(custd_id)"
   ]
  },
  {
   "cell_type": "code",
   "execution_count": null,
   "metadata": {
    "id": "lrRfPueedDsK"
   },
   "outputs": [],
   "source": [
    "rank=(1, 46, \"NA\", 5, 8)"
   ]
  },
  {
   "cell_type": "code",
   "execution_count": null,
   "metadata": {
    "id": "YwInyuMkdDsK"
   },
   "outputs": [],
   "source": [
    "type(rank[1])"
   ]
  },
  {
   "cell_type": "code",
   "execution_count": null,
   "metadata": {
    "id": "FsDlg0ModDsL"
   },
   "outputs": [],
   "source": [
    "print(type(rank[1]),type(rank[2]))"
   ]
  },
  {
   "cell_type": "markdown",
   "metadata": {
    "id": "SN_8m4s8dDsL"
   },
   "source": [
    "## Packing"
   ]
  },
  {
   "cell_type": "code",
   "execution_count": null,
   "metadata": {
    "id": "9W-v_LGXdDsL"
   },
   "outputs": [],
   "source": [
    "region= \"E\", \"W\", \"N\", \"S\""
   ]
  },
  {
   "cell_type": "code",
   "execution_count": null,
   "metadata": {
    "id": "FWYHOz0BdDsL"
   },
   "outputs": [],
   "source": [
    "type(region)"
   ]
  },
  {
   "cell_type": "code",
   "execution_count": null,
   "metadata": {
    "id": "tGsmF49CdDsL"
   },
   "outputs": [],
   "source": [
    "r1, r2, r3, r4= region "
   ]
  },
  {
   "cell_type": "code",
   "execution_count": null,
   "metadata": {
    "id": "ErkhWln0dDsL"
   },
   "outputs": [],
   "source": [
    "print(r1, r4)"
   ]
  },
  {
   "cell_type": "code",
   "execution_count": null,
   "metadata": {
    "id": "AzNmDN_qdDsL"
   },
   "outputs": [],
   "source": [
    "print(type(r1))"
   ]
  },
  {
   "cell_type": "markdown",
   "metadata": {
    "id": "cOSNXFp6dDsL"
   },
   "source": [
    "## Tuple vs List"
   ]
  },
  {
   "cell_type": "code",
   "execution_count": null,
   "metadata": {
    "id": "bWjCwttBdDsM"
   },
   "outputs": [],
   "source": [
    "custd_id_t=(\"c00194\", \"c00195\", \"c00198\")\n",
    "custd_id_l=[\"c00194\", \"c00195\", \"c00198\"]"
   ]
  },
  {
   "cell_type": "code",
   "execution_count": null,
   "metadata": {
    "id": "nXKHG1tfdDsM"
   },
   "outputs": [],
   "source": [
    "custd_id_l[1]=\"c00176\""
   ]
  },
  {
   "cell_type": "code",
   "execution_count": null,
   "metadata": {
    "id": "HinqBVuudDsM"
   },
   "outputs": [],
   "source": [
    "custd_id_t[1]=\"c00176\""
   ]
  },
  {
   "cell_type": "code",
   "execution_count": null,
   "metadata": {
    "id": "OjpIX73hdDsM"
   },
   "outputs": [],
   "source": [
    "from sys import getsizeof\n",
    "\n",
    "custd_id_t=(\"c00194\", \"c00195\", \"c00198\")\n",
    "custd_id_l=[\"c00194\", \"c00195\", \"c00198\"]\n",
    "print(\"tupple size \", getsizeof(custd_id_t))\n",
    "print(\"list size \", getsizeof(custd_id_l))"
   ]
  },
  {
   "cell_type": "code",
   "execution_count": null,
   "metadata": {
    "id": "Z3VrTqkmdDsM"
   },
   "outputs": [],
   "source": [
    "from timeit import timeit\n",
    "timeit(\"list(['c00194', 'c00195', 'c00198'])\", number=10000000)"
   ]
  },
  {
   "cell_type": "code",
   "execution_count": null,
   "metadata": {
    "id": "ZVdGcOn4dDsM"
   },
   "outputs": [],
   "source": [
    "timeit(\"tuple(('c00194', 'c00195', 'c00198'))\", number=10000000)"
   ]
  },
  {
   "cell_type": "markdown",
   "metadata": {
    "id": "wX0PS4isdDsM"
   },
   "source": [
    "## Tuple with single element"
   ]
  },
  {
   "cell_type": "code",
   "execution_count": null,
   "metadata": {
    "id": "6KHLcQqBdDsM"
   },
   "outputs": [],
   "source": [
    "country=(\"USA\")"
   ]
  },
  {
   "cell_type": "code",
   "execution_count": null,
   "metadata": {
    "id": "Jiz6WIQjdDsM"
   },
   "outputs": [],
   "source": [
    "type(country)"
   ]
  },
  {
   "cell_type": "code",
   "execution_count": null,
   "metadata": {
    "id": "v69n6F9OdDsN"
   },
   "outputs": [],
   "source": [
    "country1=(\"USA\",)"
   ]
  },
  {
   "cell_type": "code",
   "execution_count": null,
   "metadata": {
    "id": "19z1gTczdDsN"
   },
   "outputs": [],
   "source": [
    "type(country1)"
   ]
  },
  {
   "cell_type": "markdown",
   "metadata": {
    "id": "7eZLC_aodDsN"
   },
   "source": [
    "## LAB : Tuple Operations"
   ]
  },
  {
   "cell_type": "code",
   "execution_count": null,
   "metadata": {
    "id": "q1nZa_JXdDsN",
    "outputId": "81cb47f4-8234-4748-f15f-9ade878753a0"
   },
   "outputs": [],
   "source": [
    "some_tuple = (2,5,4,6,names)\n",
    "some_tuple"
   ]
  },
  {
   "cell_type": "code",
   "execution_count": null,
   "metadata": {
    "id": "tdyYvFrFdDsN",
    "outputId": "383c5cf1-5a52-47eb-ebe8-b3424b714460"
   },
   "outputs": [],
   "source": [
    "some_tuple[4][0]"
   ]
  },
  {
   "cell_type": "code",
   "execution_count": null,
   "metadata": {
    "id": "GFTuzK0NdDsN",
    "outputId": "c9be5419-607b-4f64-aeba-fe190058f12a"
   },
   "outputs": [],
   "source": [
    "some_tuple[4][-1] = \"Shaktiman\"\n",
    "some_tuple"
   ]
  },
  {
   "cell_type": "code",
   "execution_count": null,
   "metadata": {
    "id": "3T76GaXhdDsN",
    "outputId": "fe059d3c-4dd1-450a-e57a-5bf05d4a8b8d"
   },
   "outputs": [],
   "source": [
    "names"
   ]
  },
  {
   "cell_type": "markdown",
   "metadata": {
    "id": "VU9k97Z-dDsN"
   },
   "source": [
    "# Dictionaries"
   ]
  },
  {
   "cell_type": "code",
   "execution_count": null,
   "metadata": {
    "id": "M-komawbdDsO"
   },
   "outputs": [],
   "source": [
    "city={0:\"L.A\", 9:\"P.A\", 7:\"FL\"}"
   ]
  },
  {
   "cell_type": "code",
   "execution_count": null,
   "metadata": {
    "id": "pmEfInYPdDsO"
   },
   "outputs": [],
   "source": [
    "type(city)"
   ]
  },
  {
   "cell_type": "code",
   "execution_count": null,
   "metadata": {
    "id": "zpcJnIK2dDsO"
   },
   "outputs": [],
   "source": [
    "print(city)"
   ]
  },
  {
   "cell_type": "code",
   "execution_count": null,
   "metadata": {
    "id": "dWk6oH_rdDsO"
   },
   "outputs": [],
   "source": [
    "city[1] "
   ]
  },
  {
   "cell_type": "code",
   "execution_count": null,
   "metadata": {
    "id": "JU5efKxGdDsO"
   },
   "outputs": [],
   "source": [
    "city[0]"
   ]
  },
  {
   "cell_type": "code",
   "execution_count": null,
   "metadata": {
    "id": "YBfXTs2MdDsO"
   },
   "outputs": [],
   "source": [
    "city[9]"
   ]
  },
  {
   "cell_type": "code",
   "execution_count": null,
   "metadata": {
    "id": "GsxjmehidDsO"
   },
   "outputs": [],
   "source": [
    "city[7]"
   ]
  },
  {
   "cell_type": "code",
   "execution_count": null,
   "metadata": {
    "id": "c2ztUssGdDsO"
   },
   "outputs": [],
   "source": [
    "city.keys()"
   ]
  },
  {
   "cell_type": "code",
   "execution_count": null,
   "metadata": {
    "id": "4SGmZZK5dDsO"
   },
   "outputs": [],
   "source": [
    "city.values()"
   ]
  },
  {
   "cell_type": "code",
   "execution_count": null,
   "metadata": {
    "id": "xChmt9fhdDsO"
   },
   "outputs": [],
   "source": [
    "cust_profile={\"C001\":\"David\", \"C002\":\"Bill\", \"C003\":\"Jim\"}"
   ]
  },
  {
   "cell_type": "code",
   "execution_count": null,
   "metadata": {
    "id": "zCwpwZfRdDsP"
   },
   "outputs": [],
   "source": [
    "cust_profile[0]"
   ]
  },
  {
   "cell_type": "code",
   "execution_count": null,
   "metadata": {
    "id": "1Po-cAqRdDsP"
   },
   "outputs": [],
   "source": [
    "cust_profile[C001]"
   ]
  },
  {
   "cell_type": "code",
   "execution_count": null,
   "metadata": {
    "id": "kkYhe53jdDsP"
   },
   "outputs": [],
   "source": [
    "cust_profile[\"C001\"]"
   ]
  },
  {
   "cell_type": "code",
   "execution_count": null,
   "metadata": {
    "id": "28iYf8pOdDsP"
   },
   "outputs": [],
   "source": [
    "cust_profile[\"C002\"]"
   ]
  },
  {
   "cell_type": "code",
   "execution_count": null,
   "metadata": {
    "id": "PoOfWvoedDsP"
   },
   "outputs": [],
   "source": [
    "#Updating values\n",
    "cust_profile[\"C002\"]=\"Tom\""
   ]
  },
  {
   "cell_type": "code",
   "execution_count": null,
   "metadata": {
    "id": "zdNSk2EjdDsP"
   },
   "outputs": [],
   "source": [
    "print(cust_profile)"
   ]
  },
  {
   "cell_type": "code",
   "execution_count": null,
   "metadata": {
    "id": "MrO4SiN7dDsP"
   },
   "outputs": [],
   "source": [
    "#Updating Keys\n",
    "#C001 ---> C009\n",
    "\n",
    "#Delete + Add\n",
    "\n",
    "del(cust_profile[\"C001\"])"
   ]
  },
  {
   "cell_type": "code",
   "execution_count": null,
   "metadata": {
    "id": "Ta1uRbALdDsP"
   },
   "outputs": [],
   "source": [
    "print(cust_profile)"
   ]
  },
  {
   "cell_type": "code",
   "execution_count": null,
   "metadata": {
    "id": "qMovdXjAdDsP"
   },
   "outputs": [],
   "source": [
    "cust_profile[\"C009\"]=\"David\""
   ]
  },
  {
   "cell_type": "code",
   "execution_count": null,
   "metadata": {
    "id": "TP4NGXN-dDsP"
   },
   "outputs": [],
   "source": [
    "print(cust_profile)"
   ]
  },
  {
   "cell_type": "markdown",
   "metadata": {
    "id": "BhMZAyT-dDsQ"
   },
   "source": [
    "## Iterating in Dictionaries"
   ]
  },
  {
   "cell_type": "code",
   "execution_count": null,
   "metadata": {
    "id": "bd6PzBCDdDsQ"
   },
   "outputs": [],
   "source": [
    "Employee = {\"Name\": \"Tom\", \"Emp_id\": 198876, \"Age\": 29, \"salary\":25000,\"Company\":\"FB\"}    \n",
    "for x in Employee:    \n",
    "    print(x)  "
   ]
  },
  {
   "cell_type": "code",
   "execution_count": null,
   "metadata": {
    "id": "qLJIUitIdDsQ"
   },
   "outputs": [],
   "source": [
    "for x in Employee.values():    \n",
    "    print(x)  "
   ]
  },
  {
   "cell_type": "code",
   "execution_count": null,
   "metadata": {
    "id": "z68ttoF9dDsQ"
   },
   "outputs": [],
   "source": [
    "for x in Employee.keys():    \n",
    "    print(x)  "
   ]
  },
  {
   "cell_type": "code",
   "execution_count": null,
   "metadata": {
    "id": "yTRUx3IydDsQ"
   },
   "outputs": [],
   "source": [
    "for x in Employee.keys():    \n",
    "    print(x,Employee[x])  "
   ]
  },
  {
   "cell_type": "code",
   "execution_count": null,
   "metadata": {
    "id": "6v8ZwUZndDsQ"
   },
   "outputs": [],
   "source": [
    "for x in Employee.items():    \n",
    "    print(x)  "
   ]
  },
  {
   "cell_type": "markdown",
   "metadata": {
    "id": "quo8pfd5dDsQ"
   },
   "source": [
    "## LAB: Dictionary Operations"
   ]
  },
  {
   "cell_type": "code",
   "execution_count": null,
   "metadata": {
    "id": "kMKMUiHKdDsQ"
   },
   "outputs": [],
   "source": [
    "# Create a dictionary\n",
    "name_age ={'Stan':8, 'Kyle':8, 'Cartman':10}\n",
    "name_age"
   ]
  },
  {
   "cell_type": "code",
   "execution_count": null,
   "metadata": {
    "id": "PFIwvmVEdDsQ"
   },
   "outputs": [],
   "source": [
    "name_age['Cartman']"
   ]
  },
  {
   "cell_type": "code",
   "execution_count": null,
   "metadata": {
    "id": "_c2AFLNSdDsQ"
   },
   "outputs": [],
   "source": [
    "# add a new key pair:\n",
    "name_age['Kenny'] = 9\n",
    "name_age"
   ]
  },
  {
   "cell_type": "code",
   "execution_count": null,
   "metadata": {
    "id": "-4zx-yFkdDsR"
   },
   "outputs": [],
   "source": [
    "# Updating a dictionary with dictionary(multiple value update)\n",
    "name_age.update({'Cartman':11, 'Token':10})\n",
    "name_age"
   ]
  },
  {
   "cell_type": "code",
   "execution_count": null,
   "metadata": {
    "id": "-8RMmvbAdDsR"
   },
   "outputs": [],
   "source": []
  },
  {
   "cell_type": "code",
   "execution_count": null,
   "metadata": {
    "id": "GtXnxnoCymDU"
   },
   "outputs": [],
   "source": [
    "519+98"
   ]
  },
  {
   "cell_type": "code",
   "execution_count": null,
   "metadata": {
    "id": "WGq9Yjo3yxA5"
   },
   "outputs": [],
   "source": [
    "78*91"
   ]
  },
  {
   "cell_type": "code",
   "execution_count": null,
   "metadata": {
    "id": "R2eyxhcOyxMS"
   },
   "outputs": [],
   "source": [
    "459-67"
   ]
  },
  {
   "cell_type": "code",
   "execution_count": null,
   "metadata": {
    "id": "dFzw8vJAbYWb"
   },
   "outputs": [],
   "source": []
  }
 ],
 "metadata": {
  "colab": {
   "authorship_tag": "ABX9TyO4Mh3K64U6e6/VVvMxDS8E",
   "collapsed_sections": [
    "QKol9Cw8dDrz",
    "MAWTHa5NdDr0",
    "m8AfitV8dDr2",
    "CggTeA2ZdDr5",
    "fTXAWyMYdDr6",
    "kOv4T1bQdDr7",
    "Aqim7dE3dDr7",
    "8nXXL10GdDsC",
    "rck5wNbmdDsD",
    "5za1XRnwdDsD",
    "zVNq7SLldDsE",
    "SVbaMro8dDsE",
    "SilW98phdDsH",
    "RCsuXT3KdDsK",
    "WhHk7OOrdDsK",
    "SN_8m4s8dDsL",
    "cOSNXFp6dDsL",
    "wX0PS4isdDsM",
    "7eZLC_aodDsN",
    "VU9k97Z-dDsN",
    "BhMZAyT-dDsQ",
    "quo8pfd5dDsQ"
   ],
   "provenance": [],
   "toc_visible": true
  },
  "kernelspec": {
   "display_name": "Python 3",
   "name": "python3"
  },
  "language_info": {
   "codemirror_mode": {
    "name": "ipython",
    "version": 3
   },
   "file_extension": ".py",
   "mimetype": "text/x-python",
   "name": "python",
   "nbconvert_exporter": "python",
   "pygments_lexer": "ipython3",
   "version": "3.12.5"
  }
 },
 "nbformat": 4,
 "nbformat_minor": 0
}
