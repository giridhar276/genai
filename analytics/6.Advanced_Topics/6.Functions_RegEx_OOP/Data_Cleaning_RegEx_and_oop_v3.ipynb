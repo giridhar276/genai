{
 "cells": [
  {
   "cell_type": "code",
   "execution_count": null,
   "metadata": {
    "executionInfo": {
     "elapsed": 1137,
     "status": "ok",
     "timestamp": 1672298948711,
     "user": {
      "displayName": "Venkata Reddy Konasani (Venky)",
      "userId": "11388081409849462561"
     },
     "user_tz": -330
    },
    "id": "d9bc550e"
   },
   "outputs": [],
   "source": [
    "import pandas as pd\n",
    "from datetime import datetime\n",
    "import warnings\n",
    "warnings.filterwarnings(\"ignore\")"
   ]
  },
  {
   "cell_type": "markdown",
   "metadata": {
    "id": "b2078682"
   },
   "source": [
    "# DataSets"
   ]
  },
  {
   "cell_type": "code",
   "execution_count": null,
   "metadata": {
    "executionInfo": {
     "elapsed": 4573,
     "status": "ok",
     "timestamp": 1672298954332,
     "user": {
      "displayName": "Venkata Reddy Konasani (Venky)",
      "userId": "11388081409849462561"
     },
     "user_tz": -330
    },
    "id": "6557d679"
   },
   "outputs": [],
   "source": [
    "cc_usage = pd.read_csv(\"https://raw.githubusercontent.com/giridhar276/Datasets/master/Credit_Card_Cust_Usage/Card_Usage_v1.csv\")\n",
    "ny_taxi_fare=pd.read_csv(\"https://raw.githubusercontent.com/giridhar276/Datasets/master/NY_taxi_fare/NY_taxi_fare_sample.csv\")\n",
    "kc_house_price=pd.read_csv(\"https://raw.githubusercontent.com/giridhar276/Datasets/master/kc_house_data/kc_house_data.csv\")\n",
    "nifty_stock_price=pd.read_csv(\"https://raw.githubusercontent.com/giridhar276/Datasets/master/Nifty_stock_data/stock_price_data.csv\")\n",
    "rossmann_sales=pd.read_csv(\"https://raw.githubusercontent.com/giridhar276/Datasets/master/Rossmann_Store_Sales/Rossmann_Store_Sales.zip\", compression=\"zip\")\n",
    "air_bnb_ny=pd.read_csv(\"https://raw.githubusercontent.com/giridhar276/Datasets/master/AirBnB_NY/AB_NYC_2019.zip\", compression=\"zip\")\n",
    "twitter_data=pd.read_csv(\"https://raw.githubusercontent.com/giridhar276/Datasets/master/Twitter_Sentiment/Twitter_Sentiment_Data.csv\")"
   ]
  },
  {
   "cell_type": "code",
   "execution_count": null,
   "metadata": {
    "colab": {
     "base_uri": "https://localhost:8080/",
     "height": 870
    },
    "executionInfo": {
     "elapsed": 135,
     "status": "ok",
     "timestamp": 1672298954352,
     "user": {
      "displayName": "Venkata Reddy Konasani (Venky)",
      "userId": "11388081409849462561"
     },
     "user_tz": -330
    },
    "id": "e890c7b5",
    "outputId": "92809954-869f-44cc-eb35-f02a8a39c6e6"
   },
   "outputs": [],
   "source": [
    "air_bnb_ny"
   ]
  },
  {
   "cell_type": "markdown",
   "metadata": {
    "id": "766521e9"
   },
   "source": [
    "# String Format for custom variables"
   ]
  },
  {
   "cell_type": "code",
   "execution_count": null,
   "metadata": {
    "executionInfo": {
     "elapsed": 132,
     "status": "ok",
     "timestamp": 1672298954352,
     "user": {
      "displayName": "Venkata Reddy Konasani (Venky)",
      "userId": "11388081409849462561"
     },
     "user_tz": -330
    },
    "id": "4a92a535"
   },
   "outputs": [],
   "source": [
    "avg_age=cc_usage[\"Customer_Age\"].mean()"
   ]
  },
  {
   "cell_type": "code",
   "execution_count": null,
   "metadata": {
    "colab": {
     "base_uri": "https://localhost:8080/"
    },
    "executionInfo": {
     "elapsed": 133,
     "status": "ok",
     "timestamp": 1672298954353,
     "user": {
      "displayName": "Venkata Reddy Konasani (Venky)",
      "userId": "11388081409849462561"
     },
     "user_tz": -330
    },
    "id": "dba9d266",
    "outputId": "d5ccd0e5-fe8c-488d-da50-49deee2b30bf"
   },
   "outputs": [],
   "source": [
    "print(\"The average age is {}\".format(avg_age))"
   ]
  },
  {
   "cell_type": "code",
   "execution_count": null,
   "metadata": {
    "executionInfo": {
     "elapsed": 129,
     "status": "ok",
     "timestamp": 1672298954354,
     "user": {
      "displayName": "Venkata Reddy Konasani (Venky)",
      "userId": "11388081409849462561"
     },
     "user_tz": -330
    },
    "id": "b7451ae6"
   },
   "outputs": [],
   "source": [
    "avg_credit_limit=cc_usage[\"Credit_Limit\"].mean()"
   ]
  },
  {
   "cell_type": "code",
   "execution_count": null,
   "metadata": {
    "colab": {
     "base_uri": "https://localhost:8080/"
    },
    "executionInfo": {
     "elapsed": 130,
     "status": "ok",
     "timestamp": 1672298954355,
     "user": {
      "displayName": "Venkata Reddy Konasani (Venky)",
      "userId": "11388081409849462561"
     },
     "user_tz": -330
    },
    "id": "b56bc119",
    "outputId": "c98b3b17-a900-43ce-9ad2-74197104059b"
   },
   "outputs": [],
   "source": [
    "print(\"The average age is {} and the average credit limit is {}\".format(avg_age, avg_credit_limit ))"
   ]
  },
  {
   "cell_type": "markdown",
   "metadata": {
    "id": "fd602785"
   },
   "source": [
    "## One more way of formatting"
   ]
  },
  {
   "cell_type": "code",
   "execution_count": null,
   "metadata": {
    "colab": {
     "base_uri": "https://localhost:8080/"
    },
    "executionInfo": {
     "elapsed": 127,
     "status": "ok",
     "timestamp": 1672298954356,
     "user": {
      "displayName": "Venkata Reddy Konasani (Venky)",
      "userId": "11388081409849462561"
     },
     "user_tz": -330
    },
    "id": "b7bc1298",
    "outputId": "767b5590-ad7f-4270-dfb7-36e57ac6fc9b"
   },
   "outputs": [],
   "source": [
    "print(f\"The average age is {avg_age} , the average credit limit is {avg_credit_limit}\")"
   ]
  },
  {
   "cell_type": "markdown",
   "metadata": {
    "id": "5e36d154"
   },
   "source": [
    "## Reorder the Values"
   ]
  },
  {
   "cell_type": "code",
   "execution_count": null,
   "metadata": {
    "executionInfo": {
     "elapsed": 125,
     "status": "ok",
     "timestamp": 1672298954357,
     "user": {
      "displayName": "Venkata Reddy Konasani (Venky)",
      "userId": "11388081409849462561"
     },
     "user_tz": -330
    },
    "id": "d81ad0a7"
   },
   "outputs": [],
   "source": [
    "avg_Dependent_count=cc_usage[\"Dependent_count\"].mean() "
   ]
  },
  {
   "cell_type": "code",
   "execution_count": null,
   "metadata": {
    "colab": {
     "base_uri": "https://localhost:8080/"
    },
    "executionInfo": {
     "elapsed": 126,
     "status": "ok",
     "timestamp": 1672298954358,
     "user": {
      "displayName": "Venkata Reddy Konasani (Venky)",
      "userId": "11388081409849462561"
     },
     "user_tz": -330
    },
    "id": "484dc230",
    "outputId": "475ebb32-1140-4200-b0e4-9c2e63af6caf"
   },
   "outputs": [],
   "source": [
    "print(\"The average age is {} , the average credit limit is {} , the average Dependent count is {}\".format(avg_Dependent_count, avg_credit_limit, avg_age))"
   ]
  },
  {
   "cell_type": "code",
   "execution_count": null,
   "metadata": {
    "colab": {
     "base_uri": "https://localhost:8080/"
    },
    "executionInfo": {
     "elapsed": 124,
     "status": "ok",
     "timestamp": 1672298954359,
     "user": {
      "displayName": "Venkata Reddy Konasani (Venky)",
      "userId": "11388081409849462561"
     },
     "user_tz": -330
    },
    "id": "353f80e0",
    "outputId": "fb32f1a1-a44b-4f72-8abb-22f8a52be33e"
   },
   "outputs": [],
   "source": [
    "print(\"The average age is {2} , the average credit limit is {1} , the average Dependent count is {0}\".format(avg_Dependent_count, avg_credit_limit, avg_age))"
   ]
  },
  {
   "cell_type": "markdown",
   "metadata": {
    "id": "aldAUmOUYA3K"
   },
   "source": [
    "Same code can be written as below "
   ]
  },
  {
   "cell_type": "code",
   "execution_count": null,
   "metadata": {
    "colab": {
     "base_uri": "https://localhost:8080/"
    },
    "executionInfo": {
     "elapsed": 121,
     "status": "ok",
     "timestamp": 1672298954360,
     "user": {
      "displayName": "Venkata Reddy Konasani (Venky)",
      "userId": "11388081409849462561"
     },
     "user_tz": -330
    },
    "id": "wzRsnPsrX9Y7",
    "outputId": "c46c3dc9-3fdd-427e-937e-1d22c1c954e8"
   },
   "outputs": [],
   "source": [
    "print(\"The average age is {} , the average credit limit is {} , the average Dependent count is {}\".format(2.3462032191172115, 8631.953698034848, 46.32596030413745))"
   ]
  },
  {
   "cell_type": "code",
   "execution_count": null,
   "metadata": {
    "colab": {
     "base_uri": "https://localhost:8080/"
    },
    "executionInfo": {
     "elapsed": 119,
     "status": "ok",
     "timestamp": 1672298954361,
     "user": {
      "displayName": "Venkata Reddy Konasani (Venky)",
      "userId": "11388081409849462561"
     },
     "user_tz": -330
    },
    "id": "QRdXsH1mX9Y8",
    "outputId": "80144cd7-de85-44cd-847d-868ca05e6340"
   },
   "outputs": [],
   "source": [
    "print(\"The average age is {2} , the average credit limit is {1} , the average Dependent count is {0}\".format(2.3462032191172115, 8631.953698034848, 46.32596030413745))"
   ]
  },
  {
   "cell_type": "markdown",
   "metadata": {
    "id": "7efe31d5"
   },
   "source": [
    "## Placeholders with name"
   ]
  },
  {
   "cell_type": "code",
   "execution_count": null,
   "metadata": {
    "colab": {
     "base_uri": "https://localhost:8080/"
    },
    "executionInfo": {
     "elapsed": 116,
     "status": "ok",
     "timestamp": 1672298954361,
     "user": {
      "displayName": "Venkata Reddy Konasani (Venky)",
      "userId": "11388081409849462561"
     },
     "user_tz": -330
    },
    "id": "04c53ed6",
    "outputId": "5c88703b-28b1-483e-b011-7c13afb31da4"
   },
   "outputs": [],
   "source": [
    "print(\"The average age is {age} , the average credit limit is {clim} , the average Dependent count is {depen}\".format(depen=2.3462032191172115, clim=8631.953698034848, age=46.32596030413745))"
   ]
  },
  {
   "cell_type": "markdown",
   "metadata": {
    "id": "ea26d596"
   },
   "source": [
    "## Customizing the ouput format"
   ]
  },
  {
   "cell_type": "code",
   "execution_count": null,
   "metadata": {
    "colab": {
     "base_uri": "https://localhost:8080/"
    },
    "executionInfo": {
     "elapsed": 114,
     "status": "ok",
     "timestamp": 1672298954362,
     "user": {
      "displayName": "Venkata Reddy Konasani (Venky)",
      "userId": "11388081409849462561"
     },
     "user_tz": -330
    },
    "id": "4e0e413f",
    "outputId": "d6be82a7-d94c-4fa0-dbfb-12c57ecaf03a"
   },
   "outputs": [],
   "source": [
    "print(\"The average age is {age:0.1f} , the average credit limit is {clim:0.0f} , the average Dependent count is {depen:0.1f}\".format(depen=2.3462032191172115, clim=8631.953698034848, age=46.32596030413745))"
   ]
  },
  {
   "cell_type": "code",
   "execution_count": null,
   "metadata": {
    "colab": {
     "base_uri": "https://localhost:8080/"
    },
    "executionInfo": {
     "elapsed": 111,
     "status": "ok",
     "timestamp": 1672298954362,
     "user": {
      "displayName": "Venkata Reddy Konasani (Venky)",
      "userId": "11388081409849462561"
     },
     "user_tz": -330
    },
    "id": "1716f878",
    "outputId": "81424253-29da-40b8-97d9-79aad75f09e7"
   },
   "outputs": [],
   "source": [
    "print(\"The average age is {2:0.1f} , the average credit limit is {1:0.0f} , the average Dependent count is {0:0.2f}\".format(2.3462032191172115, 8631.953698034848, 46.32596030413745))"
   ]
  },
  {
   "cell_type": "markdown",
   "metadata": {
    "id": "4f916653"
   },
   "source": [
    "## Print as percentage"
   ]
  },
  {
   "cell_type": "code",
   "execution_count": null,
   "metadata": {
    "colab": {
     "base_uri": "https://localhost:8080/"
    },
    "executionInfo": {
     "elapsed": 107,
     "status": "ok",
     "timestamp": 1672298954363,
     "user": {
      "displayName": "Venkata Reddy Konasani (Venky)",
      "userId": "11388081409849462561"
     },
     "user_tz": -330
    },
    "id": "b8e459a0",
    "outputId": "c806ed11-cf9e-47c7-d737-2afcf6b92a67"
   },
   "outputs": [],
   "source": [
    "avg_util_percent=cc_usage[\"Avg_Utilization_Ratio\"].mean() \n",
    "print(\"The Avg_Utilization_Ratio age is {:0.2f} \".format(avg_util_percent))"
   ]
  },
  {
   "cell_type": "code",
   "execution_count": null,
   "metadata": {
    "colab": {
     "base_uri": "https://localhost:8080/"
    },
    "executionInfo": {
     "elapsed": 104,
     "status": "ok",
     "timestamp": 1672298954363,
     "user": {
      "displayName": "Venkata Reddy Konasani (Venky)",
      "userId": "11388081409849462561"
     },
     "user_tz": -330
    },
    "id": "e63fa2db",
    "outputId": "2feb4bba-a07f-4cb7-bf72-88abdfad8832"
   },
   "outputs": [],
   "source": [
    "print(\"The Avg_Utilization_Ratio age is {:0.2%} \".format(avg_util_percent))"
   ]
  },
  {
   "cell_type": "markdown",
   "metadata": {
    "id": "5444bde8"
   },
   "source": [
    "## LAB - String Format for custom variables"
   ]
  },
  {
   "cell_type": "code",
   "execution_count": null,
   "metadata": {
    "colab": {
     "base_uri": "https://localhost:8080/"
    },
    "executionInfo": {
     "elapsed": 102,
     "status": "ok",
     "timestamp": 1672298954364,
     "user": {
      "displayName": "Venkata Reddy Konasani (Venky)",
      "userId": "11388081409849462561"
     },
     "user_tz": -330
    },
    "id": "ea7006b7",
    "outputId": "27711d0b-94cf-4f36-94fd-6ff333052d3e"
   },
   "outputs": [],
   "source": [
    "avg_fare= ny_taxi_fare[\"fare_amount\"].mean()\n",
    "avg_fare"
   ]
  },
  {
   "cell_type": "code",
   "execution_count": null,
   "metadata": {
    "colab": {
     "base_uri": "https://localhost:8080/"
    },
    "executionInfo": {
     "elapsed": 100,
     "status": "ok",
     "timestamp": 1672298954365,
     "user": {
      "displayName": "Venkata Reddy Konasani (Venky)",
      "userId": "11388081409849462561"
     },
     "user_tz": -330
    },
    "id": "3b012945",
    "outputId": "bee45d84-4538-4f81-877d-66a2d304b313"
   },
   "outputs": [],
   "source": [
    "avg_passenger_count= ny_taxi_fare[\"passenger_count\"].median()\n",
    "avg_passenger_count"
   ]
  },
  {
   "cell_type": "code",
   "execution_count": null,
   "metadata": {
    "colab": {
     "base_uri": "https://localhost:8080/"
    },
    "executionInfo": {
     "elapsed": 97,
     "status": "ok",
     "timestamp": 1672298954365,
     "user": {
      "displayName": "Venkata Reddy Konasani (Venky)",
      "userId": "11388081409849462561"
     },
     "user_tz": -330
    },
    "id": "aaf059b6",
    "outputId": "7a8cb7af-22ce-4991-8393-196660bf6ebb"
   },
   "outputs": [],
   "source": [
    "perecent_fare=len(ny_taxi_fare[ny_taxi_fare[\"fare_amount\"]>50])/len(ny_taxi_fare)\n",
    "perecent_fare"
   ]
  },
  {
   "cell_type": "code",
   "execution_count": null,
   "metadata": {
    "colab": {
     "base_uri": "https://localhost:8080/"
    },
    "executionInfo": {
     "elapsed": 94,
     "status": "ok",
     "timestamp": 1672298954366,
     "user": {
      "displayName": "Venkata Reddy Konasani (Venky)",
      "userId": "11388081409849462561"
     },
     "user_tz": -330
    },
    "id": "1c7a48ef",
    "outputId": "5f9a71a3-4239-4ea9-b9dc-053e66b84c1b"
   },
   "outputs": [],
   "source": [
    "print(\"The average taxi fare amount is {} and the median number of passengers per trip are {}\".format(avg_fare, avg_passenger_count))"
   ]
  },
  {
   "cell_type": "code",
   "execution_count": null,
   "metadata": {
    "colab": {
     "base_uri": "https://localhost:8080/"
    },
    "executionInfo": {
     "elapsed": 90,
     "status": "ok",
     "timestamp": 1672298954366,
     "user": {
      "displayName": "Venkata Reddy Konasani (Venky)",
      "userId": "11388081409849462561"
     },
     "user_tz": -330
    },
    "id": "e43f6450",
    "outputId": "670635b2-123c-427f-f68b-f9832666ad25"
   },
   "outputs": [],
   "source": [
    "print(\"The average taxi fare amount is {:0.2f} and the median number of passengers per trip are {:0.0f}\".format(avg_fare, avg_passenger_count))"
   ]
  },
  {
   "cell_type": "code",
   "execution_count": null,
   "metadata": {
    "colab": {
     "base_uri": "https://localhost:8080/"
    },
    "executionInfo": {
     "elapsed": 88,
     "status": "ok",
     "timestamp": 1672298954367,
     "user": {
      "displayName": "Venkata Reddy Konasani (Venky)",
      "userId": "11388081409849462561"
     },
     "user_tz": -330
    },
    "id": "33b2a727",
    "outputId": "3628dd98-e68c-4f6f-ad3a-f7b9257ca2f0"
   },
   "outputs": [],
   "source": [
    "print(\"The percentage of trips with fare amount is greater than 50$ is {:0.2%}\".format(perecent_fare))"
   ]
  },
  {
   "cell_type": "markdown",
   "metadata": {
    "id": "96e8e76c"
   },
   "source": [
    "# Dates"
   ]
  },
  {
   "cell_type": "code",
   "execution_count": null,
   "metadata": {
    "colab": {
     "base_uri": "https://localhost:8080/",
     "height": 488
    },
    "executionInfo": {
     "elapsed": 85,
     "status": "ok",
     "timestamp": 1672298954368,
     "user": {
      "displayName": "Venkata Reddy Konasani (Venky)",
      "userId": "11388081409849462561"
     },
     "user_tz": -330
    },
    "id": "b8734715",
    "outputId": "7fdb24e1-b1f6-4f86-f343-1771d560bd5d"
   },
   "outputs": [],
   "source": [
    "kc_house_price"
   ]
  },
  {
   "cell_type": "code",
   "execution_count": null,
   "metadata": {
    "colab": {
     "base_uri": "https://localhost:8080/"
    },
    "executionInfo": {
     "elapsed": 84,
     "status": "ok",
     "timestamp": 1672298954368,
     "user": {
      "displayName": "Venkata Reddy Konasani (Venky)",
      "userId": "11388081409849462561"
     },
     "user_tz": -330
    },
    "id": "1dc91a47",
    "outputId": "ee002bf4-a7e5-48b6-8b71-476c2d8cb320"
   },
   "outputs": [],
   "source": [
    "kc_house_price[\"date\"].apply(lambda x: x[0:8])"
   ]
  },
  {
   "cell_type": "code",
   "execution_count": null,
   "metadata": {
    "colab": {
     "base_uri": "https://localhost:8080/"
    },
    "executionInfo": {
     "elapsed": 81,
     "status": "ok",
     "timestamp": 1672298954369,
     "user": {
      "displayName": "Venkata Reddy Konasani (Venky)",
      "userId": "11388081409849462561"
     },
     "user_tz": -330
    },
    "id": "ce4bac53",
    "outputId": "67f03707-0178-4377-caf3-7fb2b86b79a0"
   },
   "outputs": [],
   "source": [
    "kc_house_price[\"date_split\"]=kc_house_price[\"date\"].apply(lambda x: x.split(\"T\"))\n",
    "kc_house_price[\"date_split\"]"
   ]
  },
  {
   "cell_type": "code",
   "execution_count": null,
   "metadata": {
    "colab": {
     "base_uri": "https://localhost:8080/"
    },
    "executionInfo": {
     "elapsed": 77,
     "status": "ok",
     "timestamp": 1672298954369,
     "user": {
      "displayName": "Venkata Reddy Konasani (Venky)",
      "userId": "11388081409849462561"
     },
     "user_tz": -330
    },
    "id": "526a535b",
    "outputId": "07573c50-c146-4a71-b5ab-f5daf7c501e7"
   },
   "outputs": [],
   "source": [
    "kc_house_price[\"date_split\"]=kc_house_price[\"date\"].apply(lambda x: x.split(\"T\")[0])\n",
    "kc_house_price[\"date_split\"]"
   ]
  },
  {
   "cell_type": "markdown",
   "metadata": {
    "id": "cf29196a"
   },
   "source": [
    "## strptime() from string to date"
   ]
  },
  {
   "cell_type": "code",
   "execution_count": null,
   "metadata": {
    "colab": {
     "base_uri": "https://localhost:8080/"
    },
    "executionInfo": {
     "elapsed": 74,
     "status": "ok",
     "timestamp": 1672298954370,
     "user": {
      "displayName": "Venkata Reddy Konasani (Venky)",
      "userId": "11388081409849462561"
     },
     "user_tz": -330
    },
    "id": "9QksEP5dp3d2",
    "outputId": "3072c34e-8ca3-40e7-b9c1-e65c4eef6ec4"
   },
   "outputs": [],
   "source": [
    "from datetime import datetime \n",
    "\n",
    "date_string=\"2022-12-29\"\n",
    "date_formt=\"%Y-%m-%d\"\n",
    "\n",
    "date=datetime.strptime(date_string, \"%Y-%m-%d\")\n",
    "print(date)"
   ]
  },
  {
   "cell_type": "code",
   "execution_count": null,
   "metadata": {
    "colab": {
     "base_uri": "https://localhost:8080/"
    },
    "executionInfo": {
     "elapsed": 72,
     "status": "ok",
     "timestamp": 1672298954371,
     "user": {
      "displayName": "Venkata Reddy Konasani (Venky)",
      "userId": "11388081409849462561"
     },
     "user_tz": -330
    },
    "id": "371ca089",
    "outputId": "92a084d1-c17f-4aea-a8b1-5b9b49e43b30"
   },
   "outputs": [],
   "source": [
    "from datetime import datetime\n",
    "kc_house_price[\"date_cleaned\"]=kc_house_price[\"date_split\"].apply(lambda x: datetime.strptime(x, \"%Y%m%d\"))\n",
    "kc_house_price[\"date_cleaned\"]"
   ]
  },
  {
   "cell_type": "code",
   "execution_count": null,
   "metadata": {
    "colab": {
     "base_uri": "https://localhost:8080/"
    },
    "executionInfo": {
     "elapsed": 70,
     "status": "ok",
     "timestamp": 1672298954372,
     "user": {
      "displayName": "Venkata Reddy Konasani (Venky)",
      "userId": "11388081409849462561"
     },
     "user_tz": -330
    },
    "id": "e871c1d8",
    "outputId": "0538db62-577c-4e87-b88e-c0b094a20eaa"
   },
   "outputs": [],
   "source": [
    "type(kc_house_price[\"date_cleaned\"][0])"
   ]
  },
  {
   "cell_type": "code",
   "execution_count": null,
   "metadata": {
    "colab": {
     "base_uri": "https://localhost:8080/"
    },
    "executionInfo": {
     "elapsed": 67,
     "status": "ok",
     "timestamp": 1672298954373,
     "user": {
      "displayName": "Venkata Reddy Konasani (Venky)",
      "userId": "11388081409849462561"
     },
     "user_tz": -330
    },
    "id": "7627df22",
    "outputId": "e8db1e04-99a7-4977-d6d2-efbed84001d9"
   },
   "outputs": [],
   "source": [
    "kc_house_price[[\"date_split\",\"date_cleaned\"]].info()"
   ]
  },
  {
   "cell_type": "markdown",
   "metadata": {
    "id": "5d231e63"
   },
   "source": [
    "## Derive month, year, day etc.,"
   ]
  },
  {
   "cell_type": "code",
   "execution_count": null,
   "metadata": {
    "colab": {
     "base_uri": "https://localhost:8080/"
    },
    "executionInfo": {
     "elapsed": 64,
     "status": "ok",
     "timestamp": 1672298954373,
     "user": {
      "displayName": "Venkata Reddy Konasani (Venky)",
      "userId": "11388081409849462561"
     },
     "user_tz": -330
    },
    "id": "c700cd9e",
    "outputId": "adb3735e-eed4-41f9-c87f-0e760cfbc222"
   },
   "outputs": [],
   "source": [
    "kc_house_price['month']=kc_house_price[\"date_cleaned\"].apply(lambda x: x.month)\n",
    "kc_house_price['month']"
   ]
  },
  {
   "cell_type": "code",
   "execution_count": null,
   "metadata": {
    "executionInfo": {
     "elapsed": 807,
     "status": "ok",
     "timestamp": 1672298955121,
     "user": {
      "displayName": "Venkata Reddy Konasani (Venky)",
      "userId": "11388081409849462561"
     },
     "user_tz": -330
    },
    "id": "e8a81022"
   },
   "outputs": [],
   "source": [
    "kc_house_price['year']=kc_house_price[\"date_cleaned\"].apply(lambda x: x.year)"
   ]
  },
  {
   "cell_type": "code",
   "execution_count": null,
   "metadata": {
    "colab": {
     "base_uri": "https://localhost:8080/"
    },
    "executionInfo": {
     "elapsed": 40,
     "status": "ok",
     "timestamp": 1672298955122,
     "user": {
      "displayName": "Venkata Reddy Konasani (Venky)",
      "userId": "11388081409849462561"
     },
     "user_tz": -330
    },
    "id": "777d9976",
    "outputId": "e224e01b-2930-4893-b613-8563c6e14e97"
   },
   "outputs": [],
   "source": [
    "kc_house_price['day']=kc_house_price[\"date_cleaned\"].apply(lambda x: x.day)\n",
    "kc_house_price['day']"
   ]
  },
  {
   "cell_type": "code",
   "execution_count": null,
   "metadata": {
    "colab": {
     "base_uri": "https://localhost:8080/"
    },
    "executionInfo": {
     "elapsed": 38,
     "status": "ok",
     "timestamp": 1672298955122,
     "user": {
      "displayName": "Venkata Reddy Konasani (Venky)",
      "userId": "11388081409849462561"
     },
     "user_tz": -330
    },
    "id": "30209aa5",
    "outputId": "468e1172-cfd8-4524-96d7-ec4fb43df8aa"
   },
   "outputs": [],
   "source": [
    "kc_house_price['weekday']=kc_house_price[\"date_cleaned\"].apply(lambda x: x.weekday())\n",
    "kc_house_price['weekday']"
   ]
  },
  {
   "cell_type": "markdown",
   "metadata": {
    "id": "a1c79c99"
   },
   "source": [
    "## strftime() - From date to strings"
   ]
  },
  {
   "cell_type": "code",
   "execution_count": null,
   "metadata": {
    "colab": {
     "base_uri": "https://localhost:8080/"
    },
    "executionInfo": {
     "elapsed": 31,
     "status": "ok",
     "timestamp": 1672298955123,
     "user": {
      "displayName": "Venkata Reddy Konasani (Venky)",
      "userId": "11388081409849462561"
     },
     "user_tz": -330
    },
    "id": "6d0b9823",
    "outputId": "a7304a80-c2b6-4cd2-ab11-a22bab02b8a8"
   },
   "outputs": [],
   "source": [
    "kc_house_price['month_name']=kc_house_price[\"date_cleaned\"].apply(lambda x: x.strftime('%B'))\n",
    "kc_house_price['month_name']"
   ]
  },
  {
   "cell_type": "code",
   "execution_count": null,
   "metadata": {
    "colab": {
     "base_uri": "https://localhost:8080/"
    },
    "executionInfo": {
     "elapsed": 27,
     "status": "ok",
     "timestamp": 1672298955123,
     "user": {
      "displayName": "Venkata Reddy Konasani (Venky)",
      "userId": "11388081409849462561"
     },
     "user_tz": -330
    },
    "id": "79282c8a",
    "outputId": "ce660466-ba68-4f94-c72b-ec983d670932"
   },
   "outputs": [],
   "source": [
    "kc_house_price['weekday_name']=kc_house_price[\"date_cleaned\"].apply(lambda x: x.strftime('%A'))\n",
    "kc_house_price['weekday_name']"
   ]
  },
  {
   "cell_type": "code",
   "execution_count": null,
   "metadata": {
    "colab": {
     "base_uri": "https://localhost:8080/"
    },
    "executionInfo": {
     "elapsed": 22,
     "status": "ok",
     "timestamp": 1672298955124,
     "user": {
      "displayName": "Venkata Reddy Konasani (Venky)",
      "userId": "11388081409849462561"
     },
     "user_tz": -330
    },
    "id": "09a6735e",
    "outputId": "e8211733-c349-46a1-e087-37594f09c5ba"
   },
   "outputs": [],
   "source": [
    "kc_house_price['year_YY']=kc_house_price[\"date_cleaned\"].apply(lambda x: x.strftime('%y'))\n",
    "kc_house_price['year_YY']"
   ]
  },
  {
   "cell_type": "markdown",
   "metadata": {
    "id": "5faa5036"
   },
   "source": [
    "## LAB: Working with dates"
   ]
  },
  {
   "cell_type": "code",
   "execution_count": null,
   "metadata": {
    "executionInfo": {
     "elapsed": 9083,
     "status": "ok",
     "timestamp": 1672298964191,
     "user": {
      "displayName": "Venkata Reddy Konasani (Venky)",
      "userId": "11388081409849462561"
     },
     "user_tz": -330
    },
    "id": "661f304b"
   },
   "outputs": [],
   "source": [
    "rossmann_sales[\"Date_final\"]=rossmann_sales[\"Date\"].apply(lambda x: datetime.strptime(x, \"%d-%m-%Y\"))"
   ]
  },
  {
   "cell_type": "code",
   "execution_count": null,
   "metadata": {
    "colab": {
     "base_uri": "https://localhost:8080/"
    },
    "executionInfo": {
     "elapsed": 21,
     "status": "ok",
     "timestamp": 1672298964191,
     "user": {
      "displayName": "Venkata Reddy Konasani (Venky)",
      "userId": "11388081409849462561"
     },
     "user_tz": -330
    },
    "id": "ee518f48",
    "outputId": "ffb2923f-99c9-42b9-eb19-ffa02382dbb6"
   },
   "outputs": [],
   "source": [
    "rossmann_sales.info()"
   ]
  },
  {
   "cell_type": "code",
   "execution_count": null,
   "metadata": {
    "colab": {
     "base_uri": "https://localhost:8080/"
    },
    "executionInfo": {
     "elapsed": 6874,
     "status": "ok",
     "timestamp": 1672298971052,
     "user": {
      "displayName": "Venkata Reddy Konasani (Venky)",
      "userId": "11388081409849462561"
     },
     "user_tz": -330
    },
    "id": "49245bd6",
    "outputId": "c11592cf-8b38-4b1e-def8-c909a22bb301"
   },
   "outputs": [],
   "source": [
    "rossmann_sales[\"month\"]=rossmann_sales[\"Date_final\"].apply(lambda x: x.strftime('%m'))\n",
    "rossmann_sales[\"month\"]"
   ]
  },
  {
   "cell_type": "code",
   "execution_count": null,
   "metadata": {
    "executionInfo": {
     "elapsed": 6529,
     "status": "ok",
     "timestamp": 1672298977561,
     "user": {
      "displayName": "Venkata Reddy Konasani (Venky)",
      "userId": "11388081409849462561"
     },
     "user_tz": -330
    },
    "id": "edef997a"
   },
   "outputs": [],
   "source": [
    "rossmann_sales[\"year\"]=rossmann_sales[\"Date_final\"].apply(lambda x: x.strftime('%Y'))"
   ]
  },
  {
   "cell_type": "code",
   "execution_count": null,
   "metadata": {
    "colab": {
     "base_uri": "https://localhost:8080/"
    },
    "executionInfo": {
     "elapsed": 6689,
     "status": "ok",
     "timestamp": 1672298984246,
     "user": {
      "displayName": "Venkata Reddy Konasani (Venky)",
      "userId": "11388081409849462561"
     },
     "user_tz": -330
    },
    "id": "642aaaaf",
    "outputId": "82e8aabe-e48d-4846-ee49-501a13a16139"
   },
   "outputs": [],
   "source": [
    "rossmann_sales[\"dayofyear\"]=rossmann_sales[\"Date_final\"].apply(lambda x: x.strftime('%j'))\n",
    "rossmann_sales[\"dayofyear\"]"
   ]
  },
  {
   "cell_type": "code",
   "execution_count": null,
   "metadata": {
    "colab": {
     "base_uri": "https://localhost:8080/"
    },
    "executionInfo": {
     "elapsed": 7202,
     "status": "ok",
     "timestamp": 1672298991434,
     "user": {
      "displayName": "Venkata Reddy Konasani (Venky)",
      "userId": "11388081409849462561"
     },
     "user_tz": -330
    },
    "id": "43b4a645",
    "outputId": "78c28f41-99d9-4174-df9e-661a4daaf210"
   },
   "outputs": [],
   "source": [
    "rossmann_sales[\"monthname\"]=rossmann_sales[\"Date_final\"].apply(lambda x: x.strftime('%B'))\n",
    "rossmann_sales[\"monthname\"]"
   ]
  },
  {
   "cell_type": "code",
   "execution_count": null,
   "metadata": {
    "colab": {
     "base_uri": "https://localhost:8080/"
    },
    "executionInfo": {
     "elapsed": 6373,
     "status": "ok",
     "timestamp": 1672298997804,
     "user": {
      "displayName": "Venkata Reddy Konasani (Venky)",
      "userId": "11388081409849462561"
     },
     "user_tz": -330
    },
    "id": "06b03bac",
    "outputId": "e2aabf57-8365-4121-b805-8ea459a01716"
   },
   "outputs": [],
   "source": [
    "rossmann_sales[\"weekofyear\"]=rossmann_sales[\"Date_final\"].apply(lambda x: x.strftime('%W'))\n",
    "rossmann_sales[\"weekofyear\"]"
   ]
  },
  {
   "cell_type": "markdown",
   "metadata": {
    "id": "a975fc66"
   },
   "source": [
    "# Datetime"
   ]
  },
  {
   "cell_type": "markdown",
   "metadata": {
    "id": "4501fc14"
   },
   "source": [
    "## apply function"
   ]
  },
  {
   "cell_type": "code",
   "execution_count": null,
   "metadata": {
    "colab": {
     "base_uri": "https://localhost:8080/",
     "height": 667
    },
    "executionInfo": {
     "elapsed": 94,
     "status": "ok",
     "timestamp": 1672298997806,
     "user": {
      "displayName": "Venkata Reddy Konasani (Venky)",
      "userId": "11388081409849462561"
     },
     "user_tz": -330
    },
    "id": "3b1081cf",
    "outputId": "b8e9adaa-fe0e-4ea7-f578-072d4d0059a5"
   },
   "outputs": [],
   "source": [
    "nifty_stock_price.info()\n",
    "nifty_stock_price"
   ]
  },
  {
   "cell_type": "code",
   "execution_count": null,
   "metadata": {
    "colab": {
     "base_uri": "https://localhost:8080/"
    },
    "executionInfo": {
     "elapsed": 86,
     "status": "ok",
     "timestamp": 1672298997807,
     "user": {
      "displayName": "Venkata Reddy Konasani (Venky)",
      "userId": "11388081409849462561"
     },
     "user_tz": -330
    },
    "id": "275fdea3",
    "outputId": "b20e12c0-177e-48dd-e51d-ccb3c1ae9911"
   },
   "outputs": [],
   "source": [
    "nifty_stock_price[\"Datetime1\"]=nifty_stock_price[\"Datetime\"].apply(lambda x: x.split('+')[0])\n",
    "nifty_stock_price[\"Datetime_cleaned\"]=nifty_stock_price[\"Datetime1\"].apply(lambda x: datetime.strptime(x, \"%Y-%m-%d %H:%M:%S\"))\n",
    "nifty_stock_price[\"Datetime_cleaned\"]"
   ]
  },
  {
   "cell_type": "code",
   "execution_count": null,
   "metadata": {
    "colab": {
     "base_uri": "https://localhost:8080/"
    },
    "executionInfo": {
     "elapsed": 83,
     "status": "ok",
     "timestamp": 1672298997808,
     "user": {
      "displayName": "Venkata Reddy Konasani (Venky)",
      "userId": "11388081409849462561"
     },
     "user_tz": -330
    },
    "id": "524010ff",
    "outputId": "aebd78be-e7e9-4d51-efe2-b9f85eb6583b"
   },
   "outputs": [],
   "source": [
    "nifty_stock_price[\"time\"]=nifty_stock_price[\"Datetime_cleaned\"].apply(lambda x: x.time())\n",
    "nifty_stock_price[\"time\"]"
   ]
  },
  {
   "cell_type": "code",
   "execution_count": null,
   "metadata": {
    "colab": {
     "base_uri": "https://localhost:8080/",
     "height": 424
    },
    "executionInfo": {
     "elapsed": 78,
     "status": "ok",
     "timestamp": 1672298997809,
     "user": {
      "displayName": "Venkata Reddy Konasani (Venky)",
      "userId": "11388081409849462561"
     },
     "user_tz": -330
    },
    "id": "c4d102c7",
    "outputId": "451d235b-65cc-4b20-9cd8-8f6d61efa1ab"
   },
   "outputs": [],
   "source": [
    "nifty_stock_price[\"hour\"]=nifty_stock_price[\"Datetime_cleaned\"].apply(lambda x: x.hour)\n",
    "nifty_stock_price[[\"Datetime_cleaned\", \"hour\"]]"
   ]
  },
  {
   "cell_type": "code",
   "execution_count": null,
   "metadata": {
    "colab": {
     "base_uri": "https://localhost:8080/",
     "height": 424
    },
    "executionInfo": {
     "elapsed": 78,
     "status": "ok",
     "timestamp": 1672298997810,
     "user": {
      "displayName": "Venkata Reddy Konasani (Venky)",
      "userId": "11388081409849462561"
     },
     "user_tz": -330
    },
    "id": "d1b110d7",
    "outputId": "312a8d80-46bc-48f8-92cb-1ff7311f0b24"
   },
   "outputs": [],
   "source": [
    "nifty_stock_price[\"minute\"]=nifty_stock_price[\"Datetime_cleaned\"].apply(lambda x: x.minute)\n",
    "nifty_stock_price[[\"Datetime_cleaned\", \"minute\"]]"
   ]
  },
  {
   "cell_type": "code",
   "execution_count": null,
   "metadata": {
    "colab": {
     "base_uri": "https://localhost:8080/",
     "height": 424
    },
    "executionInfo": {
     "elapsed": 77,
     "status": "ok",
     "timestamp": 1672298997810,
     "user": {
      "displayName": "Venkata Reddy Konasani (Venky)",
      "userId": "11388081409849462561"
     },
     "user_tz": -330
    },
    "id": "cbdc1362",
    "outputId": "76bc1dff-4ecf-4a66-df03-03411457c723"
   },
   "outputs": [],
   "source": [
    "nifty_stock_price[\"second\"]=nifty_stock_price[\"Datetime_cleaned\"].apply(lambda x: x.second)\n",
    "nifty_stock_price[[\"Datetime_cleaned\", \"second\"]]"
   ]
  },
  {
   "cell_type": "markdown",
   "metadata": {
    "id": "b79c6d0a"
   },
   "source": [
    "## Alternative way "
   ]
  },
  {
   "cell_type": "code",
   "execution_count": null,
   "metadata": {
    "colab": {
     "base_uri": "https://localhost:8080/"
    },
    "executionInfo": {
     "elapsed": 77,
     "status": "ok",
     "timestamp": 1672298997811,
     "user": {
      "displayName": "Venkata Reddy Konasani (Venky)",
      "userId": "11388081409849462561"
     },
     "user_tz": -330
    },
    "id": "9d78a450",
    "outputId": "c645acd8-f968-418f-8c97-805fb1bfa3c7"
   },
   "outputs": [],
   "source": [
    "nifty_stock_price[\"Datetime_cleaned\"].apply(lambda x: x.strftime('%H'))\n",
    "nifty_stock_price[\"Datetime_cleaned\"].apply(lambda x: x.strftime('%M'))\n",
    "nifty_stock_price[\"Datetime_cleaned\"].apply(lambda x: x.strftime('%S'))"
   ]
  },
  {
   "cell_type": "markdown",
   "metadata": {
    "id": "e4a00620"
   },
   "source": [
    "## Time Delta"
   ]
  },
  {
   "cell_type": "code",
   "execution_count": null,
   "metadata": {
    "colab": {
     "base_uri": "https://localhost:8080/"
    },
    "executionInfo": {
     "elapsed": 72,
     "status": "ok",
     "timestamp": 1672298997812,
     "user": {
      "displayName": "Venkata Reddy Konasani (Venky)",
      "userId": "11388081409849462561"
     },
     "user_tz": -330
    },
    "id": "3bdc8f8a",
    "outputId": "2f029531-5fa5-4552-aeab-a5d095c731ae"
   },
   "outputs": [],
   "source": [
    "min_date=nifty_stock_price[\"Datetime_cleaned\"].min()\n",
    "max_date=nifty_stock_price[\"Datetime_cleaned\"].max()\n",
    "print(\"min_date {} max date {}\".format(min_date,max_date))"
   ]
  },
  {
   "cell_type": "code",
   "execution_count": null,
   "metadata": {
    "colab": {
     "base_uri": "https://localhost:8080/"
    },
    "executionInfo": {
     "elapsed": 68,
     "status": "ok",
     "timestamp": 1672298997812,
     "user": {
      "displayName": "Venkata Reddy Konasani (Venky)",
      "userId": "11388081409849462561"
     },
     "user_tz": -330
    },
    "id": "59a3529e",
    "outputId": "555729ca-4415-4aff-ddaf-6d0b12c81e4b"
   },
   "outputs": [],
   "source": [
    "#Duration in days\n",
    "duration=max_date-min_date\n",
    "duration"
   ]
  },
  {
   "cell_type": "code",
   "execution_count": null,
   "metadata": {
    "colab": {
     "base_uri": "https://localhost:8080/"
    },
    "executionInfo": {
     "elapsed": 65,
     "status": "ok",
     "timestamp": 1672298997813,
     "user": {
      "displayName": "Venkata Reddy Konasani (Venky)",
      "userId": "11388081409849462561"
     },
     "user_tz": -330
    },
    "id": "9337b7bc",
    "outputId": "ce6970ce-324e-4662-9276-792d3901e083"
   },
   "outputs": [],
   "source": [
    "#Duration in hours\n",
    "from datetime import timedelta\n",
    "duration/timedelta(hours=1)"
   ]
  },
  {
   "cell_type": "code",
   "execution_count": null,
   "metadata": {
    "colab": {
     "base_uri": "https://localhost:8080/"
    },
    "executionInfo": {
     "elapsed": 61,
     "status": "ok",
     "timestamp": 1672298997813,
     "user": {
      "displayName": "Venkata Reddy Konasani (Venky)",
      "userId": "11388081409849462561"
     },
     "user_tz": -330
    },
    "id": "78383a0d",
    "outputId": "df8e5b4b-54c5-4a4d-b8fa-6b2b11344dc9"
   },
   "outputs": [],
   "source": [
    "#Duration in minutes\n",
    "duration/timedelta(minutes=1)"
   ]
  },
  {
   "cell_type": "markdown",
   "metadata": {
    "id": "510f478b"
   },
   "source": [
    "## LAB - Date Time"
   ]
  },
  {
   "cell_type": "code",
   "execution_count": null,
   "metadata": {
    "colab": {
     "base_uri": "https://localhost:8080/",
     "height": 468
    },
    "executionInfo": {
     "elapsed": 59,
     "status": "ok",
     "timestamp": 1672298997814,
     "user": {
      "displayName": "Venkata Reddy Konasani (Venky)",
      "userId": "11388081409849462561"
     },
     "user_tz": -330
    },
    "id": "1e8c0ba9",
    "outputId": "1634be29-4909-42b1-a585-0983060f8e97"
   },
   "outputs": [],
   "source": [
    "ny_taxi_fare"
   ]
  },
  {
   "cell_type": "code",
   "execution_count": null,
   "metadata": {
    "colab": {
     "base_uri": "https://localhost:8080/"
    },
    "executionInfo": {
     "elapsed": 58,
     "status": "ok",
     "timestamp": 1672298997814,
     "user": {
      "displayName": "Venkata Reddy Konasani (Venky)",
      "userId": "11388081409849462561"
     },
     "user_tz": -330
    },
    "id": "d875e853",
    "outputId": "539c7d15-88f7-40b2-c990-201ded2c76f0"
   },
   "outputs": [],
   "source": [
    "ny_taxi_fare[\"pickup_datetime1\"]=ny_taxi_fare[\"pickup_datetime\"].apply(lambda x: x.split('U')[0].strip())\n",
    "ny_taxi_fare[\"pickup_datetime1\"]"
   ]
  },
  {
   "cell_type": "code",
   "execution_count": null,
   "metadata": {
    "colab": {
     "base_uri": "https://localhost:8080/"
    },
    "executionInfo": {
     "elapsed": 4066,
     "status": "ok",
     "timestamp": 1672299001827,
     "user": {
      "displayName": "Venkata Reddy Konasani (Venky)",
      "userId": "11388081409849462561"
     },
     "user_tz": -330
    },
    "id": "3a625048",
    "outputId": "e4111070-9059-4525-fb77-97c0d404e4ae"
   },
   "outputs": [],
   "source": [
    "ny_taxi_fare[\"Datetime_cleaned\"]=ny_taxi_fare[\"pickup_datetime1\"].apply(lambda x: datetime.strptime(x, \"%Y-%m-%d %H:%M:%S\"))\n",
    "ny_taxi_fare[\"Datetime_cleaned\"]"
   ]
  },
  {
   "cell_type": "code",
   "execution_count": null,
   "metadata": {
    "colab": {
     "base_uri": "https://localhost:8080/"
    },
    "executionInfo": {
     "elapsed": 906,
     "status": "ok",
     "timestamp": 1672299002717,
     "user": {
      "displayName": "Venkata Reddy Konasani (Venky)",
      "userId": "11388081409849462561"
     },
     "user_tz": -330
    },
    "id": "1505a0e0",
    "outputId": "9e99e76c-0e91-4379-977b-382611a81ff8"
   },
   "outputs": [],
   "source": [
    "ny_taxi_fare[\"time\"]=ny_taxi_fare[\"Datetime_cleaned\"].apply(lambda x: x.time())\n",
    "ny_taxi_fare[\"time\"]"
   ]
  },
  {
   "cell_type": "code",
   "execution_count": null,
   "metadata": {
    "colab": {
     "base_uri": "https://localhost:8080/",
     "height": 661
    },
    "executionInfo": {
     "elapsed": 7000,
     "status": "ok",
     "timestamp": 1672299009710,
     "user": {
      "displayName": "Venkata Reddy Konasani (Venky)",
      "userId": "11388081409849462561"
     },
     "user_tz": -330
    },
    "id": "526993d5",
    "outputId": "2ab712a5-6b6c-4a8a-9a3d-b7cc90bf8ef4"
   },
   "outputs": [],
   "source": [
    "ny_taxi_fare[\"hour\"]=ny_taxi_fare[\"Datetime_cleaned\"].apply(lambda x: x.strftime('%H'))\n",
    "ny_taxi_fare[\"minute\"]=ny_taxi_fare[\"Datetime_cleaned\"].apply(lambda x: x.strftime('%M'))\n",
    "ny_taxi_fare[\"second\"]=ny_taxi_fare[\"Datetime_cleaned\"].apply(lambda x: x.strftime('%S'))\n",
    "ny_taxi_fare"
   ]
  },
  {
   "cell_type": "code",
   "execution_count": null,
   "metadata": {
    "colab": {
     "base_uri": "https://localhost:8080/"
    },
    "executionInfo": {
     "elapsed": 290,
     "status": "ok",
     "timestamp": 1672299009711,
     "user": {
      "displayName": "Venkata Reddy Konasani (Venky)",
      "userId": "11388081409849462561"
     },
     "user_tz": -330
    },
    "id": "73d5d8bb",
    "outputId": "7e8dc1e7-fd33-4109-c0a3-e4694ca71052"
   },
   "outputs": [],
   "source": [
    "ny_taxi_fare[\"hour\"].value_counts()"
   ]
  },
  {
   "cell_type": "code",
   "execution_count": null,
   "metadata": {
    "colab": {
     "base_uri": "https://localhost:8080/"
    },
    "executionInfo": {
     "elapsed": 273,
     "status": "ok",
     "timestamp": 1672299009712,
     "user": {
      "displayName": "Venkata Reddy Konasani (Venky)",
      "userId": "11388081409849462561"
     },
     "user_tz": -330
    },
    "id": "29223676",
    "outputId": "fdc86c31-b04b-4a05-c435-35cbcfb6c9ab"
   },
   "outputs": [],
   "source": [
    "min_date=ny_taxi_fare[\"Datetime_cleaned\"].min()\n",
    "max_date=ny_taxi_fare[\"Datetime_cleaned\"].max()\n",
    "print(\"min_date {} max date {}\".format(min_date,max_date))"
   ]
  },
  {
   "cell_type": "code",
   "execution_count": null,
   "metadata": {
    "colab": {
     "base_uri": "https://localhost:8080/"
    },
    "executionInfo": {
     "elapsed": 258,
     "status": "ok",
     "timestamp": 1672299009712,
     "user": {
      "displayName": "Venkata Reddy Konasani (Venky)",
      "userId": "11388081409849462561"
     },
     "user_tz": -330
    },
    "id": "e6209c58",
    "outputId": "900bca24-7a5a-425a-8552-eb8cace083d2"
   },
   "outputs": [],
   "source": [
    "#Duration in months\n",
    "from dateutil import relativedelta\n",
    "relativedelta.relativedelta(max_date, min_date)"
   ]
  },
  {
   "cell_type": "markdown",
   "metadata": {
    "id": "921c2f6c"
   },
   "source": [
    "# More on functions"
   ]
  },
  {
   "cell_type": "markdown",
   "metadata": {
    "id": "1238fefd"
   },
   "source": [
    "## Fixed number of input parameters "
   ]
  },
  {
   "cell_type": "code",
   "execution_count": null,
   "metadata": {
    "executionInfo": {
     "elapsed": 247,
     "status": "ok",
     "timestamp": 1672299009713,
     "user": {
      "displayName": "Venkata Reddy Konasani (Venky)",
      "userId": "11388081409849462561"
     },
     "user_tz": -330
    },
    "id": "4cc60654"
   },
   "outputs": [],
   "source": [
    "def sum_of_sq(a,b,c,d):\n",
    "    ss_val=pow(a,2)+pow(b,2)+pow(c,2)+pow(d,2)\n",
    "    return(ss_val)"
   ]
  },
  {
   "cell_type": "code",
   "execution_count": null,
   "metadata": {
    "colab": {
     "base_uri": "https://localhost:8080/"
    },
    "executionInfo": {
     "elapsed": 246,
     "status": "ok",
     "timestamp": 1672299009713,
     "user": {
      "displayName": "Venkata Reddy Konasani (Venky)",
      "userId": "11388081409849462561"
     },
     "user_tz": -330
    },
    "id": "afc9bf28",
    "outputId": "a576bf41-579e-45b6-e532-0487b554eef8"
   },
   "outputs": [],
   "source": [
    "sum_of_sq(a=1,b=2,c=3,d=4)"
   ]
  },
  {
   "cell_type": "code",
   "execution_count": null,
   "metadata": {
    "colab": {
     "base_uri": "https://localhost:8080/"
    },
    "executionInfo": {
     "elapsed": 238,
     "status": "ok",
     "timestamp": 1672299009714,
     "user": {
      "displayName": "Venkata Reddy Konasani (Venky)",
      "userId": "11388081409849462561"
     },
     "user_tz": -330
    },
    "id": "12027e8d",
    "outputId": "4c4f9488-a8dc-4810-aace-9568c018a5d5"
   },
   "outputs": [],
   "source": [
    "sum_of_sq(1,2,3,4)"
   ]
  },
  {
   "cell_type": "markdown",
   "metadata": {
    "id": "b0e895eb"
   },
   "source": [
    "## args"
   ]
  },
  {
   "cell_type": "code",
   "execution_count": null,
   "metadata": {
    "executionInfo": {
     "elapsed": 229,
     "status": "ok",
     "timestamp": 1672299009714,
     "user": {
      "displayName": "Venkata Reddy Konasani (Venky)",
      "userId": "11388081409849462561"
     },
     "user_tz": -330
    },
    "id": "b7dd0f10"
   },
   "outputs": [],
   "source": [
    "def any_sum_of_sq(*args):\n",
    "    ss_val=0\n",
    "    for n in args:\n",
    "        ss_val=ss_val+pow(n,2)\n",
    "    return(ss_val)"
   ]
  },
  {
   "cell_type": "code",
   "execution_count": null,
   "metadata": {
    "colab": {
     "base_uri": "https://localhost:8080/"
    },
    "executionInfo": {
     "elapsed": 228,
     "status": "ok",
     "timestamp": 1672299009714,
     "user": {
      "displayName": "Venkata Reddy Konasani (Venky)",
      "userId": "11388081409849462561"
     },
     "user_tz": -330
    },
    "id": "027eab28",
    "outputId": "78f7d38b-6177-4ec9-d899-75473d74196d"
   },
   "outputs": [],
   "source": [
    "any_sum_of_sq(1,2,3)"
   ]
  },
  {
   "cell_type": "markdown",
   "metadata": {
    "id": "699e657a"
   },
   "source": [
    "## args and keywords"
   ]
  },
  {
   "cell_type": "code",
   "execution_count": null,
   "metadata": {
    "executionInfo": {
     "elapsed": 209,
     "status": "ok",
     "timestamp": 1672299009715,
     "user": {
      "displayName": "Venkata Reddy Konasani (Venky)",
      "userId": "11388081409849462561"
     },
     "user_tz": -330
    },
    "id": "0f0861f4"
   },
   "outputs": [],
   "source": [
    "def any_sum_of_sq1(*args, power):\n",
    "    ss_val=0\n",
    "    for n in args:\n",
    "        ss_val=ss_val+pow(n,power)\n",
    "    return(ss_val)"
   ]
  },
  {
   "cell_type": "code",
   "execution_count": null,
   "metadata": {
    "colab": {
     "base_uri": "https://localhost:8080/"
    },
    "executionInfo": {
     "elapsed": 206,
     "status": "ok",
     "timestamp": 1672299009716,
     "user": {
      "displayName": "Venkata Reddy Konasani (Venky)",
      "userId": "11388081409849462561"
     },
     "user_tz": -330
    },
    "id": "5814da9d",
    "outputId": "4eab0b14-14d6-4ee0-a5d5-dd29b1d515cd"
   },
   "outputs": [],
   "source": [
    "any_sum_of_sq1(1,2,3, power=1)"
   ]
  },
  {
   "cell_type": "code",
   "execution_count": null,
   "metadata": {
    "colab": {
     "base_uri": "https://localhost:8080/"
    },
    "executionInfo": {
     "elapsed": 197,
     "status": "ok",
     "timestamp": 1672299009717,
     "user": {
      "displayName": "Venkata Reddy Konasani (Venky)",
      "userId": "11388081409849462561"
     },
     "user_tz": -330
    },
    "id": "1e88be47",
    "outputId": "49ad46a3-2b50-4de5-d05e-756aa0ffbc2c"
   },
   "outputs": [],
   "source": [
    "any_sum_of_sq1(1,2,3, power=2)"
   ]
  },
  {
   "cell_type": "code",
   "execution_count": null,
   "metadata": {
    "colab": {
     "base_uri": "https://localhost:8080/"
    },
    "executionInfo": {
     "elapsed": 188,
     "status": "ok",
     "timestamp": 1672299009717,
     "user": {
      "displayName": "Venkata Reddy Konasani (Venky)",
      "userId": "11388081409849462561"
     },
     "user_tz": -330
    },
    "id": "7f0256c6",
    "outputId": "8239197c-5cde-477c-9464-44e1125dc0ed"
   },
   "outputs": [],
   "source": [
    "any_sum_of_sq1(1,-2,-3, power=3)"
   ]
  },
  {
   "cell_type": "code",
   "execution_count": null,
   "metadata": {
    "executionInfo": {
     "elapsed": 555,
     "status": "ok",
     "timestamp": 1672302843837,
     "user": {
      "displayName": "Venkata Reddy Konasani (Venky)",
      "userId": "11388081409849462561"
     },
     "user_tz": -330
    },
    "id": "3a67b212"
   },
   "outputs": [],
   "source": [
    "def any_sum_of_sq2(*args, power, neg_numbers):\n",
    "    if neg_numbers==True:\n",
    "        ss_val=0\n",
    "        for n in args:\n",
    "            ss_val=ss_val+pow(n,power)\n",
    "        return(ss_val)\n",
    "    else:\n",
    "        return(\"Negative numbers passed as input\")"
   ]
  },
  {
   "cell_type": "code",
   "execution_count": null,
   "metadata": {
    "colab": {
     "base_uri": "https://localhost:8080/"
    },
    "executionInfo": {
     "elapsed": 551,
     "status": "ok",
     "timestamp": 1672302847997,
     "user": {
      "displayName": "Venkata Reddy Konasani (Venky)",
      "userId": "11388081409849462561"
     },
     "user_tz": -330
    },
    "id": "1be7bc11",
    "outputId": "f4f1e2a9-514b-49f8-aa16-a30a5a461bde"
   },
   "outputs": [],
   "source": [
    "any_sum_of_sq2(1,-2,-3, power=3, neg_numbers=True)"
   ]
  },
  {
   "cell_type": "code",
   "execution_count": null,
   "metadata": {
    "colab": {
     "base_uri": "https://localhost:8080/",
     "height": 35
    },
    "executionInfo": {
     "elapsed": 589,
     "status": "ok",
     "timestamp": 1672302850990,
     "user": {
      "displayName": "Venkata Reddy Konasani (Venky)",
      "userId": "11388081409849462561"
     },
     "user_tz": -330
    },
    "id": "a70ce540",
    "outputId": "0eaaebe8-9b38-41d6-abd4-2da44e222eac"
   },
   "outputs": [],
   "source": [
    "any_sum_of_sq2(1,-2,-3, power=3, neg_numbers=False)"
   ]
  },
  {
   "cell_type": "code",
   "execution_count": null,
   "metadata": {
    "executionInfo": {
     "elapsed": 172,
     "status": "ok",
     "timestamp": 1672299009722,
     "user": {
      "displayName": "Venkata Reddy Konasani (Venky)",
      "userId": "11388081409849462561"
     },
     "user_tz": -330
    },
    "id": "73ad8dd4"
   },
   "outputs": [],
   "source": [
    "def any_sum_of_sq3(*args, power, neg_numbers, neg_power):\n",
    "    if neg_power==True:\n",
    "        print(\"Negative power is accepted\")\n",
    "      if neg_numbers==True:\n",
    "          ss_val=0\n",
    "          for n in args:\n",
    "              ss_val=ss_val+pow(n,power)\n",
    "          return(ss_val)\n",
    "      else:\n",
    "          return(\"Negative numbers passed as input\")\n",
    "    else:\n",
    "        return(\"Negative power passed as input\")"
   ]
  },
  {
   "cell_type": "code",
   "execution_count": null,
   "metadata": {
    "colab": {
     "base_uri": "https://localhost:8080/"
    },
    "executionInfo": {
     "elapsed": 177,
     "status": "ok",
     "timestamp": 1672299009727,
     "user": {
      "displayName": "Venkata Reddy Konasani (Venky)",
      "userId": "11388081409849462561"
     },
     "user_tz": -330
    },
    "id": "9bb520e4",
    "outputId": "603c974f-04f1-481b-d8d9-f976c1ec2781"
   },
   "outputs": [],
   "source": [
    "any_sum_of_sq3(1,-2,-3, power=3, neg_numbers=True, neg_power=True)"
   ]
  },
  {
   "cell_type": "markdown",
   "metadata": {
    "id": "069ccd1d"
   },
   "source": [
    "## * args and ** kwargs"
   ]
  },
  {
   "cell_type": "code",
   "execution_count": null,
   "metadata": {
    "executionInfo": {
     "elapsed": 162,
     "status": "ok",
     "timestamp": 1672299009728,
     "user": {
      "displayName": "Venkata Reddy Konasani (Venky)",
      "userId": "11388081409849462561"
     },
     "user_tz": -330
    },
    "id": "aa78b311"
   },
   "outputs": [],
   "source": [
    "def any_sum_of_sq3(*args, **Kwargs):\n",
    "    power, neg_numbers, neg_power=Kwargs.values()\n",
    "    if neg_power==True:\n",
    "        print(\"Negative power is accepted\")\n",
    "    if neg_numbers==True:\n",
    "        ss_val=0\n",
    "        for n in args:\n",
    "            ss_val=ss_val+pow(n,power)\n",
    "        return(ss_val)\n",
    "    else:\n",
    "        return(\"Negative numbers passed as input\")"
   ]
  },
  {
   "cell_type": "code",
   "execution_count": null,
   "metadata": {
    "colab": {
     "base_uri": "https://localhost:8080/"
    },
    "executionInfo": {
     "elapsed": 163,
     "status": "ok",
     "timestamp": 1672299009729,
     "user": {
      "displayName": "Venkata Reddy Konasani (Venky)",
      "userId": "11388081409849462561"
     },
     "user_tz": -330
    },
    "id": "95736fb6",
    "outputId": "fd3eb693-bb7c-4c8d-fa62-f1484fd73a0c"
   },
   "outputs": [],
   "source": [
    "kwargs={\"power\":3, \"neg_numbers\":True, \"neg_power\":True}\n",
    "args=(1,-2,-3)\n",
    "any_sum_of_sq3(*args, **kwargs)"
   ]
  },
  {
   "cell_type": "markdown",
   "metadata": {
    "id": "b97c0863"
   },
   "source": [
    "## LAB: args and kwargs"
   ]
  },
  {
   "cell_type": "code",
   "execution_count": null,
   "metadata": {
    "executionInfo": {
     "elapsed": 155,
     "status": "ok",
     "timestamp": 1672299009730,
     "user": {
      "displayName": "Venkata Reddy Konasani (Venky)",
      "userId": "11388081409849462561"
     },
     "user_tz": -330
    },
    "id": "a085a1d8"
   },
   "outputs": [],
   "source": [
    "def my_class_report(a,b,c,d):\n",
    "    accuracy=(a+d)/(a+b+c+d)\n",
    "    print(\"accuracy is {:0.2%}\".format(accuracy))\n",
    "    return"
   ]
  },
  {
   "cell_type": "code",
   "execution_count": null,
   "metadata": {
    "colab": {
     "base_uri": "https://localhost:8080/"
    },
    "executionInfo": {
     "elapsed": 156,
     "status": "ok",
     "timestamp": 1672299009731,
     "user": {
      "displayName": "Venkata Reddy Konasani (Venky)",
      "userId": "11388081409849462561"
     },
     "user_tz": -330
    },
    "id": "16d7f8ae",
    "outputId": "0f0d3ce8-481a-42ca-a003-581ce7afd0be"
   },
   "outputs": [],
   "source": [
    "my_class_report(400,150,50,400)"
   ]
  },
  {
   "cell_type": "code",
   "execution_count": null,
   "metadata": {
    "executionInfo": {
     "elapsed": 151,
     "status": "ok",
     "timestamp": 1672299009732,
     "user": {
      "displayName": "Venkata Reddy Konasani (Venky)",
      "userId": "11388081409849462561"
     },
     "user_tz": -330
    },
    "id": "b15dd70f"
   },
   "outputs": [],
   "source": [
    "def my_class_report(*args):\n",
    "    a, b, c, d= args\n",
    "    accuracy=(a+d)/(a+b+c+d)\n",
    "    print(\"accuracy is {:0.2%}\".format(accuracy))\n",
    "    return"
   ]
  },
  {
   "cell_type": "code",
   "execution_count": null,
   "metadata": {
    "colab": {
     "base_uri": "https://localhost:8080/"
    },
    "executionInfo": {
     "elapsed": 150,
     "status": "ok",
     "timestamp": 1672299009732,
     "user": {
      "displayName": "Venkata Reddy Konasani (Venky)",
      "userId": "11388081409849462561"
     },
     "user_tz": -330
    },
    "id": "38c1c488",
    "outputId": "811f6a9b-0676-419a-d573-427bdfb1c927"
   },
   "outputs": [],
   "source": [
    "cm_list=[400,150,50,400]\n",
    "my_class_report(*cm_list)"
   ]
  },
  {
   "cell_type": "code",
   "execution_count": null,
   "metadata": {
    "executionInfo": {
     "elapsed": 137,
     "status": "ok",
     "timestamp": 1672299009732,
     "user": {
      "displayName": "Venkata Reddy Konasani (Venky)",
      "userId": "11388081409849462561"
     },
     "user_tz": -330
    },
    "id": "8a6ece01"
   },
   "outputs": [],
   "source": [
    "def my_class_report(*args, recall= True, precision=True):\n",
    "    a, b, c, d= args\n",
    "    accuracy=(a+d)/(a+b+c+d)\n",
    "    recall0=(a)/(a+b)\n",
    "    recall1=(d)/(c+d)\n",
    "    precision0=(a)/(a+c)\n",
    "    precision1=(d)/(b+d)\n",
    "    print(\"accuracy is {:0.2%}\".format(accuracy))\n",
    "    if recall== True:\n",
    "        print(\"recall0 is {:0.2%}\".format(recall0))\n",
    "        print(\"recall1 is {:0.2%}\".format(recall1))\n",
    "    if precision== True:\n",
    "        print(\"precision0 is {:0.2%}\".format(precision0))\n",
    "        print(\"precision1 is {:0.2%}\".format(precision1))\n",
    "    return"
   ]
  },
  {
   "cell_type": "code",
   "execution_count": null,
   "metadata": {
    "colab": {
     "base_uri": "https://localhost:8080/"
    },
    "executionInfo": {
     "elapsed": 136,
     "status": "ok",
     "timestamp": 1672299009733,
     "user": {
      "displayName": "Venkata Reddy Konasani (Venky)",
      "userId": "11388081409849462561"
     },
     "user_tz": -330
    },
    "id": "31988726",
    "outputId": "f9a02512-76c5-4e07-ed79-973738241458"
   },
   "outputs": [],
   "source": [
    "cm_list=[400,150,50,400]\n",
    "my_class_report(*cm_list,recall= True, precision=True)"
   ]
  },
  {
   "cell_type": "code",
   "execution_count": null,
   "metadata": {
    "colab": {
     "base_uri": "https://localhost:8080/"
    },
    "executionInfo": {
     "elapsed": 123,
     "status": "ok",
     "timestamp": 1672299009733,
     "user": {
      "displayName": "Venkata Reddy Konasani (Venky)",
      "userId": "11388081409849462561"
     },
     "user_tz": -330
    },
    "id": "cd73e688",
    "outputId": "6c953ad4-f898-4775-d3d3-96351235cfbb"
   },
   "outputs": [],
   "source": [
    "cm_list=[400,150,50,400]\n",
    "my_class_report(*cm_list,recall= True, precision=False)"
   ]
  },
  {
   "cell_type": "code",
   "execution_count": null,
   "metadata": {
    "executionInfo": {
     "elapsed": 120,
     "status": "ok",
     "timestamp": 1672299009734,
     "user": {
      "displayName": "Venkata Reddy Konasani (Venky)",
      "userId": "11388081409849462561"
     },
     "user_tz": -330
    },
    "id": "d95d195a"
   },
   "outputs": [],
   "source": [
    "def my_class_report(*args, **kwargs):\n",
    "    a, b, c, d= args\n",
    "    recall, precision= kwargs.values()\n",
    "    accuracy=(a+d)/(a+b+c+d)\n",
    "    recall0=(a)/(a+b)\n",
    "    recall1=(d)/(c+d)\n",
    "    precision0=(a)/(a+c)\n",
    "    precision1=(d)/(b+d)\n",
    "    print(\"accuracy is {:0.2%}\".format(accuracy))\n",
    "    if recall== True:\n",
    "        print(\"recall0 is {:0.2%}\".format(recall0))\n",
    "        print(\"recall1 is {:0.2%}\".format(recall1))\n",
    "    if precision== True:\n",
    "        print(\"precision0 is {:0.2%}\".format(precision0))\n",
    "        print(\"precision1 is {:0.2%}\".format(precision1))\n",
    "    return"
   ]
  },
  {
   "cell_type": "code",
   "execution_count": null,
   "metadata": {
    "colab": {
     "base_uri": "https://localhost:8080/"
    },
    "executionInfo": {
     "elapsed": 120,
     "status": "ok",
     "timestamp": 1672299009734,
     "user": {
      "displayName": "Venkata Reddy Konasani (Venky)",
      "userId": "11388081409849462561"
     },
     "user_tz": -330
    },
    "id": "a417ba61",
    "outputId": "bd87cc99-800f-4d14-bb4b-7766529799b1"
   },
   "outputs": [],
   "source": [
    "cm_list=[400,150,50,400]\n",
    "kwargs ={\"recall\":True, \"precision\":False}\n",
    "my_class_report(*cm_list,**kwargs)"
   ]
  },
  {
   "cell_type": "markdown",
   "metadata": {
    "id": "639c356f"
   },
   "source": [
    "# RegEx functions"
   ]
  },
  {
   "cell_type": "code",
   "execution_count": null,
   "metadata": {
    "colab": {
     "base_uri": "https://localhost:8080/",
     "height": 870
    },
    "executionInfo": {
     "elapsed": 118,
     "status": "ok",
     "timestamp": 1672299009736,
     "user": {
      "displayName": "Venkata Reddy Konasani (Venky)",
      "userId": "11388081409849462561"
     },
     "user_tz": -330
    },
    "id": "62d77f0c",
    "outputId": "315f7b19-6aab-4b80-f0f3-cd31316ff687"
   },
   "outputs": [],
   "source": [
    "air_bnb_ny"
   ]
  },
  {
   "cell_type": "markdown",
   "metadata": {
    "id": "f413d4a9"
   },
   "source": [
    "## len()"
   ]
  },
  {
   "cell_type": "code",
   "execution_count": null,
   "metadata": {
    "colab": {
     "base_uri": "https://localhost:8080/"
    },
    "executionInfo": {
     "elapsed": 117,
     "status": "ok",
     "timestamp": 1672299009737,
     "user": {
      "displayName": "Venkata Reddy Konasani (Venky)",
      "userId": "11388081409849462561"
     },
     "user_tz": -330
    },
    "id": "ff266184",
    "outputId": "056851e5-68fc-4f80-f454-235eea79b7f8"
   },
   "outputs": [],
   "source": [
    "len(air_bnb_ny[\"name\"])"
   ]
  },
  {
   "cell_type": "code",
   "execution_count": null,
   "metadata": {
    "colab": {
     "base_uri": "https://localhost:8080/"
    },
    "executionInfo": {
     "elapsed": 112,
     "status": "ok",
     "timestamp": 1672299009738,
     "user": {
      "displayName": "Venkata Reddy Konasani (Venky)",
      "userId": "11388081409849462561"
     },
     "user_tz": -330
    },
    "id": "60835d50",
    "outputId": "5d961997-4917-4c32-eb8b-e549408e924d"
   },
   "outputs": [],
   "source": [
    "air_bnb_ny[\"name_length\"]=air_bnb_ny[\"name\"].str.len()\n",
    "air_bnb_ny[\"name_length\"]"
   ]
  },
  {
   "cell_type": "markdown",
   "metadata": {
    "id": "b4b2eece"
   },
   "source": [
    "## startswith() and endswith()"
   ]
  },
  {
   "cell_type": "code",
   "execution_count": null,
   "metadata": {
    "executionInfo": {
     "elapsed": 108,
     "status": "aborted",
     "timestamp": 1672299009740,
     "user": {
      "displayName": "Venkata Reddy Konasani (Venky)",
      "userId": "11388081409849462561"
     },
     "user_tz": -330
    },
    "id": "58427929"
   },
   "outputs": [],
   "source": [
    "mask=air_bnb_ny[\"name\"].str.startswith(\"Affordable\", na=False)\n",
    "air_bnb_ny[mask]"
   ]
  },
  {
   "cell_type": "code",
   "execution_count": null,
   "metadata": {
    "executionInfo": {
     "elapsed": 108,
     "status": "aborted",
     "timestamp": 1672299009740,
     "user": {
      "displayName": "Venkata Reddy Konasani (Venky)",
      "userId": "11388081409849462561"
     },
     "user_tz": -330
    },
    "id": "f9b9da88"
   },
   "outputs": [],
   "source": [
    "mask=air_bnb_ny[\"name\"].str.endswith(\"hotel\", na=False)\n",
    "air_bnb_ny[mask]"
   ]
  },
  {
   "cell_type": "markdown",
   "metadata": {
    "id": "b0ab8825"
   },
   "source": [
    "## find()"
   ]
  },
  {
   "cell_type": "code",
   "execution_count": null,
   "metadata": {
    "executionInfo": {
     "elapsed": 109,
     "status": "aborted",
     "timestamp": 1672299009741,
     "user": {
      "displayName": "Venkata Reddy Konasani (Venky)",
      "userId": "11388081409849462561"
     },
     "user_tz": -330
    },
    "id": "010e711b"
   },
   "outputs": [],
   "source": [
    "\"Entire home/apt\".find(\"apt\")"
   ]
  },
  {
   "cell_type": "code",
   "execution_count": null,
   "metadata": {
    "executionInfo": {
     "elapsed": 109,
     "status": "aborted",
     "timestamp": 1672299009741,
     "user": {
      "displayName": "Venkata Reddy Konasani (Venky)",
      "userId": "11388081409849462561"
     },
     "user_tz": -330
    },
    "id": "6b6a32bd"
   },
   "outputs": [],
   "source": [
    "# returns -1 if not found\n",
    "\"small room\".find(\"apt\")"
   ]
  },
  {
   "cell_type": "code",
   "execution_count": null,
   "metadata": {
    "executionInfo": {
     "elapsed": 109,
     "status": "aborted",
     "timestamp": 1672299009742,
     "user": {
      "displayName": "Venkata Reddy Konasani (Venky)",
      "userId": "11388081409849462561"
     },
     "user_tz": -330
    },
    "id": "ce7233e4"
   },
   "outputs": [],
   "source": [
    "air_bnb_ny[\"room_type\"].value_counts()"
   ]
  },
  {
   "cell_type": "code",
   "execution_count": null,
   "metadata": {
    "executionInfo": {
     "elapsed": 109,
     "status": "aborted",
     "timestamp": 1672299009742,
     "user": {
      "displayName": "Venkata Reddy Konasani (Venky)",
      "userId": "11388081409849462561"
     },
     "user_tz": -330
    },
    "id": "78a82a02"
   },
   "outputs": [],
   "source": [
    "mask=air_bnb_ny[\"room_type\"].str.find(\"Shared\")!= -1\n",
    "air_bnb_ny[mask][\"room_type\"]"
   ]
  },
  {
   "cell_type": "markdown",
   "metadata": {
    "id": "81791e0e"
   },
   "source": [
    "## split()"
   ]
  },
  {
   "cell_type": "code",
   "execution_count": null,
   "metadata": {
    "executionInfo": {
     "elapsed": 110,
     "status": "aborted",
     "timestamp": 1672299009743,
     "user": {
      "displayName": "Venkata Reddy Konasani (Venky)",
      "userId": "11388081409849462561"
     },
     "user_tz": -330
    },
    "id": "96a7b36d"
   },
   "outputs": [],
   "source": [
    "#Space, tab and line space by default\n",
    "\"Entire home/apt\".split()"
   ]
  },
  {
   "cell_type": "code",
   "execution_count": null,
   "metadata": {
    "executionInfo": {
     "elapsed": 110,
     "status": "aborted",
     "timestamp": 1672299009743,
     "user": {
      "displayName": "Venkata Reddy Konasani (Venky)",
      "userId": "11388081409849462561"
     },
     "user_tz": -330
    },
    "id": "6e9c5cac"
   },
   "outputs": [],
   "source": [
    "\"Entire home/apt\\tother\".split()"
   ]
  },
  {
   "cell_type": "code",
   "execution_count": null,
   "metadata": {
    "executionInfo": {
     "elapsed": 111,
     "status": "aborted",
     "timestamp": 1672299009744,
     "user": {
      "displayName": "Venkata Reddy Konasani (Venky)",
      "userId": "11388081409849462561"
     },
     "user_tz": -330
    },
    "id": "38b1533a"
   },
   "outputs": [],
   "source": [
    "\"Entire home/apt\\tother\\nNA\".split()"
   ]
  },
  {
   "cell_type": "code",
   "execution_count": null,
   "metadata": {
    "executionInfo": {
     "elapsed": 110,
     "status": "aborted",
     "timestamp": 1672299009744,
     "user": {
      "displayName": "Venkata Reddy Konasani (Venky)",
      "userId": "11388081409849462561"
     },
     "user_tz": -330
    },
    "id": "4a71bcf1"
   },
   "outputs": [],
   "source": [
    "\"Entire home/apt\\tother\\nNA\".split(\"/\")"
   ]
  },
  {
   "cell_type": "code",
   "execution_count": null,
   "metadata": {
    "executionInfo": {
     "elapsed": 111,
     "status": "aborted",
     "timestamp": 1672299009745,
     "user": {
      "displayName": "Venkata Reddy Konasani (Venky)",
      "userId": "11388081409849462561"
     },
     "user_tz": -330
    },
    "id": "38aa9b11"
   },
   "outputs": [],
   "source": [
    "air_bnb_ny[\"host_name\"].str.split(\"&\") # Two Hosts"
   ]
  },
  {
   "cell_type": "code",
   "execution_count": null,
   "metadata": {
    "executionInfo": {
     "elapsed": 112,
     "status": "aborted",
     "timestamp": 1672299009746,
     "user": {
      "displayName": "Venkata Reddy Konasani (Venky)",
      "userId": "11388081409849462561"
     },
     "user_tz": -330
    },
    "id": "45046ef1"
   },
   "outputs": [],
   "source": [
    "#Doesn't return what we inteded for\n",
    "air_bnb_ny[\"host_name\"].str.split(\"&\")[0] # First Host"
   ]
  },
  {
   "cell_type": "code",
   "execution_count": null,
   "metadata": {
    "executionInfo": {
     "elapsed": 62513,
     "status": "aborted",
     "timestamp": 1672299009747,
     "user": {
      "displayName": "Venkata Reddy Konasani (Venky)",
      "userId": "11388081409849462561"
     },
     "user_tz": -330
    },
    "id": "30d73a13"
   },
   "outputs": [],
   "source": [
    "air_bnb_ny[\"First_host\"]=air_bnb_ny[\"host_name\"].str.split(\"&\").str.get(0)\n",
    "air_bnb_ny[\"First_host\"]"
   ]
  },
  {
   "cell_type": "code",
   "execution_count": null,
   "metadata": {
    "executionInfo": {
     "elapsed": 62501,
     "status": "aborted",
     "timestamp": 1672299009748,
     "user": {
      "displayName": "Venkata Reddy Konasani (Venky)",
      "userId": "11388081409849462561"
     },
     "user_tz": -330
    },
    "id": "5dfd3e94"
   },
   "outputs": [],
   "source": [
    "air_bnb_ny[\"host_name\"].str.split(\"&\").str.get(1) # Second Host"
   ]
  },
  {
   "cell_type": "markdown",
   "metadata": {
    "id": "d4d57320"
   },
   "source": [
    "## Contains()"
   ]
  },
  {
   "cell_type": "code",
   "execution_count": null,
   "metadata": {
    "executionInfo": {
     "elapsed": 62493,
     "status": "aborted",
     "timestamp": 1672299009748,
     "user": {
      "displayName": "Venkata Reddy Konasani (Venky)",
      "userId": "11388081409849462561"
     },
     "user_tz": -330
    },
    "id": "917d56f5"
   },
   "outputs": [],
   "source": [
    "mask=air_bnb_ny[\"name\"].str.contains(\"only for\", na=False)\n",
    "air_bnb_ny[mask][\"name\"]"
   ]
  },
  {
   "cell_type": "markdown",
   "metadata": {
    "id": "6801c366"
   },
   "source": [
    "## replace()"
   ]
  },
  {
   "cell_type": "code",
   "execution_count": null,
   "metadata": {
    "executionInfo": {
     "elapsed": 62483,
     "status": "aborted",
     "timestamp": 1672299009749,
     "user": {
      "displayName": "Venkata Reddy Konasani (Venky)",
      "userId": "11388081409849462561"
     },
     "user_tz": -330
    },
    "id": "6f228fde"
   },
   "outputs": [],
   "source": [
    "air_bnb_ny[\"room_type_new\"]=air_bnb_ny[\"room_type\"].str.replace(\"Entire home/apt\", \"Guest House\")\n",
    "air_bnb_ny[\"room_type_new\"].sample(20)"
   ]
  },
  {
   "cell_type": "code",
   "execution_count": null,
   "metadata": {
    "executionInfo": {
     "elapsed": 62472,
     "status": "aborted",
     "timestamp": 1672299009749,
     "user": {
      "displayName": "Venkata Reddy Konasani (Venky)",
      "userId": "11388081409849462561"
     },
     "user_tz": -330
    },
    "id": "b9e59857"
   },
   "outputs": [],
   "source": [
    "air_bnb_ny[\"room_type_new\"]=air_bnb_ny[\"room_type\"].str.replace(\"entire home/apt\", \"Guest House\", case=False) \n",
    "air_bnb_ny[\"room_type_new\"].sample(20)"
   ]
  },
  {
   "cell_type": "markdown",
   "metadata": {
    "id": "17428e83"
   },
   "source": [
    "## More regular expressions"
   ]
  },
  {
   "cell_type": "markdown",
   "metadata": {
    "id": "4a770d6a"
   },
   "source": [
    "Regex101.com https://regex101.com/"
   ]
  },
  {
   "cell_type": "code",
   "execution_count": null,
   "metadata": {
    "executionInfo": {
     "elapsed": 62463,
     "status": "aborted",
     "timestamp": 1672299009749,
     "user": {
      "displayName": "Venkata Reddy Konasani (Venky)",
      "userId": "11388081409849462561"
     },
     "user_tz": -330
    },
    "id": "b6d61a35"
   },
   "outputs": [],
   "source": [
    "# Testing text \n",
    "'''\n",
    "My name is Jimmy \n",
    "my phone number is +91- 98868812848\n",
    "I love cricket\n",
    "I am a full stack developer \n",
    "my email is jimmy_fullstack.123@gmail.com\n",
    "my address is 19/23-4, 6th lane, Manhattan, West Side.\n",
    "'''"
   ]
  },
  {
   "cell_type": "code",
   "execution_count": null,
   "metadata": {
    "executionInfo": {
     "elapsed": 62448,
     "status": "aborted",
     "timestamp": 1672299009750,
     "user": {
      "displayName": "Venkata Reddy Konasani (Venky)",
      "userId": "11388081409849462561"
     },
     "user_tz": -330
    },
    "id": "5f8a965c"
   },
   "outputs": [],
   "source": [
    "twitter_data=pd.read_csv(\"https://raw.githubusercontent.com/giridhar276/Datasets/master/Twitter_Sentiment/Twitter_Sentiment_Data.csv\")\n",
    "twitter_data.iloc[300:350]"
   ]
  },
  {
   "cell_type": "code",
   "execution_count": null,
   "metadata": {
    "executionInfo": {
     "elapsed": 62441,
     "status": "aborted",
     "timestamp": 1672299009751,
     "user": {
      "displayName": "Venkata Reddy Konasani (Venky)",
      "userId": "11388081409849462561"
     },
     "user_tz": -330
    },
    "id": "daa17461"
   },
   "outputs": [],
   "source": [
    "import re\n",
    "twitter_data[\"raw_removed_digits\"]=twitter_data[\"raw_tweet\"].apply(lambda x: re.sub(r\"\\d+\",\" \",str(x))) #Remove digits\n",
    "twitter_data.iloc[300:350]"
   ]
  },
  {
   "cell_type": "markdown",
   "metadata": {
    "id": "6f88feef"
   },
   "source": [
    "# map() and filter() function"
   ]
  },
  {
   "cell_type": "markdown",
   "metadata": {
    "id": "5abaeb94"
   },
   "source": [
    "## map()"
   ]
  },
  {
   "cell_type": "code",
   "execution_count": null,
   "metadata": {
    "id": "89SRRTj7MSKI"
   },
   "outputs": [],
   "source": [
    "numbers=[1,2,3,4,5,6,7,8,9]\n",
    "\n",
    "def add_five(x):\n",
    "  return(x+5)"
   ]
  },
  {
   "cell_type": "code",
   "execution_count": null,
   "metadata": {
    "colab": {
     "base_uri": "https://localhost:8080/"
    },
    "executionInfo": {
     "elapsed": 10,
     "status": "ok",
     "timestamp": 1672306840497,
     "user": {
      "displayName": "Venkata Reddy Konasani (Venky)",
      "userId": "11388081409849462561"
     },
     "user_tz": -330
    },
    "id": "jjsSQ7iIP8hM",
    "outputId": "a3b02b6b-c5dd-4049-b982-1f8e1b92c152"
   },
   "outputs": [],
   "source": [
    "final_result= map(add_five,numbers)\n",
    "print(list(final_result))"
   ]
  },
  {
   "cell_type": "code",
   "execution_count": null,
   "metadata": {
    "executionInfo": {
     "elapsed": 62435,
     "status": "aborted",
     "timestamp": 1672299009753,
     "user": {
      "displayName": "Venkata Reddy Konasani (Venky)",
      "userId": "11388081409849462561"
     },
     "user_tz": -330
    },
    "id": "701bc34f"
   },
   "outputs": [],
   "source": [
    "mask=air_bnb_ny[\"name\"].str.contains(\"only for\", na=False)\n",
    "sp_names=set(air_bnb_ny[\"name\"][mask])\n",
    "sp_names"
   ]
  },
  {
   "cell_type": "code",
   "execution_count": null,
   "metadata": {
    "executionInfo": {
     "elapsed": 62429,
     "status": "aborted",
     "timestamp": 1672299009754,
     "user": {
      "displayName": "Venkata Reddy Konasani (Venky)",
      "userId": "11388081409849462561"
     },
     "user_tz": -330
    },
    "id": "a2452f4b"
   },
   "outputs": [],
   "source": [
    "def clean_tile(x):\n",
    "    return(x.replace(\"only for\", \" \"))\n",
    "\n",
    "result=map(clean_tile, set(sp_names))\n",
    "print(list(result))"
   ]
  },
  {
   "cell_type": "code",
   "execution_count": null,
   "metadata": {
    "executionInfo": {
     "elapsed": 62417,
     "status": "aborted",
     "timestamp": 1672299009754,
     "user": {
      "displayName": "Venkata Reddy Konasani (Venky)",
      "userId": "11388081409849462561"
     },
     "user_tz": -330
    },
    "id": "f5c22f48"
   },
   "outputs": [],
   "source": [
    "result=map(lambda x: clean_tile(x), sp_names)\n",
    "print(list(result))"
   ]
  },
  {
   "cell_type": "markdown",
   "metadata": {
    "id": "5e8d8a96"
   },
   "source": [
    "## filter() "
   ]
  },
  {
   "cell_type": "code",
   "execution_count": null,
   "metadata": {
    "colab": {
     "base_uri": "https://localhost:8080/"
    },
    "executionInfo": {
     "elapsed": 26,
     "status": "ok",
     "timestamp": 1672307494762,
     "user": {
      "displayName": "Venkata Reddy Konasani (Venky)",
      "userId": "11388081409849462561"
     },
     "user_tz": -330
    },
    "id": "i8qnzLbURW30",
    "outputId": "719ffde7-f70f-4f54-a262-33d894c6133b"
   },
   "outputs": [],
   "source": [
    "def isodd(x):\n",
    "  return(x%2 != 0)\n",
    "\n",
    "numbers=[1,2,3,4,5,6,7]\n",
    "result=filter(isodd ,numbers )\n",
    "tuple(result)"
   ]
  },
  {
   "cell_type": "code",
   "execution_count": null,
   "metadata": {
    "colab": {
     "base_uri": "https://localhost:8080/"
    },
    "executionInfo": {
     "elapsed": 18,
     "status": "ok",
     "timestamp": 1672307614061,
     "user": {
      "displayName": "Venkata Reddy Konasani (Venky)",
      "userId": "11388081409849462561"
     },
     "user_tz": -330
    },
    "id": "JTYE833lRW9V",
    "outputId": "9b90d5a7-d003-4a49-a094-145c325eb0e2"
   },
   "outputs": [],
   "source": [
    "def islongword(x):\n",
    "  return(len(x)>8)\n",
    "\n",
    "Sample_words=[\"Elegant\", \"room\", \"in\", \"Manhattan\", \"only for woman\"]\n",
    "result=filter(islongword ,Sample_words )\n",
    "tuple(result)"
   ]
  },
  {
   "cell_type": "code",
   "execution_count": null,
   "metadata": {
    "executionInfo": {
     "elapsed": 25,
     "status": "aborted",
     "timestamp": 1672299010627,
     "user": {
      "displayName": "Venkata Reddy Konasani (Venky)",
      "userId": "11388081409849462561"
     },
     "user_tz": -330
    },
    "id": "79bcb1c2"
   },
   "outputs": [],
   "source": [
    "all_names=air_bnb_ny[\"name\"]\n",
    "\n",
    "def clean_tile_f(x):\n",
    "    result=str(x).find(\"only for\")!= -1\n",
    "    return(result)\n",
    "\n",
    "result1=filter(clean_tile_f, set(all_names))\n",
    "print(list(result1))"
   ]
  },
  {
   "cell_type": "code",
   "execution_count": null,
   "metadata": {
    "executionInfo": {
     "elapsed": 25,
     "status": "aborted",
     "timestamp": 1672299010628,
     "user": {
      "displayName": "Venkata Reddy Konasani (Venky)",
      "userId": "11388081409849462561"
     },
     "user_tz": -330
    },
    "id": "77adb242"
   },
   "outputs": [],
   "source": [
    "result1=filter(lambda x: clean_tile_f(x), all_names)\n",
    "print(list(result1))"
   ]
  },
  {
   "cell_type": "markdown",
   "metadata": {
    "id": "ea21cb67"
   },
   "source": [
    "# OOP"
   ]
  },
  {
   "cell_type": "markdown",
   "metadata": {
    "id": "51b5c2c6"
   },
   "source": [
    "## Class and Object"
   ]
  },
  {
   "cell_type": "code",
   "execution_count": null,
   "metadata": {
    "executionInfo": {
     "elapsed": 25,
     "status": "aborted",
     "timestamp": 1672299010628,
     "user": {
      "displayName": "Venkata Reddy Konasani (Venky)",
      "userId": "11388081409849462561"
     },
     "user_tz": -330
    },
    "id": "947ffb73"
   },
   "outputs": [],
   "source": [
    "x=30\n",
    "print(type(x))"
   ]
  },
  {
   "cell_type": "code",
   "execution_count": null,
   "metadata": {
    "executionInfo": {
     "elapsed": 24,
     "status": "aborted",
     "timestamp": 1672299010628,
     "user": {
      "displayName": "Venkata Reddy Konasani (Venky)",
      "userId": "11388081409849462561"
     },
     "user_tz": -330
    },
    "id": "be11fce5"
   },
   "outputs": [],
   "source": [
    "msg=\"my_message\"\n",
    "print(type(msg))"
   ]
  },
  {
   "cell_type": "markdown",
   "metadata": {
    "id": "d6dddf41"
   },
   "source": [
    "## Define a class"
   ]
  },
  {
   "cell_type": "code",
   "execution_count": null,
   "metadata": {
    "executionInfo": {
     "elapsed": 25,
     "status": "aborted",
     "timestamp": 1672299010629,
     "user": {
      "displayName": "Venkata Reddy Konasani (Venky)",
      "userId": "11388081409849462561"
     },
     "user_tz": -330
    },
    "id": "4bd81141"
   },
   "outputs": [],
   "source": [
    "class any_point:\n",
    "    def __init__(self, x_cord, y_cord):\n",
    "        self.x=x_cord\n",
    "        self.y=y_cord\n",
    "        print(\"this point = (\", self.x, self.y, \")\")"
   ]
  },
  {
   "cell_type": "markdown",
   "metadata": {
    "id": "39783907"
   },
   "source": [
    "## Define objects"
   ]
  },
  {
   "cell_type": "code",
   "execution_count": null,
   "metadata": {
    "executionInfo": {
     "elapsed": 25,
     "status": "aborted",
     "timestamp": 1672299010629,
     "user": {
      "displayName": "Venkata Reddy Konasani (Venky)",
      "userId": "11388081409849462561"
     },
     "user_tz": -330
    },
    "id": "2b0ffc43"
   },
   "outputs": [],
   "source": [
    "point1=any_point(0,0)"
   ]
  },
  {
   "cell_type": "code",
   "execution_count": null,
   "metadata": {
    "executionInfo": {
     "elapsed": 25,
     "status": "aborted",
     "timestamp": 1672299010630,
     "user": {
      "displayName": "Venkata Reddy Konasani (Venky)",
      "userId": "11388081409849462561"
     },
     "user_tz": -330
    },
    "id": "5877cb4b"
   },
   "outputs": [],
   "source": [
    "point2=any_point(4,5)"
   ]
  },
  {
   "cell_type": "markdown",
   "metadata": {
    "id": "fa57903d"
   },
   "source": [
    "## methods inside a class"
   ]
  },
  {
   "cell_type": "code",
   "execution_count": null,
   "metadata": {
    "executionInfo": {
     "elapsed": 24,
     "status": "aborted",
     "timestamp": 1672299010631,
     "user": {
      "displayName": "Venkata Reddy Konasani (Venky)",
      "userId": "11388081409849462561"
     },
     "user_tz": -330
    },
    "id": "cd5ed271"
   },
   "outputs": [],
   "source": [
    "class any_point:\n",
    "    def __init__(self, x_cord, y_cord):\n",
    "        self.x=x_cord\n",
    "        self.y=y_cord\n",
    "        print(\"this point = (\", self.x, self.y, \")\")\n",
    "    \n",
    "    def eu_dist(self, new_point):\n",
    "        dist=((self.x-new_point.x)**2+(self.x-new_point.x)**2)**0.5\n",
    "        return dist\n",
    "    \n",
    "    def man_dist(self, new_point):\n",
    "        dist1=abs(self.x-new_point.x)+abs(self.x-new_point.x)\n",
    "        return dist1  "
   ]
  },
  {
   "cell_type": "code",
   "execution_count": null,
   "metadata": {
    "executionInfo": {
     "elapsed": 24,
     "status": "aborted",
     "timestamp": 1672299010631,
     "user": {
      "displayName": "Venkata Reddy Konasani (Venky)",
      "userId": "11388081409849462561"
     },
     "user_tz": -330
    },
    "id": "f81a21d1"
   },
   "outputs": [],
   "source": [
    "point1=any_point(0,0)\n",
    "point2=any_point(4,5)"
   ]
  },
  {
   "cell_type": "code",
   "execution_count": null,
   "metadata": {
    "executionInfo": {
     "elapsed": 24,
     "status": "aborted",
     "timestamp": 1672299010632,
     "user": {
      "displayName": "Venkata Reddy Konasani (Venky)",
      "userId": "11388081409849462561"
     },
     "user_tz": -330
    },
    "id": "e2ad2108"
   },
   "outputs": [],
   "source": [
    "point1.eu_dist(point2)"
   ]
  },
  {
   "cell_type": "code",
   "execution_count": null,
   "metadata": {
    "executionInfo": {
     "elapsed": 25,
     "status": "aborted",
     "timestamp": 1672299010633,
     "user": {
      "displayName": "Venkata Reddy Konasani (Venky)",
      "userId": "11388081409849462561"
     },
     "user_tz": -330
    },
    "id": "183a6ede"
   },
   "outputs": [],
   "source": [
    "point1.man_dist(point2)"
   ]
  },
  {
   "cell_type": "markdown",
   "metadata": {
    "id": "b1ae324a"
   },
   "source": [
    "## Inheritence"
   ]
  },
  {
   "cell_type": "code",
   "execution_count": null,
   "metadata": {
    "executionInfo": {
     "elapsed": 24,
     "status": "aborted",
     "timestamp": 1672299010633,
     "user": {
      "displayName": "Venkata Reddy Konasani (Venky)",
      "userId": "11388081409849462561"
     },
     "user_tz": -330
    },
    "id": "e8cbb6e2"
   },
   "outputs": [],
   "source": [
    "# A new class with similar properties\n",
    "class midpoint:\n",
    "    def __init__(self, x_cord, y_cord):\n",
    "        self.x=x_cord\n",
    "        self.y=y_cord\n",
    "        print(\"this point = (\", self.x, self.y, \")\")\n",
    "            \n",
    "    def mid_point(self, new_point):\n",
    "        mid_x=(self.x+new_point.x)/2\n",
    "        mid_y=(self.y+new_point.y)/2\n",
    "        return (mid_x, mid_y)"
   ]
  },
  {
   "cell_type": "code",
   "execution_count": null,
   "metadata": {
    "executionInfo": {
     "elapsed": 24,
     "status": "aborted",
     "timestamp": 1672299010633,
     "user": {
      "displayName": "Venkata Reddy Konasani (Venky)",
      "userId": "11388081409849462561"
     },
     "user_tz": -330
    },
    "id": "3b57d337"
   },
   "outputs": [],
   "source": [
    "m=midpoint(0,0)\n",
    "n=midpoint(4,5)"
   ]
  },
  {
   "cell_type": "code",
   "execution_count": null,
   "metadata": {
    "executionInfo": {
     "elapsed": 25,
     "status": "aborted",
     "timestamp": 1672299010634,
     "user": {
      "displayName": "Venkata Reddy Konasani (Venky)",
      "userId": "11388081409849462561"
     },
     "user_tz": -330
    },
    "id": "0d564673"
   },
   "outputs": [],
   "source": [
    "m.mid_point(n)"
   ]
  },
  {
   "cell_type": "code",
   "execution_count": null,
   "metadata": {
    "executionInfo": {
     "elapsed": 24,
     "status": "aborted",
     "timestamp": 1672299010634,
     "user": {
      "displayName": "Venkata Reddy Konasani (Venky)",
      "userId": "11388081409849462561"
     },
     "user_tz": -330
    },
    "id": "073376f7"
   },
   "outputs": [],
   "source": [
    "class midpoint1(any_point):\n",
    "    def mid_point(self, new_point):\n",
    "        mid_x=(self.x+new_point.x)/2\n",
    "        mid_y=(self.y+new_point.y)/2\n",
    "        return (mid_x, mid_y)"
   ]
  },
  {
   "cell_type": "code",
   "execution_count": null,
   "metadata": {
    "executionInfo": {
     "elapsed": 24,
     "status": "aborted",
     "timestamp": 1672299010634,
     "user": {
      "displayName": "Venkata Reddy Konasani (Venky)",
      "userId": "11388081409849462561"
     },
     "user_tz": -330
    },
    "id": "3a252923"
   },
   "outputs": [],
   "source": [
    "m=midpoint1(0,0)\n",
    "n=midpoint1(4,5)"
   ]
  },
  {
   "cell_type": "code",
   "execution_count": null,
   "metadata": {
    "executionInfo": {
     "elapsed": 25,
     "status": "aborted",
     "timestamp": 1672299010635,
     "user": {
      "displayName": "Venkata Reddy Konasani (Venky)",
      "userId": "11388081409849462561"
     },
     "user_tz": -330
    },
    "id": "8e53497e"
   },
   "outputs": [],
   "source": [
    "m.mid_point(n)"
   ]
  },
  {
   "cell_type": "code",
   "execution_count": null,
   "metadata": {
    "executionInfo": {
     "elapsed": 25,
     "status": "aborted",
     "timestamp": 1672299010635,
     "user": {
      "displayName": "Venkata Reddy Konasani (Venky)",
      "userId": "11388081409849462561"
     },
     "user_tz": -330
    },
    "id": "7dffa646"
   },
   "outputs": [],
   "source": []
  },
  {
   "cell_type": "code",
   "execution_count": null,
   "metadata": {
    "executionInfo": {
     "elapsed": 25,
     "status": "aborted",
     "timestamp": 1672299010636,
     "user": {
      "displayName": "Venkata Reddy Konasani (Venky)",
      "userId": "11388081409849462561"
     },
     "user_tz": -330
    },
    "id": "7c777589"
   },
   "outputs": [],
   "source": []
  }
 ],
 "metadata": {
  "colab": {
   "authorship_tag": "ABX9TyNI2NY8mc5SP2dNO+79IlaY",
   "provenance": []
  },
  "kernelspec": {
   "display_name": "Python 3",
   "name": "python3"
  },
  "language_info": {
   "codemirror_mode": {
    "name": "ipython",
    "version": 3
   },
   "file_extension": ".py",
   "mimetype": "text/x-python",
   "name": "python",
   "nbconvert_exporter": "python",
   "pygments_lexer": "ipython3",
   "version": "3.12.5"
  }
 },
 "nbformat": 4,
 "nbformat_minor": 0
}
